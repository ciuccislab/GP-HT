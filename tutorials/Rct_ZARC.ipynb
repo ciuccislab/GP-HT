{
 "cells": [
  {
   "cell_type": "markdown",
   "metadata": {},
   "source": [
    "# Compute the charge-transfer resistance for synthetic EIS data"
   ]
  },
  {
   "cell_type": "markdown",
   "metadata": {},
   "source": [
    "In this example, we use the standard 1xZARC model to illustrate how the impedance can be recovered with Gaussian processes using either the real part, the imaginary part, or both parts of the experimental impedance. Then, we illustrate how to evaluate the charge-transfer resistance as a stochastic Gaussian variable. More details can be found in: B. Py, A. Maradesa, and F. Ciucci. \"Gaussian Processes for the Analysis of Electrochemical Impedance Spectroscopy Data: Prediction, Filtering, and Active Learning.\", preprint (2022)."
   ]
  },
  {
   "cell_type": "code",
   "execution_count": 1,
   "metadata": {},
   "outputs": [],
   "source": [
    "# import the libraries needed\n",
    "import importlib\n",
    "import GP_hilbert as gpf\n",
    "importlib.reload(gpf)\n",
    "import numpy as np\n",
    "import matplotlib.pyplot as plt\n",
    "from scipy.optimize import minimize"
   ]
  },
  {
   "cell_type": "code",
   "execution_count": 2,
   "metadata": {},
   "outputs": [],
   "source": [
    "# plot standards\n",
    "plt.rc('font', family='serif', size=15)\n",
    "plt.rc('text', usetex=True)\n",
    "plt.rc('xtick', labelsize=15)\n",
    "plt.rc('ytick', labelsize=15)"
   ]
  },
  {
   "cell_type": "code",
   "execution_count": null,
   "metadata": {},
   "outputs": [],
   "source": []
  },
  {
   "cell_type": "markdown",
   "metadata": {},
   "source": [
    "## 1) Define the synthetic impedance experiment $Z_{\\rm exp}(\\omega)$"
   ]
  },
  {
   "cell_type": "markdown",
   "metadata": {},
   "source": [
    "### 1.1) Define frequency range"
   ]
  },
  {
   "cell_type": "code",
   "execution_count": 3,
   "metadata": {},
   "outputs": [],
   "source": [
    "N_freqs = 81\n",
    "freq_vec = np.logspace(-2., 6., num=N_freqs, endpoint=True)\n",
    "omega_vec = 2.*np.pi*freq_vec"
   ]
  },
  {
   "cell_type": "markdown",
   "metadata": {},
   "source": [
    "### 1.2) Define the circuit parameters"
   ]
  },
  {
   "cell_type": "code",
   "execution_count": 4,
   "metadata": {},
   "outputs": [],
   "source": [
    "R_ct = 50. # Ohm\n",
    "R_inf = 10. # Ohm\n",
    "phi = 0.8 # dimensionless\n",
    "tau_0 = 0.1 # s\n",
    "L_0 = 0 # H"
   ]
  },
  {
   "cell_type": "markdown",
   "metadata": {},
   "source": [
    "### 1.3) Generate exact impedance $Z_{\\rm exact}(\\omega)$ "
   ]
  },
  {
   "cell_type": "code",
   "execution_count": 5,
   "metadata": {},
   "outputs": [],
   "source": [
    "T = tau_0**phi/R_ct\n",
    "Z_exact = R_inf +  1j*(2*np.pi*freq_vec)*L_0 + 1./(1./R_ct+T*(1j*2.*np.pi*freq_vec)**phi)"
   ]
  },
  {
   "cell_type": "markdown",
   "metadata": {},
   "source": [
    "### 1.4) Generate stochastic experiment with $Z_{\\rm exp}(\\omega) = Z_{\\rm exact}(\\omega)+ \\sigma_n (\\varepsilon_{\\rm re} + i\\varepsilon_{\\rm im})$ where $\\varepsilon_{\\rm re}$ and $\\varepsilon_{\\rm im}$ are independent and identically distributed normals centered with 0 mean and standard deviation equal to 1"
   ]
  },
  {
   "cell_type": "code",
   "execution_count": 6,
   "metadata": {},
   "outputs": [],
   "source": [
    "rng = np.random.seed(2421975) # seed the random number generator\n",
    "sigma_n_exp = 0.3\n",
    "Z_exp = Z_exact + (sigma_n_exp)*(np.random.normal(0, 1, N_freqs)+1j*np.random.normal(0, 1, N_freqs))"
   ]
  },
  {
   "cell_type": "markdown",
   "metadata": {},
   "source": [
    "### 1.5) Draw the Nyquist plot"
   ]
  },
  {
   "cell_type": "code",
   "execution_count": 7,
   "metadata": {},
   "outputs": [
    {
     "data": {
      "image/png": "[encoded data removed]",
      "text/plain": [
       "<Figure size 640x480 with 1 Axes>"
      ]
     },
     "metadata": {},
     "output_type": "display_data"
    }
   ],
   "source": [
    "fig, ax = plt.subplots()\n",
    "plt.plot(Z_exact.real, -Z_exact.imag, linewidth=4, color='blue', label='exact')\n",
    "plt.plot(Z_exp.real, -Z_exp.imag, 'o', markersize=5, color='red', label='exp')\n",
    "plt.plot(np.real(Z_exp[0:100:20]), -np.imag(Z_exp[0:100:20]), 'p', markersize=7, color='black')\n",
    "\n",
    "plt.annotate(r'$10^{-2}$ Hz', xy=(np.real(Z_exp[0]), -np.imag(Z_exp[0])),\n",
    "             xytext=(np.real(Z_exp[0])-3, 12-np.imag(Z_exp[0])),\n",
    "             arrowprops=dict(arrowstyle=\"-\", connectionstyle=\"arc\"))\n",
    "plt.annotate(r'$10^{0}$ Hz', xy=(np.real(Z_exp[20]), -np.imag(Z_exp[20])),\n",
    "             xytext=(np.real(Z_exp[20])-5, -10-np.imag(Z_exp[20])),\n",
    "             arrowprops=dict(arrowstyle=\"-\", connectionstyle=\"arc\"))\n",
    "plt.annotate(r'$10^{2}$ Hz', xy=(np.real(Z_exp[40]), -np.imag(Z_exp[40])),\n",
    "             xytext=(np.real(Z_exp[40])-8, 8-np.imag(Z_exp[40])),\n",
    "             arrowprops=dict(arrowstyle=\"-\", connectionstyle=\"arc\"))\n",
    "plt.annotate(r'$10^{4}$ Hz', xy=(np.real(Z_exp[60]), -np.imag(Z_exp[60])),\n",
    "             xytext=(np.real(Z_exp[60])+10, 8-np.imag(Z_exp[60])),\n",
    "             arrowprops=dict(arrowstyle=\"-\", connectionstyle=\"arc\"))\n",
    "plt.annotate(r'$10^{6}$ Hz', xy=(np.real(Z_exp[80]), -np.imag(Z_exp[80])),\n",
    "             xytext=(np.real(Z_exp[80])+10, 1-np.imag(Z_exp[80])),\n",
    "             arrowprops=dict(arrowstyle=\"-\", connectionstyle=\"arc\"))\n",
    "\n",
    "plt.legend(frameon=False, fontsize=15, loc='upper right')\n",
    "plt.axis('scaled')\n",
    "\n",
    "plt.xlim(0, 70)\n",
    "plt.ylim(-1, 32)\n",
    "plt.xticks(range(0, 80, 10))\n",
    "plt.yticks(range(0, 40, 10))\n",
    "plt.xlabel(r'$Z_{\\rm re}/\\Omega$', fontsize = 20)\n",
    "plt.ylabel(r'$-Z_{\\rm im}/\\Omega$', fontsize = 20)\n",
    "plt.show()"
   ]
  },
  {
   "cell_type": "code",
   "execution_count": null,
   "metadata": {},
   "outputs": [],
   "source": []
  },
  {
   "cell_type": "markdown",
   "metadata": {},
   "source": [
    "## 2) Set the kernel options "
   ]
  },
  {
   "cell_type": "code",
   "execution_count": 8,
   "metadata": {},
   "outputs": [],
   "source": [
    "ker_opts = {\n",
    "    'sigma_DRT': 1.,\n",
    "    'sigma_SB': 1.,\n",
    "    'ell': 1.,\n",
    "    'tau_max': 10,\n",
    "    'DRT': True,\n",
    "    'SB': True,\n",
    "    'SB_ker_type': 'IQ',\n",
    "}\n",
    "\n",
    "# these values are nominal"
   ]
  },
  {
   "cell_type": "code",
   "execution_count": null,
   "metadata": {},
   "outputs": [],
   "source": []
  },
  {
   "cell_type": "markdown",
   "metadata": {},
   "source": [
    "## 3) Fit the imaginary part of the data"
   ]
  },
  {
   "cell_type": "markdown",
   "metadata": {},
   "source": [
    "### 3.1) Initialize the hyperparameters"
   ]
  },
  {
   "cell_type": "code",
   "execution_count": 9,
   "metadata": {},
   "outputs": [],
   "source": [
    "sigma_n = 0.75\n",
    "sigma_DRT = 11\n",
    "sigma_SB = 1E-7\n",
    "ell = 3\n",
    "sigma_L = 5E-4"
   ]
  },
  {
   "cell_type": "markdown",
   "metadata": {},
   "source": [
    "### 3.2) Maximize the experimental evidence, i.e., minimize the negative marginal log-likelihood (NMML)"
   ]
  },
  {
   "cell_type": "code",
   "execution_count": 10,
   "metadata": {},
   "outputs": [
    {
     "name": "stdout",
     "output_type": "stream",
     "text": [
      "2.8806E-01, 2.9187E+01, -1.6632E-05, 3.0000E+00, -1.604260E-08; evidence = -2.86500209E+01\n",
      "2.8006E-01, 2.9257E+01, 1.5374E-09, 5.6176E+00, 1.420816E-12; evidence = -2.88485918E+01\n",
      "2.7954E-01, 2.9254E+01, -1.6214E-09, 8.2352E+00, 1.420816E-12; evidence = -2.88488289E+01\n",
      "2.7954E-01, 2.9254E+01, -1.6099E-09, 1.0853E+01, 1.420816E-12; evidence = -2.88488289E+01\n",
      "Optimization terminated successfully.\n",
      "         Current function value: -28.848829\n",
      "         Iterations: 4\n",
      "         Function evaluations: 499\n",
      "2.7954E-01, 2.9254E+01, -1.6099E-09, 1.0853E+01, 1.420816E-12; evidence = -2.88488289E+01\n",
      "2.7954E-01, 2.9254E+01, -1.6099E-09, 1.0853E+01, 1.420816E-12; evidence = -2.88488289E+01\n",
      "2.7954E-01, 2.9254E+01, -1.6099E-09, 1.0853E+01, 1.420816E-12; evidence = -2.88488289E+01\n",
      "2.7954E-01, 2.9254E+01, -1.6099E-09, 1.0853E+01, 1.420816E-12; evidence = -2.88488289E+01\n",
      "2.7954E-01, 2.9254E+01, -1.6099E-09, 1.0853E+01, 1.420816E-12; evidence = -2.88488289E+01\n",
      "2.7954E-01, 2.9254E+01, -1.6099E-09, 1.0853E+01, 1.420816E-12; evidence = -2.88488289E+01\n",
      "2.7954E-01, 2.9254E+01, -1.6099E-09, 1.0853E+01, 1.420816E-12; evidence = -2.88488289E+01\n",
      "2.7954E-01, 2.9254E+01, -1.6099E-09, 1.0853E+01, 1.420816E-12; evidence = -2.88488289E+01\n",
      "2.7954E-01, 2.9254E+01, -1.6099E-09, 1.0853E+01, 1.420816E-12; evidence = -2.88488289E+01\n",
      "2.7954E-01, 2.9254E+01, -1.6099E-09, 1.0853E+01, 1.420816E-12; evidence = -2.88488289E+01\n",
      "2.7954E-01, 2.9254E+01, -1.6099E-09, 1.0853E+01, 1.420816E-12; evidence = -2.88488289E+01\n",
      "2.7954E-01, 2.9254E+01, -1.6099E-09, 1.0853E+01, 1.420816E-12; evidence = -2.88488289E+01\n",
      "2.7954E-01, 2.9254E+01, -1.6099E-09, 1.0853E+01, 1.420816E-12; evidence = -2.88488289E+01\n",
      "2.7954E-01, 2.9254E+01, -1.6099E-09, 1.0853E+01, 1.420816E-12; evidence = -2.88488289E+01\n",
      "2.7954E-01, 2.9254E+01, -1.6099E-09, 1.0853E+01, 1.420816E-12; evidence = -2.88488289E+01\n",
      "2.7954E-01, 2.9254E+01, -1.6099E-09, 1.0853E+01, 1.420816E-12; evidence = -2.88488289E+01\n",
      "2.7954E-01, 2.9254E+01, -1.6099E-09, 1.0853E+01, 1.420816E-12; evidence = -2.88488289E+01\n",
      "2.7954E-01, 2.9254E+01, -1.6099E-09, 1.0853E+01, 1.420816E-12; evidence = -2.88488289E+01\n",
      "2.7954E-01, 2.9254E+01, -1.6099E-09, 1.0853E+01, 1.420816E-12; evidence = -2.88488289E+01\n",
      "2.7954E-01, 2.9254E+01, -1.6099E-09, 1.0853E+01, 1.420816E-12; evidence = -2.88488289E+01\n",
      "2.7954E-01, 2.9254E+01, -1.6099E-09, 1.0853E+01, 1.420816E-12; evidence = -2.88488289E+01\n",
      "2.7954E-01, 2.9254E+01, -1.6099E-09, 1.0853E+01, 1.420816E-12; evidence = -2.88488289E+01\n",
      "2.7954E-01, 2.9254E+01, -1.6099E-09, 1.0853E+01, 1.420816E-12; evidence = -2.88488289E+01\n",
      "2.7954E-01, 2.9254E+01, -1.6099E-09, 1.0853E+01, 1.420816E-12; evidence = -2.88488289E+01\n",
      "2.7954E-01, 2.9254E+01, -1.6099E-09, 1.0853E+01, 1.420816E-12; evidence = -2.88488289E+01\n",
      "2.7954E-01, 2.9254E+01, -1.6099E-09, 1.0853E+01, 1.420816E-12; evidence = -2.88488289E+01\n",
      "2.7954E-01, 2.9254E+01, -1.6099E-09, 1.0853E+01, 1.420816E-12; evidence = -2.88488289E+01\n",
      "2.7954E-01, 2.9254E+01, -1.6099E-09, 1.0853E+01, 1.420816E-12; evidence = -2.88488289E+01\n",
      "2.7954E-01, 2.9254E+01, -1.6099E-09, 1.0853E+01, 1.420816E-12; evidence = -2.88488289E+01\n",
      "2.7954E-01, 2.9254E+01, -1.6099E-09, 1.0853E+01, 1.420816E-12; evidence = -2.88488289E+01\n",
      "2.7954E-01, 2.9254E+01, -1.6823E-09, 1.1341E+01, 1.300047E-12; evidence = -2.88488289E+01\n",
      "2.7954E-01, 2.9254E+01, -1.6823E-09, 1.1341E+01, 1.300047E-12; evidence = -2.88488289E+01\n",
      "2.7954E-01, 2.9254E+01, -1.6823E-09, 1.1341E+01, 1.300047E-12; evidence = -2.88488289E+01\n",
      "2.7954E-01, 2.9254E+01, -1.7675E-09, 1.0505E+01, 1.259184E-12; evidence = -2.88488289E+01\n",
      "2.7954E-01, 2.9254E+01, -1.6528E-09, 1.1381E+01, 1.162205E-12; evidence = -2.88488289E+01\n",
      "2.7954E-01, 2.9254E+01, -1.8396E-09, 1.1698E+01, 1.007038E-12; evidence = -2.88488289E+01\n",
      "2.7954E-01, 2.9254E+01, -1.8396E-09, 1.1698E+01, 1.007038E-12; evidence = -2.88488289E+01\n",
      "2.7954E-01, 2.9254E+01, -1.8396E-09, 1.1698E+01, 1.007038E-12; evidence = -2.88488289E+01\n",
      "2.7954E-01, 2.9254E+01, -1.9554E-09, 1.0977E+01, 6.851802E-13; evidence = -2.88488289E+01\n",
      "2.7954E-01, 2.9254E+01, -1.9554E-09, 1.0977E+01, 6.851802E-13; evidence = -2.88488289E+01\n",
      "2.7954E-01, 2.9254E+01, -2.2481E-09, 1.1626E+01, 3.399793E-13; evidence = -2.88488289E+01\n",
      "2.7954E-01, 2.9254E+01, -2.1686E-09, 1.2181E+01, 3.073017E-13; evidence = -2.88488289E+01\n",
      "2.7954E-01, 2.9254E+01, -2.1686E-09, 1.2181E+01, 3.073017E-13; evidence = -2.88488289E+01\n",
      "2.7954E-01, 2.9254E+01, -2.1686E-09, 1.2181E+01, 3.073017E-13; evidence = -2.88488289E+01\n",
      "2.7954E-01, 2.9254E+01, -2.1686E-09, 1.2181E+01, 3.073017E-13; evidence = -2.88488289E+01\n",
      "2.7954E-01, 2.9254E+01, -2.1686E-09, 1.2181E+01, 3.073017E-13; evidence = -2.88488289E+01\n",
      "2.7954E-01, 2.9254E+01, -2.1686E-09, 1.2181E+01, 3.073017E-13; evidence = -2.88488289E+01\n",
      "2.7954E-01, 2.9254E+01, -2.3847E-09, 1.0899E+01, 7.302395E-14; evidence = -2.88488289E+01\n",
      "2.7954E-01, 2.9254E+01, -2.3847E-09, 1.0899E+01, 7.302395E-14; evidence = -2.88488289E+01\n",
      "2.7954E-01, 2.9254E+01, -2.3847E-09, 1.0899E+01, 7.302395E-14; evidence = -2.88488289E+01\n",
      "2.7954E-01, 2.9254E+01, -2.3847E-09, 1.0899E+01, 7.302395E-14; evidence = -2.88488289E+01\n",
      "2.7954E-01, 2.9254E+01, -2.3847E-09, 1.0899E+01, 7.302395E-14; evidence = -2.88488289E+01\n",
      "2.7954E-01, 2.9254E+01, -2.3847E-09, 1.0899E+01, 7.302395E-14; evidence = -2.88488289E+01\n",
      "2.7954E-01, 2.9254E+01, -2.3847E-09, 1.0899E+01, 7.302395E-14; evidence = -2.88488289E+01\n",
      "2.7954E-01, 2.9254E+01, -2.3847E-09, 1.0899E+01, 7.302395E-14; evidence = -2.88488289E+01\n",
      "2.7954E-01, 2.9254E+01, -2.3847E-09, 1.0899E+01, 7.302395E-14; evidence = -2.88488289E+01\n",
      "2.7954E-01, 2.9254E+01, -2.3847E-09, 1.0899E+01, 7.302395E-14; evidence = -2.88488289E+01\n",
      "2.7954E-01, 2.9254E+01, -2.3847E-09, 1.0899E+01, 7.302395E-14; evidence = -2.88488289E+01\n",
      "2.7954E-01, 2.9254E+01, -2.3847E-09, 1.0899E+01, 7.302395E-14; evidence = -2.88488289E+01\n",
      "2.7954E-01, 2.9254E+01, -2.3422E-09, 1.1618E+01, 4.089071E-14; evidence = -2.88488289E+01\n",
      "2.7954E-01, 2.9254E+01, -2.3422E-09, 1.1618E+01, 4.089071E-14; evidence = -2.88488289E+01\n",
      "2.7954E-01, 2.9254E+01, -2.3422E-09, 1.1618E+01, 4.089071E-14; evidence = -2.88488289E+01\n",
      "2.7954E-01, 2.9254E+01, -2.3422E-09, 1.1618E+01, 4.089071E-14; evidence = -2.88488289E+01\n",
      "2.7954E-01, 2.9254E+01, -2.3948E-09, 1.1288E+01, -3.128922E-14; evidence = -2.88488289E+01\n",
      "2.7954E-01, 2.9254E+01, -2.4288E-09, 1.1185E+01, -2.314239E-14; evidence = -2.88488289E+01\n",
      "2.7954E-01, 2.9254E+01, -2.3893E-09, 1.1296E+01, 2.499762E-15; evidence = -2.88488289E+01\n",
      "2.7954E-01, 2.9254E+01, -2.3893E-09, 1.1296E+01, 2.499762E-15; evidence = -2.88488289E+01\n",
      "2.7954E-01, 2.9254E+01, -2.3893E-09, 1.1296E+01, 2.499762E-15; evidence = -2.88488289E+01\n",
      "2.7954E-01, 2.9254E+01, -2.3920E-09, 1.1292E+01, -1.439473E-14; evidence = -2.88488289E+01\n",
      "2.7954E-01, 2.9254E+01, -2.3920E-09, 1.1292E+01, -1.439473E-14; evidence = -2.88488289E+01\n",
      "2.7954E-01, 2.9254E+01, -2.3919E-09, 1.1327E+01, -1.307094E-14; evidence = -2.88488289E+01\n",
      "2.7954E-01, 2.9254E+01, -2.4000E-09, 1.1297E+01, -2.333637E-14; evidence = -2.88488289E+01\n",
      "2.7954E-01, 2.9254E+01, -2.4000E-09, 1.1297E+01, -2.333637E-14; evidence = -2.88488289E+01\n",
      "2.7954E-01, 2.9254E+01, -2.4000E-09, 1.1297E+01, -2.333637E-14; evidence = -2.88488289E+01\n",
      "2.7954E-01, 2.9254E+01, -2.4000E-09, 1.1297E+01, -2.333637E-14; evidence = -2.88488289E+01\n",
      "2.7954E-01, 2.9254E+01, -2.4000E-09, 1.1297E+01, -2.333637E-14; evidence = -2.88488289E+01\n",
      "2.7954E-01, 2.9254E+01, -2.4000E-09, 1.1297E+01, -2.333637E-14; evidence = -2.88488289E+01\n",
      "2.7954E-01, 2.9254E+01, -2.4000E-09, 1.1297E+01, -2.333637E-14; evidence = -2.88488289E+01\n",
      "2.7954E-01, 2.9254E+01, -2.4000E-09, 1.1297E+01, -2.333637E-14; evidence = -2.88488289E+01\n",
      "2.7954E-01, 2.9254E+01, -2.4000E-09, 1.1297E+01, -2.333637E-14; evidence = -2.88488289E+01\n",
      "2.7954E-01, 2.9254E+01, -2.4000E-09, 1.1297E+01, -2.333637E-14; evidence = -2.88488289E+01\n",
      "2.7954E-01, 2.9254E+01, -2.4000E-09, 1.1297E+01, -2.333637E-14; evidence = -2.88488289E+01\n",
      "2.7954E-01, 2.9254E+01, -2.4000E-09, 1.1297E+01, -2.333637E-14; evidence = -2.88488289E+01\n",
      "2.7954E-01, 2.9254E+01, -2.4000E-09, 1.1297E+01, -2.333637E-14; evidence = -2.88488289E+01\n",
      "2.7954E-01, 2.9254E+01, -2.4000E-09, 1.1297E+01, -2.333637E-14; evidence = -2.88488289E+01\n",
      "2.7954E-01, 2.9254E+01, -2.4000E-09, 1.1297E+01, -2.333637E-14; evidence = -2.88488289E+01\n",
      "2.7954E-01, 2.9254E+01, -2.4000E-09, 1.1297E+01, -2.333637E-14; evidence = -2.88488289E+01\n"
     ]
    },
    {
     "name": "stdout",
     "output_type": "stream",
     "text": [
      "2.7954E-01, 2.9254E+01, -2.4000E-09, 1.1297E+01, -2.333637E-14; evidence = -2.88488289E+01\n",
      "2.7954E-01, 2.9254E+01, -2.4000E-09, 1.1297E+01, -2.320561E-14; evidence = -2.88488289E+01\n",
      "2.7954E-01, 2.9254E+01, -2.4000E-09, 1.1297E+01, -2.320561E-14; evidence = -2.88488289E+01\n",
      "2.7954E-01, 2.9254E+01, -2.4000E-09, 1.1297E+01, -2.320561E-14; evidence = -2.88488289E+01\n",
      "2.7954E-01, 2.9254E+01, -2.4000E-09, 1.1297E+01, -2.320561E-14; evidence = -2.88488289E+01\n",
      "2.7954E-01, 2.9254E+01, -2.4000E-09, 1.1297E+01, -2.320561E-14; evidence = -2.88488289E+01\n",
      "2.7954E-01, 2.9254E+01, -2.4000E-09, 1.1297E+01, -2.320561E-14; evidence = -2.88488289E+01\n",
      "2.7954E-01, 2.9254E+01, -2.4000E-09, 1.1297E+01, -2.320561E-14; evidence = -2.88488289E+01\n",
      "2.7954E-01, 2.9254E+01, -2.4000E-09, 1.1297E+01, -2.320561E-14; evidence = -2.88488289E+01\n",
      "2.7954E-01, 2.9254E+01, -2.4000E-09, 1.1297E+01, -2.320561E-14; evidence = -2.88488289E+01\n",
      "2.7954E-01, 2.9254E+01, -2.4000E-09, 1.1297E+01, -2.320561E-14; evidence = -2.88488289E+01\n",
      "2.7954E-01, 2.9254E+01, -2.4000E-09, 1.1297E+01, -2.320561E-14; evidence = -2.88488289E+01\n",
      "2.7954E-01, 2.9254E+01, -2.4000E-09, 1.1297E+01, -2.320561E-14; evidence = -2.88488289E+01\n",
      "2.7954E-01, 2.9254E+01, -2.4000E-09, 1.1297E+01, -2.320561E-14; evidence = -2.88488289E+01\n",
      "2.7954E-01, 2.9254E+01, -2.4000E-09, 1.1297E+01, -2.320561E-14; evidence = -2.88488289E+01\n",
      "2.7954E-01, 2.9254E+01, -2.4000E-09, 1.1297E+01, -2.320561E-14; evidence = -2.88488289E+01\n",
      "2.7954E-01, 2.9254E+01, -2.4000E-09, 1.1297E+01, -2.320561E-14; evidence = -2.88488289E+01\n",
      "2.7954E-01, 2.9254E+01, -2.4000E-09, 1.1297E+01, -2.320561E-14; evidence = -2.88488289E+01\n",
      "2.7954E-01, 2.9254E+01, -2.4000E-09, 1.1297E+01, -2.320561E-14; evidence = -2.88488289E+01\n",
      "2.7954E-01, 2.9254E+01, -2.4000E-09, 1.1297E+01, -2.320561E-14; evidence = -2.88488289E+01\n",
      "2.7954E-01, 2.9254E+01, -2.4000E-09, 1.1297E+01, -2.320561E-14; evidence = -2.88488289E+01\n",
      "2.7954E-01, 2.9254E+01, -2.4000E-09, 1.1297E+01, -2.320561E-14; evidence = -2.88488289E+01\n",
      "2.7954E-01, 2.9254E+01, -2.4000E-09, 1.1297E+01, -2.320561E-14; evidence = -2.88488289E+01\n",
      "2.7954E-01, 2.9254E+01, -2.4000E-09, 1.1297E+01, -2.320561E-14; evidence = -2.88488289E+01\n",
      "2.7954E-01, 2.9254E+01, -2.4000E-09, 1.1297E+01, -2.320561E-14; evidence = -2.88488289E+01\n",
      "2.7954E-01, 2.9254E+01, -2.4000E-09, 1.1297E+01, -2.320561E-14; evidence = -2.88488289E+01\n",
      "2.7954E-01, 2.9254E+01, -2.4000E-09, 1.1297E+01, -2.320561E-14; evidence = -2.88488289E+01\n",
      "2.7954E-01, 2.9254E+01, -2.4000E-09, 1.1297E+01, -2.320561E-14; evidence = -2.88488289E+01\n",
      "2.7954E-01, 2.9254E+01, -2.4000E-09, 1.1297E+01, -2.320561E-14; evidence = -2.88488289E+01\n",
      "2.7954E-01, 2.9254E+01, -2.4000E-09, 1.1297E+01, -2.320561E-14; evidence = -2.88488289E+01\n",
      "2.7954E-01, 2.9254E+01, -2.4000E-09, 1.1297E+01, -2.320561E-14; evidence = -2.88488289E+01\n",
      "2.7954E-01, 2.9254E+01, -2.4000E-09, 1.1297E+01, -2.320561E-14; evidence = -2.88488289E+01\n",
      "2.7954E-01, 2.9254E+01, -2.4000E-09, 1.1297E+01, -2.320561E-14; evidence = -2.88488289E+01\n",
      "2.7954E-01, 2.9254E+01, -2.4000E-09, 1.1297E+01, -2.320561E-14; evidence = -2.88488289E+01\n",
      "2.7954E-01, 2.9254E+01, -2.4000E-09, 1.1297E+01, -2.320561E-14; evidence = -2.88488289E+01\n",
      "2.7954E-01, 2.9254E+01, -2.4000E-09, 1.1297E+01, -2.320561E-14; evidence = -2.88488289E+01\n",
      "2.7954E-01, 2.9254E+01, -2.4000E-09, 1.1297E+01, -2.320561E-14; evidence = -2.88488289E+01\n",
      "2.7954E-01, 2.9254E+01, -2.4000E-09, 1.1297E+01, -2.320561E-14; evidence = -2.88488289E+01\n",
      "2.7954E-01, 2.9254E+01, -2.4000E-09, 1.1297E+01, -2.320561E-14; evidence = -2.88488289E+01\n",
      "2.7954E-01, 2.9254E+01, -2.4000E-09, 1.1297E+01, -2.320561E-14; evidence = -2.88488289E+01\n",
      "2.7954E-01, 2.9254E+01, -2.4000E-09, 1.1297E+01, -2.320561E-14; evidence = -2.88488289E+01\n",
      "2.7954E-01, 2.9254E+01, -2.4000E-09, 1.1297E+01, -2.320561E-14; evidence = -2.88488289E+01\n",
      "Optimization terminated successfully.\n",
      "         Current function value: -28.848829\n",
      "         Iterations: 129\n",
      "         Function evaluations: 305\n"
     ]
    }
   ],
   "source": [
    "theta_0 = np.array([sigma_n, sigma_DRT, sigma_SB, ell, sigma_L])\n",
    "seq_theta = np.copy(theta_0)\n",
    "def print_results(theta):\n",
    "    global seq_theta\n",
    "    seq_theta = np.vstack((seq_theta, theta))\n",
    "    print('%.4E, %.4E, %.4E, %.4E, %.6E; evidence = %.8E'%(theta[0], theta[1], theta[2], theta[3], theta[4], gpf.NMLL_fct(theta, Z_exp.imag, omega_vec, ker_opts, 'im')))\n",
    "    \n",
    "res = minimize(gpf.NMLL_fct, theta_0, args=(Z_exp.imag, omega_vec, ker_opts, 'im'), method='Powell', \\\n",
    "               callback=print_results, options={'disp': True, 'xtol': 1E-6, 'ftol': 1E-6})\n",
    "res = minimize(gpf.NMLL_fct, res.x, args=(Z_exp.imag, omega_vec, ker_opts, 'im'), method='Nelder-Mead', \\\n",
    "                callback=print_results, options={'disp': True, 'xatol': 1E-6, 'fatol': 1E-6})\n",
    "\n",
    "theta_im = res.x\n",
    "sigma_n, sigma_DRT, sigma_SB, ell, sigma_L = theta_im"
   ]
  },
  {
   "cell_type": "code",
   "execution_count": 11,
   "metadata": {},
   "outputs": [],
   "source": [
    "# update the values of the kernels as the gpf functions simply copy ker_opts\n",
    "ker_opts['sigma_SB'] = sigma_SB\n",
    "ker_opts['ell'] = ell\n",
    "ker_opts['sigma_DRT'] = sigma_DRT"
   ]
  },
  {
   "cell_type": "markdown",
   "metadata": {},
   "source": [
    "### 3.3) Check if the results are reasonable"
   ]
  },
  {
   "cell_type": "markdown",
   "metadata": {},
   "source": [
    "### 3.3.1) Check $L_0$"
   ]
  },
  {
   "cell_type": "markdown",
   "metadata": {},
   "source": [
    "We predict the value $\\bar{L_0}$ of $L_{0}$ as\n",
    "\n",
    "$$\n",
    "\\bar{L_0} = \\frac {\\boldsymbol \\omega^\\top (\\mathbf K_{\\rm im} + \\sigma_{n}^{2} \\mathbf{I})^{-1} \\mathbf Z_{\\rm exp,im}(\\boldsymbol \\omega)} {\\sigma_{L}^{-2} + \\boldsymbol \\omega^\\top (\\mathbf K_{\\rm im} + \\sigma_{n}^{2} \\mathbf{I})^{-1} \\boldsymbol \\omega} \n",
    "$$\n",
    "\n",
    "More details in: A. O'Hagan, Curve fitting and optimal design for prediction, J. R. Stat. Soc. Ser. B 40 (1) (1978) 1-24."
   ]
  },
  {
   "cell_type": "code",
   "execution_count": 12,
   "metadata": {},
   "outputs": [
    {
     "name": "stdout",
     "output_type": "stream",
     "text": [
      "L_0_est = 1.765455E-21 F vs. L_0 = 0.000000E+00 F\n"
     ]
    }
   ],
   "source": [
    "K_im = gpf.mat_K(omega_vec, omega_vec, ker_opts, 'im')\n",
    "Sigma = (sigma_n**2)*np.eye(N_freqs)\n",
    "K_full = K_im + Sigma + (sigma_L**2)*np.outer(omega_vec, omega_vec)\n",
    "K_full_reg = K_im + Sigma\n",
    "\n",
    "# Cholesky-decompose K_full\n",
    "if not gpf.is_PD(K_full_reg):\n",
    "    K_full_reg = gpf.nearest_PD(K_full_reg)\n",
    "\n",
    "# inverse of K_im\n",
    "L = np.linalg.cholesky(K_full_reg)\n",
    "inv_L = np.linalg.inv(L)\n",
    "inv_K_full_reg = np.dot(inv_L.T, inv_L)\n",
    "\n",
    "num_L_0 = omega_vec@(inv_K_full_reg@Z_exp.imag)\n",
    "den_L_0 = (sigma_L**-2) + omega_vec@(inv_K_full_reg@omega_vec)\n",
    "L_0_est = num_L_0/den_L_0\n",
    "\n",
    "print('L_0_est = %.6E F vs. L_0 = %.6E F'%(L_0_est, L_0))"
   ]
  },
  {
   "cell_type": "markdown",
   "metadata": {},
   "source": [
    "### 3.3.2) Check the fit of $\\Im(Z_{\\rm exp})$ against the GP"
   ]
  },
  {
   "cell_type": "markdown",
   "metadata": {},
   "source": [
    "### 3.3.2.1) Run the GP regression"
   ]
  },
  {
   "cell_type": "code",
   "execution_count": 13,
   "metadata": {},
   "outputs": [],
   "source": [
    "# Cholesky-decompose K_full\n",
    "if not gpf.is_PD(K_full):\n",
    "    K_full = gpf.nearest_PD(K_full)\n",
    "\n",
    "# cholesky factorization\n",
    "L = np.linalg.cholesky(K_full)\n",
    "\n",
    "# covariance matrix\n",
    "inv_L = np.linalg.inv(L)\n",
    "inv_K_full = np.dot(inv_L.T, inv_L)\n",
    "\n",
    "N_star_freqs = N_freqs\n",
    "freq_star_vec = np.copy(freq_vec) #np.logspace(-4., 4., num=N_star_freqs, endpoint=True)\n",
    "omega_star_vec = 2.*np.pi*freq_star_vec\n",
    "\n",
    "mu_star_vec = np.zeros_like(omega_star_vec)\n",
    "sigma_star_vec = np.zeros_like(omega_star_vec)\n",
    "\n",
    "for index, omega_star in enumerate(omega_star_vec):\n",
    "    \n",
    "    #print('iter = ', index+1, '/', N_star_freqs)\n",
    "    omega_star_np = np.array([omega_star])\n",
    "    k_star_star = gpf.mat_K(omega_star_np, omega_star_np, ker_opts, 'im').flatten() + (sigma_L**2)*omega_star_np**2\n",
    "    k_star = gpf.mat_K(omega_star_np, omega_vec, ker_opts, 'im').flatten() + (sigma_L**2)*omega_vec*omega_star_np\n",
    "    \n",
    "    mu_star_vec[index] = k_star@(inv_K_full@Z_exp.imag)\n",
    "    sigma_star_vec[index] = np.sqrt(k_star_star - k_star@(inv_K_full@k_star))"
   ]
  },
  {
   "cell_type": "markdown",
   "metadata": {},
   "source": [
    "### 3.3.2.2) Plot the outcome of the GP regression"
   ]
  },
  {
   "cell_type": "code",
   "execution_count": 14,
   "metadata": {},
   "outputs": [
    {
     "data": {
      "image/png": "[encoded data removed]",
      "text/plain": [
       "<Figure size 640x480 with 1 Axes>"
      ]
     },
     "metadata": {},
     "output_type": "display_data"
    }
   ],
   "source": [
    "plt.fill_between(freq_star_vec, -mu_star_vec-3*sigma_star_vec, -mu_star_vec+3*sigma_star_vec,  facecolor='lightgrey')\n",
    "plt.fill_between(freq_star_vec, -mu_star_vec-2*sigma_star_vec, -mu_star_vec+2*sigma_star_vec,  facecolor='silver')\n",
    "plt.fill_between(freq_star_vec, -mu_star_vec-sigma_star_vec, -mu_star_vec+sigma_star_vec,  facecolor='grey')\n",
    "plt.semilogx(freq_star_vec, -mu_star_vec, linewidth=4, color='black', label='GP')\n",
    "plt.semilogx(freq_vec,  -Z_exp.imag, 'o', markersize=5, color='red', label='exp')\n",
    "plt.xlim(1E-2, 1E6)\n",
    "plt.xscale('log')\n",
    "plt.xlabel(r'$f/{\\rm Hz}$', fontsize=20)\n",
    "plt.ylabel(r'$-Z_{\\rm im}/\\Omega$', fontsize=20)\n",
    "plt.legend(frameon=False, fontsize = 15)\n",
    "plt.show()"
   ]
  },
  {
   "cell_type": "code",
   "execution_count": null,
   "metadata": {},
   "outputs": [],
   "source": []
  },
  {
   "cell_type": "markdown",
   "metadata": {},
   "source": [
    "## 4) Fit the real part of the data"
   ]
  },
  {
   "cell_type": "markdown",
   "metadata": {},
   "source": [
    "### 4.1) Initialize the hyperparameters"
   ]
  },
  {
   "cell_type": "code",
   "execution_count": 15,
   "metadata": {},
   "outputs": [],
   "source": [
    "sigma_n = 0.75\n",
    "sigma_DRT = 11\n",
    "sigma_SB = 1E-7\n",
    "ell = 3\n",
    "sigma_R = 5E-4"
   ]
  },
  {
   "cell_type": "markdown",
   "metadata": {},
   "source": [
    "### 4.2) Minimize the NMLL"
   ]
  },
  {
   "cell_type": "code",
   "execution_count": 16,
   "metadata": {},
   "outputs": [
    {
     "name": "stdout",
     "output_type": "stream",
     "text": [
      "9.4250E+00, 8.6589E+01, 3.2473E-08, 5.6176E+00, 9.962484E+00; evidence = 1.97532240E+02\n",
      "-2.9718E-01, -1.8546E+01, -1.3434E-08, 5.3016E+00, -8.297727E+00; evidence = -1.68747120E+01\n",
      "-2.9486E-01, -2.6504E+01, -1.3434E-08, 7.9199E+00, -1.000312E+01; evidence = -1.91102510E+01\n",
      "-2.9486E-01, -2.6506E+01, -1.7373E-07, 7.9205E+00, -1.000451E+01; evidence = -1.91102511E+01\n",
      "Optimization terminated successfully.\n",
      "         Current function value: -19.110251\n",
      "         Iterations: 4\n",
      "         Function evaluations: 494\n",
      "-2.9633E-01, -2.7169E+01, -1.7460E-07, 7.9601E+00, -1.005453E+01; evidence = -1.91006186E+01\n",
      "-2.9633E-01, -2.7169E+01, -1.7460E-07, 7.9601E+00, -1.005453E+01; evidence = -1.91006186E+01\n",
      "-2.9633E-01, -2.7169E+01, -1.7460E-07, 7.9601E+00, -1.005453E+01; evidence = -1.91006186E+01\n",
      "-2.9633E-01, -2.7169E+01, -1.7460E-07, 7.9601E+00, -1.005453E+01; evidence = -1.91006186E+01\n",
      "-2.9759E-01, -2.7070E+01, -1.7534E-07, 7.9938E+00, -9.921969E+00; evidence = -1.90988958E+01\n",
      "-2.9759E-01, -2.7070E+01, -1.7534E-07, 7.9938E+00, -9.921969E+00; evidence = -1.90988958E+01\n",
      "-2.9759E-01, -2.7070E+01, -1.7534E-07, 7.9938E+00, -9.921969E+00; evidence = -1.90988958E+01\n",
      "-2.9759E-01, -2.7070E+01, -1.7534E-07, 7.9938E+00, -9.921969E+00; evidence = -1.90988958E+01\n",
      "-2.9759E-01, -2.7070E+01, -1.7534E-07, 7.9938E+00, -9.921969E+00; evidence = -1.90988958E+01\n",
      "-2.9759E-01, -2.7070E+01, -1.7534E-07, 7.9938E+00, -9.921969E+00; evidence = -1.90988958E+01\n",
      "-2.9759E-01, -2.7070E+01, -1.7534E-07, 7.9938E+00, -9.921969E+00; evidence = -1.90988958E+01\n",
      "-2.9759E-01, -2.7070E+01, -1.7534E-07, 7.9938E+00, -9.921969E+00; evidence = -1.90988958E+01\n",
      "-2.9759E-01, -2.7070E+01, -1.7534E-07, 7.9938E+00, -9.921969E+00; evidence = -1.90988958E+01\n",
      "-2.9759E-01, -2.7070E+01, -1.7534E-07, 7.9938E+00, -9.921969E+00; evidence = -1.90988958E+01\n",
      "-2.9759E-01, -2.7070E+01, -1.7534E-07, 7.9938E+00, -9.921969E+00; evidence = -1.90988958E+01\n",
      "-2.9759E-01, -2.7070E+01, -1.7534E-07, 7.9938E+00, -9.921969E+00; evidence = -1.90988958E+01\n",
      "-2.9759E-01, -2.7070E+01, -1.7534E-07, 7.9938E+00, -9.921969E+00; evidence = -1.90988958E+01\n",
      "-2.9759E-01, -2.7070E+01, -1.7534E-07, 7.9938E+00, -9.921969E+00; evidence = -1.90988958E+01\n",
      "-2.9759E-01, -2.7070E+01, -1.7534E-07, 7.9938E+00, -9.921969E+00; evidence = -1.90988958E+01\n",
      "-2.9759E-01, -2.7070E+01, -1.7534E-07, 7.9938E+00, -9.921969E+00; evidence = -1.90988958E+01\n",
      "-2.9759E-01, -2.7070E+01, -1.7534E-07, 7.9938E+00, -9.921969E+00; evidence = -1.90988958E+01\n",
      "-2.9759E-01, -2.7070E+01, -1.7534E-07, 7.9938E+00, -9.921969E+00; evidence = -1.90988958E+01\n",
      "-2.9759E-01, -2.7070E+01, -1.7534E-07, 7.9938E+00, -9.921969E+00; evidence = -1.90988958E+01\n",
      "-2.9759E-01, -2.7070E+01, -1.7534E-07, 7.9938E+00, -9.921969E+00; evidence = -1.90988958E+01\n",
      "-2.9759E-01, -2.7070E+01, -1.7534E-07, 7.9938E+00, -9.921969E+00; evidence = -1.90988958E+01\n",
      "-2.9759E-01, -2.7070E+01, -1.7534E-07, 7.9938E+00, -9.921969E+00; evidence = -1.90988958E+01\n",
      "-2.9759E-01, -2.7070E+01, -1.7534E-07, 7.9938E+00, -9.921969E+00; evidence = -1.90988958E+01\n",
      "-2.9759E-01, -2.7070E+01, -1.7534E-07, 7.9938E+00, -9.921969E+00; evidence = -1.90988958E+01\n",
      "-2.9759E-01, -2.7070E+01, -1.7534E-07, 7.9938E+00, -9.921969E+00; evidence = -1.90988958E+01\n",
      "-2.9757E-01, -2.7069E+01, -1.7537E-07, 7.9940E+00, -9.920763E+00; evidence = -1.90989547E+01\n",
      "-2.9757E-01, -2.7069E+01, -1.7537E-07, 7.9940E+00, -9.920763E+00; evidence = -1.90989547E+01\n",
      "-2.9757E-01, -2.7069E+01, -1.7537E-07, 7.9940E+00, -9.920763E+00; evidence = -1.90989547E+01\n",
      "-2.9757E-01, -2.7069E+01, -1.7537E-07, 7.9940E+00, -9.920763E+00; evidence = -1.90989547E+01\n",
      "-2.9757E-01, -2.7069E+01, -1.7537E-07, 7.9940E+00, -9.920763E+00; evidence = -1.90989547E+01\n",
      "-2.9757E-01, -2.7069E+01, -1.7537E-07, 7.9940E+00, -9.920763E+00; evidence = -1.90989547E+01\n",
      "-2.9757E-01, -2.7069E+01, -1.7537E-07, 7.9940E+00, -9.920763E+00; evidence = -1.90989547E+01\n",
      "-2.9757E-01, -2.7069E+01, -1.7537E-07, 7.9940E+00, -9.920763E+00; evidence = -1.90989547E+01\n",
      "-2.9757E-01, -2.7069E+01, -1.7537E-07, 7.9940E+00, -9.920763E+00; evidence = -1.90989547E+01\n",
      "-2.9757E-01, -2.7069E+01, -1.7537E-07, 7.9940E+00, -9.920763E+00; evidence = -1.90989547E+01\n",
      "-2.9757E-01, -2.7069E+01, -1.7537E-07, 7.9940E+00, -9.920763E+00; evidence = -1.90989547E+01\n",
      "-2.9757E-01, -2.7069E+01, -1.7537E-07, 7.9940E+00, -9.920763E+00; evidence = -1.90989547E+01\n",
      "-2.9757E-01, -2.7069E+01, -1.7537E-07, 7.9940E+00, -9.920763E+00; evidence = -1.90989547E+01\n",
      "-2.9757E-01, -2.7069E+01, -1.7537E-07, 7.9940E+00, -9.920763E+00; evidence = -1.90989547E+01\n",
      "-2.9757E-01, -2.7069E+01, -1.7537E-07, 7.9940E+00, -9.920763E+00; evidence = -1.90989547E+01\n",
      "-2.9757E-01, -2.7069E+01, -1.7537E-07, 7.9940E+00, -9.920763E+00; evidence = -1.90989547E+01\n",
      "-2.9757E-01, -2.7069E+01, -1.7537E-07, 7.9940E+00, -9.920763E+00; evidence = -1.90989547E+01\n",
      "-2.9757E-01, -2.7069E+01, -1.7537E-07, 7.9940E+00, -9.920763E+00; evidence = -1.90989547E+01\n",
      "-2.9757E-01, -2.7069E+01, -1.7537E-07, 7.9940E+00, -9.920763E+00; evidence = -1.90989547E+01\n",
      "-2.9757E-01, -2.7069E+01, -1.7537E-07, 7.9940E+00, -9.920763E+00; evidence = -1.90989547E+01\n",
      "-2.9757E-01, -2.7069E+01, -1.7537E-07, 7.9940E+00, -9.920763E+00; evidence = -1.90989547E+01\n",
      "-2.9757E-01, -2.7069E+01, -1.7537E-07, 7.9940E+00, -9.920763E+00; evidence = -1.90989547E+01\n",
      "-2.9757E-01, -2.7069E+01, -1.7537E-07, 7.9940E+00, -9.920763E+00; evidence = -1.90989547E+01\n",
      "-2.9757E-01, -2.7069E+01, -1.7537E-07, 7.9940E+00, -9.920763E+00; evidence = -1.90989547E+01\n",
      "-2.9757E-01, -2.7069E+01, -1.7537E-07, 7.9940E+00, -9.920763E+00; evidence = -1.90989547E+01\n",
      "-2.9757E-01, -2.7069E+01, -1.7537E-07, 7.9940E+00, -9.920763E+00; evidence = -1.90989547E+01\n",
      "-2.9757E-01, -2.7069E+01, -1.7537E-07, 7.9940E+00, -9.920763E+00; evidence = -1.90989547E+01\n",
      "-2.9757E-01, -2.7069E+01, -1.7537E-07, 7.9940E+00, -9.920763E+00; evidence = -1.90989547E+01\n",
      "-2.9757E-01, -2.7069E+01, -1.7537E-07, 7.9940E+00, -9.920763E+00; evidence = -1.90989547E+01\n",
      "-2.9757E-01, -2.7069E+01, -1.7537E-07, 7.9940E+00, -9.920763E+00; evidence = -1.90989547E+01\n",
      "-2.9757E-01, -2.7069E+01, -1.7537E-07, 7.9940E+00, -9.920763E+00; evidence = -1.90989547E+01\n",
      "-2.9757E-01, -2.7069E+01, -1.7537E-07, 7.9940E+00, -9.920763E+00; evidence = -1.90989547E+01\n",
      "-2.9757E-01, -2.7069E+01, -1.7537E-07, 7.9940E+00, -9.920763E+00; evidence = -1.90989547E+01\n",
      "-2.9757E-01, -2.7069E+01, -1.7537E-07, 7.9940E+00, -9.920763E+00; evidence = -1.90989547E+01\n",
      "-2.9757E-01, -2.7069E+01, -1.7537E-07, 7.9940E+00, -9.920763E+00; evidence = -1.90989547E+01\n",
      "-2.9757E-01, -2.7069E+01, -1.7537E-07, 7.9940E+00, -9.920763E+00; evidence = -1.90989547E+01\n",
      "-2.9757E-01, -2.7069E+01, -1.7537E-07, 7.9940E+00, -9.920763E+00; evidence = -1.90989547E+01\n",
      "-2.9757E-01, -2.7069E+01, -1.7537E-07, 7.9940E+00, -9.920763E+00; evidence = -1.90989547E+01\n",
      "-2.9757E-01, -2.7069E+01, -1.7537E-07, 7.9940E+00, -9.920763E+00; evidence = -1.90989547E+01\n",
      "-2.9757E-01, -2.7069E+01, -1.7537E-07, 7.9940E+00, -9.920763E+00; evidence = -1.90989547E+01\n",
      "-2.9757E-01, -2.7069E+01, -1.7537E-07, 7.9940E+00, -9.920763E+00; evidence = -1.90989547E+01\n",
      "-2.9757E-01, -2.7069E+01, -1.7537E-07, 7.9940E+00, -9.920763E+00; evidence = -1.90989547E+01\n",
      "-2.9757E-01, -2.7069E+01, -1.7537E-07, 7.9940E+00, -9.920763E+00; evidence = -1.90989547E+01\n",
      "-2.9757E-01, -2.7069E+01, -1.7537E-07, 7.9940E+00, -9.920763E+00; evidence = -1.90989547E+01\n",
      "-2.9757E-01, -2.7069E+01, -1.7537E-07, 7.9940E+00, -9.920763E+00; evidence = -1.90989547E+01\n",
      "-2.9757E-01, -2.7069E+01, -1.7537E-07, 7.9940E+00, -9.920763E+00; evidence = -1.90989547E+01\n",
      "-2.9757E-01, -2.7069E+01, -1.7537E-07, 7.9940E+00, -9.920763E+00; evidence = -1.90989547E+01\n",
      "-2.9757E-01, -2.7069E+01, -1.7537E-07, 7.9940E+00, -9.920763E+00; evidence = -1.90989547E+01\n",
      "-2.9757E-01, -2.7069E+01, -1.7537E-07, 7.9940E+00, -9.920763E+00; evidence = -1.90989547E+01\n",
      "-2.9757E-01, -2.7069E+01, -1.7537E-07, 7.9940E+00, -9.920763E+00; evidence = -1.90989547E+01\n",
      "-2.9757E-01, -2.7069E+01, -1.7537E-07, 7.9940E+00, -9.920763E+00; evidence = -1.90989547E+01\n",
      "-2.9757E-01, -2.7069E+01, -1.7537E-07, 7.9940E+00, -9.920763E+00; evidence = -1.90989547E+01\n",
      "-2.9757E-01, -2.7069E+01, -1.7537E-07, 7.9940E+00, -9.920763E+00; evidence = -1.90989547E+01\n",
      "-2.9757E-01, -2.7069E+01, -1.7537E-07, 7.9940E+00, -9.920763E+00; evidence = -1.90989547E+01\n",
      "-2.9757E-01, -2.7069E+01, -1.7537E-07, 7.9940E+00, -9.920763E+00; evidence = -1.90989547E+01\n"
     ]
    },
    {
     "name": "stdout",
     "output_type": "stream",
     "text": [
      "-2.9757E-01, -2.7069E+01, -1.7537E-07, 7.9940E+00, -9.920763E+00; evidence = -1.90989547E+01\n",
      "-2.9757E-01, -2.7069E+01, -1.7537E-07, 7.9940E+00, -9.920763E+00; evidence = -1.90989547E+01\n",
      "-2.9757E-01, -2.7069E+01, -1.7537E-07, 7.9940E+00, -9.920763E+00; evidence = -1.90989547E+01\n",
      "-2.9757E-01, -2.7069E+01, -1.7537E-07, 7.9940E+00, -9.920763E+00; evidence = -1.90989547E+01\n",
      "-2.9757E-01, -2.7069E+01, -1.7537E-07, 7.9940E+00, -9.920763E+00; evidence = -1.90989547E+01\n",
      "-2.9757E-01, -2.7069E+01, -1.7537E-07, 7.9940E+00, -9.920763E+00; evidence = -1.90989547E+01\n",
      "-2.9757E-01, -2.7069E+01, -1.7537E-07, 7.9940E+00, -9.920763E+00; evidence = -1.90989547E+01\n",
      "-2.9757E-01, -2.7069E+01, -1.7537E-07, 7.9940E+00, -9.920763E+00; evidence = -1.90989547E+01\n",
      "-2.9757E-01, -2.7069E+01, -1.7537E-07, 7.9940E+00, -9.920763E+00; evidence = -1.90989547E+01\n",
      "-2.9757E-01, -2.7069E+01, -1.7537E-07, 7.9940E+00, -9.920763E+00; evidence = -1.90989547E+01\n",
      "-2.9757E-01, -2.7069E+01, -1.7537E-07, 7.9940E+00, -9.920763E+00; evidence = -1.90989547E+01\n",
      "-2.9757E-01, -2.7069E+01, -1.7537E-07, 7.9940E+00, -9.920763E+00; evidence = -1.90989547E+01\n",
      "-2.9757E-01, -2.7069E+01, -1.7537E-07, 7.9940E+00, -9.920763E+00; evidence = -1.90989547E+01\n",
      "-2.9757E-01, -2.7069E+01, -1.7537E-07, 7.9940E+00, -9.920763E+00; evidence = -1.90989547E+01\n",
      "-2.9757E-01, -2.7069E+01, -1.7537E-07, 7.9940E+00, -9.920763E+00; evidence = -1.90989547E+01\n",
      "-2.9757E-01, -2.7069E+01, -1.7537E-07, 7.9940E+00, -9.920763E+00; evidence = -1.90989547E+01\n",
      "-2.9757E-01, -2.7069E+01, -1.7537E-07, 7.9940E+00, -9.920763E+00; evidence = -1.90989547E+01\n",
      "-2.9757E-01, -2.7069E+01, -1.7537E-07, 7.9940E+00, -9.920763E+00; evidence = -1.90989547E+01\n",
      "-2.9757E-01, -2.7069E+01, -1.7537E-07, 7.9940E+00, -9.920763E+00; evidence = -1.90989547E+01\n",
      "-2.9757E-01, -2.7069E+01, -1.7537E-07, 7.9940E+00, -9.920763E+00; evidence = -1.90989547E+01\n",
      "-2.9757E-01, -2.7069E+01, -1.7537E-07, 7.9940E+00, -9.920763E+00; evidence = -1.90989547E+01\n",
      "-2.9757E-01, -2.7069E+01, -1.7537E-07, 7.9940E+00, -9.920763E+00; evidence = -1.90989547E+01\n",
      "-2.9757E-01, -2.7069E+01, -1.7537E-07, 7.9940E+00, -9.920763E+00; evidence = -1.90989547E+01\n",
      "-2.9757E-01, -2.7069E+01, -1.7537E-07, 7.9940E+00, -9.920763E+00; evidence = -1.90989547E+01\n",
      "-2.9757E-01, -2.7069E+01, -1.7537E-07, 7.9940E+00, -9.920763E+00; evidence = -1.90989547E+01\n",
      "-2.9757E-01, -2.7069E+01, -1.7537E-07, 7.9940E+00, -9.920763E+00; evidence = -1.90989547E+01\n",
      "-2.9757E-01, -2.7069E+01, -1.7537E-07, 7.9940E+00, -9.920763E+00; evidence = -1.90989547E+01\n",
      "-2.9757E-01, -2.7069E+01, -1.7537E-07, 7.9940E+00, -9.920763E+00; evidence = -1.90989547E+01\n",
      "-2.9757E-01, -2.7069E+01, -1.7537E-07, 7.9940E+00, -9.920763E+00; evidence = -1.90989547E+01\n",
      "-2.9757E-01, -2.7069E+01, -1.7537E-07, 7.9940E+00, -9.920763E+00; evidence = -1.90989547E+01\n",
      "-2.9757E-01, -2.7069E+01, -1.7537E-07, 7.9940E+00, -9.920763E+00; evidence = -1.90989547E+01\n",
      "-2.9757E-01, -2.7069E+01, -1.7537E-07, 7.9940E+00, -9.920763E+00; evidence = -1.90989547E+01\n",
      "-2.9757E-01, -2.7069E+01, -1.7537E-07, 7.9940E+00, -9.920763E+00; evidence = -1.90989547E+01\n",
      "-2.9757E-01, -2.7069E+01, -1.7537E-07, 7.9940E+00, -9.920763E+00; evidence = -1.90989547E+01\n",
      "-2.9757E-01, -2.7069E+01, -1.7537E-07, 7.9940E+00, -9.920763E+00; evidence = -1.90989547E+01\n",
      "-2.9757E-01, -2.7069E+01, -1.7537E-07, 7.9940E+00, -9.920763E+00; evidence = -1.90989547E+01\n",
      "-2.9757E-01, -2.7069E+01, -1.7537E-07, 7.9940E+00, -9.920763E+00; evidence = -1.90989547E+01\n",
      "-2.9757E-01, -2.7069E+01, -1.7537E-07, 7.9940E+00, -9.920763E+00; evidence = -1.90989547E+01\n",
      "-2.9757E-01, -2.7069E+01, -1.7537E-07, 7.9940E+00, -9.920763E+00; evidence = -1.90989547E+01\n",
      "-2.9757E-01, -2.7069E+01, -1.7537E-07, 7.9940E+00, -9.920763E+00; evidence = -1.90989547E+01\n",
      "-2.9757E-01, -2.7069E+01, -1.7537E-07, 7.9940E+00, -9.920763E+00; evidence = -1.90989547E+01\n",
      "-2.9757E-01, -2.7069E+01, -1.7537E-07, 7.9940E+00, -9.920763E+00; evidence = -1.90989547E+01\n",
      "-2.9757E-01, -2.7069E+01, -1.7537E-07, 7.9940E+00, -9.920763E+00; evidence = -1.90989547E+01\n",
      "-2.9757E-01, -2.7069E+01, -1.7537E-07, 7.9940E+00, -9.920763E+00; evidence = -1.90989547E+01\n",
      "-2.9757E-01, -2.7069E+01, -1.7537E-07, 7.9940E+00, -9.920763E+00; evidence = -1.90989547E+01\n",
      "-2.9757E-01, -2.7069E+01, -1.7537E-07, 7.9940E+00, -9.920763E+00; evidence = -1.90989547E+01\n",
      "-2.9757E-01, -2.7069E+01, -1.7537E-07, 7.9940E+00, -9.920763E+00; evidence = -1.90989547E+01\n",
      "-2.9757E-01, -2.7069E+01, -1.7537E-07, 7.9940E+00, -9.920763E+00; evidence = -1.90989547E+01\n",
      "-2.9757E-01, -2.7069E+01, -1.7537E-07, 7.9940E+00, -9.920763E+00; evidence = -1.90989547E+01\n",
      "-2.9757E-01, -2.7069E+01, -1.7537E-07, 7.9940E+00, -9.920763E+00; evidence = -1.90989547E+01\n",
      "-2.9757E-01, -2.7069E+01, -1.7537E-07, 7.9940E+00, -9.920763E+00; evidence = -1.90989547E+01\n",
      "-2.9757E-01, -2.7069E+01, -1.7537E-07, 7.9940E+00, -9.920763E+00; evidence = -1.90989547E+01\n",
      "-2.9757E-01, -2.7069E+01, -1.7537E-07, 7.9940E+00, -9.920763E+00; evidence = -1.90989547E+01\n",
      "-2.9757E-01, -2.7069E+01, -1.7537E-07, 7.9940E+00, -9.920763E+00; evidence = -1.90989547E+01\n",
      "-2.9757E-01, -2.7069E+01, -1.7537E-07, 7.9940E+00, -9.920763E+00; evidence = -1.90989547E+01\n",
      "-2.9757E-01, -2.7069E+01, -1.7537E-07, 7.9940E+00, -9.920763E+00; evidence = -1.90989547E+01\n",
      "-2.9757E-01, -2.7069E+01, -1.7537E-07, 7.9940E+00, -9.920763E+00; evidence = -1.90989547E+01\n",
      "-2.9757E-01, -2.7069E+01, -1.7537E-07, 7.9940E+00, -9.920763E+00; evidence = -1.90989547E+01\n",
      "-2.9757E-01, -2.7069E+01, -1.7537E-07, 7.9940E+00, -9.920763E+00; evidence = -1.90989547E+01\n",
      "-2.9757E-01, -2.7069E+01, -1.7537E-07, 7.9940E+00, -9.920763E+00; evidence = -1.90989547E+01\n",
      "-2.9757E-01, -2.7069E+01, -1.7537E-07, 7.9940E+00, -9.920763E+00; evidence = -1.90989547E+01\n",
      "-2.9757E-01, -2.7069E+01, -1.7537E-07, 7.9940E+00, -9.920763E+00; evidence = -1.90989547E+01\n",
      "-2.9757E-01, -2.7069E+01, -1.7537E-07, 7.9940E+00, -9.920763E+00; evidence = -1.90989547E+01\n",
      "-2.9757E-01, -2.7069E+01, -1.7537E-07, 7.9940E+00, -9.920763E+00; evidence = -1.90989547E+01\n",
      "-2.9757E-01, -2.7069E+01, -1.7537E-07, 7.9940E+00, -9.920763E+00; evidence = -1.90989547E+01\n",
      "-2.9757E-01, -2.7069E+01, -1.7537E-07, 7.9940E+00, -9.920763E+00; evidence = -1.90989547E+01\n",
      "-2.9757E-01, -2.7069E+01, -1.7537E-07, 7.9940E+00, -9.920763E+00; evidence = -1.90989547E+01\n",
      "-2.9757E-01, -2.7069E+01, -1.7537E-07, 7.9940E+00, -9.920763E+00; evidence = -1.90989547E+01\n",
      "-2.9757E-01, -2.7069E+01, -1.7537E-07, 7.9940E+00, -9.920763E+00; evidence = -1.90989547E+01\n",
      "-2.9757E-01, -2.7069E+01, -1.7537E-07, 7.9940E+00, -9.920763E+00; evidence = -1.90989547E+01\n",
      "-2.9757E-01, -2.7069E+01, -1.7537E-07, 7.9940E+00, -9.920763E+00; evidence = -1.90989547E+01\n",
      "-2.9757E-01, -2.7069E+01, -1.7537E-07, 7.9940E+00, -9.920763E+00; evidence = -1.90989547E+01\n",
      "-2.9757E-01, -2.7069E+01, -1.7537E-07, 7.9940E+00, -9.920763E+00; evidence = -1.90989547E+01\n",
      "-2.9757E-01, -2.7069E+01, -1.7537E-07, 7.9940E+00, -9.920763E+00; evidence = -1.90989547E+01\n",
      "-2.9757E-01, -2.7069E+01, -1.7537E-07, 7.9940E+00, -9.920763E+00; evidence = -1.90989547E+01\n",
      "-2.9757E-01, -2.7069E+01, -1.7537E-07, 7.9940E+00, -9.920763E+00; evidence = -1.90989547E+01\n",
      "-2.9757E-01, -2.7069E+01, -1.7537E-07, 7.9940E+00, -9.920763E+00; evidence = -1.90989547E+01\n",
      "-2.9757E-01, -2.7069E+01, -1.7537E-07, 7.9940E+00, -9.920763E+00; evidence = -1.90989547E+01\n",
      "-2.9757E-01, -2.7069E+01, -1.7537E-07, 7.9940E+00, -9.920763E+00; evidence = -1.90989547E+01\n",
      "-2.9757E-01, -2.7069E+01, -1.7537E-07, 7.9940E+00, -9.920763E+00; evidence = -1.90989547E+01\n",
      "-2.9757E-01, -2.7069E+01, -1.7537E-07, 7.9940E+00, -9.920763E+00; evidence = -1.90989547E+01\n",
      "-2.9757E-01, -2.7069E+01, -1.7537E-07, 7.9940E+00, -9.920763E+00; evidence = -1.90989547E+01\n",
      "-2.9757E-01, -2.7069E+01, -1.7537E-07, 7.9940E+00, -9.920763E+00; evidence = -1.90989547E+01\n",
      "-2.9757E-01, -2.7069E+01, -1.7537E-07, 7.9940E+00, -9.920763E+00; evidence = -1.90989547E+01\n",
      "-2.9757E-01, -2.7069E+01, -1.7537E-07, 7.9940E+00, -9.920763E+00; evidence = -1.90989547E+01\n",
      "-2.9757E-01, -2.7069E+01, -1.7537E-07, 7.9940E+00, -9.920763E+00; evidence = -1.90989547E+01\n",
      "-2.9757E-01, -2.7069E+01, -1.7537E-07, 7.9940E+00, -9.920763E+00; evidence = -1.90989547E+01\n",
      "-2.9757E-01, -2.7069E+01, -1.7537E-07, 7.9940E+00, -9.920763E+00; evidence = -1.90989547E+01\n",
      "-2.9757E-01, -2.7069E+01, -1.7537E-07, 7.9940E+00, -9.920763E+00; evidence = -1.90989547E+01\n"
     ]
    },
    {
     "name": "stdout",
     "output_type": "stream",
     "text": [
      "-2.9757E-01, -2.7069E+01, -1.7537E-07, 7.9940E+00, -9.920763E+00; evidence = -1.90989547E+01\n",
      "-2.9757E-01, -2.7069E+01, -1.7537E-07, 7.9940E+00, -9.920763E+00; evidence = -1.90989547E+01\n",
      "-2.9757E-01, -2.7069E+01, -1.7537E-07, 7.9940E+00, -9.920763E+00; evidence = -1.90989547E+01\n",
      "-2.9757E-01, -2.7069E+01, -1.7537E-07, 7.9940E+00, -9.920763E+00; evidence = -1.90989547E+01\n",
      "Optimization terminated successfully.\n",
      "         Current function value: 27.345269\n",
      "         Iterations: 177\n",
      "         Function evaluations: 486\n"
     ]
    }
   ],
   "source": [
    "theta_0 = np.array([sigma_n, sigma_DRT, sigma_SB, ell, sigma_R])\n",
    "seq_theta = np.copy(theta_0)\n",
    "def print_results(theta):\n",
    "    global seq_theta\n",
    "    seq_theta = np.vstack((seq_theta, theta))\n",
    "    print('%.4E, %.4E, %.4E, %.4E, %.6E; evidence = %.8E'%(theta[0], theta[1], theta[2], theta[3], theta[4], gpf.NMLL_fct(theta, Z_exp.real, omega_vec, ker_opts, 're')))\n",
    "    \n",
    "res = minimize(gpf.NMLL_fct, theta_0, args=(Z_exp.real, omega_vec, ker_opts, 're'), method='Powell', \\\n",
    "               callback=print_results, options={'disp': True, 'xtol': 1E-6, 'ftol': 1E-6})\n",
    "res = minimize(gpf.NMLL_fct, res.x, args=(Z_exp.imag, omega_vec, ker_opts, 'im'), method='Nelder-Mead', \\\n",
    "               callback=print_results, options={'disp': True, 'xatol': 1E-6, 'fatol': 1E-6})\n",
    "\n",
    "theta_re = res.x\n",
    "sigma_n, sigma_DRT, sigma_SB, ell, sigma_R = theta_re"
   ]
  },
  {
   "cell_type": "code",
   "execution_count": 17,
   "metadata": {},
   "outputs": [],
   "source": [
    "# update the values of the kernel\n",
    "# as the gpf functions simply copy ker_opts\n",
    "ker_opts['sigma_SB'] = sigma_SB\n",
    "ker_opts['ell'] = ell\n",
    "ker_opts['sigma_DRT'] = sigma_DRT"
   ]
  },
  {
   "cell_type": "markdown",
   "metadata": {},
   "source": [
    "### 4.3) Check if the results are reasonable"
   ]
  },
  {
   "cell_type": "markdown",
   "metadata": {},
   "source": [
    "### 4.3.1) Check $R_\\infty$"
   ]
  },
  {
   "cell_type": "markdown",
   "metadata": {},
   "source": [
    "We predict the value $\\bar{R_\\infty}$ of $R_\\infty$ as\n",
    "\n",
    "$$\n",
    "\\bar{R_\\infty} = \\frac {\\boldsymbol 1^\\top (\\mathbf K_{\\rm re} + \\sigma_{n}^{2} \\mathbf{I})^{-1} \\mathbf Z_{\\rm exp,re}(\\boldsymbol \\omega)} {\\sigma_{\\rm R}^{-2} + \\boldsymbol 1^\\top (\\mathbf K_{\\rm re} + \\sigma_{n}^{2} \\mathbf{I})^{-1} \\boldsymbol 1} \n",
    "$$\n",
    "\n",
    "where $\\boldsymbol 1$ is the column vector of size $N_{\\rm freqs}$ ($N_{\\rm freqs}$ is the numnber of probed frequencies) whose components are all equal to 1 (more details in: J. Liu, F. Ciucci, The Gaussian process distribution of relaxation times: A machine learning tool for the analysis and prediction of electrochemical impedance spectroscopy data, Electrochim. Acta. 331 (2020) 135316.)."
   ]
  },
  {
   "cell_type": "code",
   "execution_count": 18,
   "metadata": {},
   "outputs": [
    {
     "name": "stdout",
     "output_type": "stream",
     "text": [
      "R_inf_est = 1.000421E+01 Ohm vs. R_inf = 1.000000E+01 Ohm\n"
     ]
    }
   ],
   "source": [
    "K_re = gpf.mat_K(omega_vec, omega_vec, ker_opts, 're')\n",
    "Sigma = (sigma_n**2)*np.eye(N_freqs)\n",
    "K_full = K_re + Sigma + (sigma_R**2)*np.ones_like(Sigma)\n",
    "K_full_reg = K_re + Sigma\n",
    "\n",
    "# Cholesky-decompose K_full\n",
    "if not gpf.is_PD(K_full_reg):\n",
    "    K_full_reg = gpf.nearest_PD(K_full_reg)\n",
    "\n",
    "# inverse of K_re\n",
    "L = np.linalg.cholesky(K_full_reg)\n",
    "inv_L = np.linalg.inv(L)\n",
    "inv_K_full_reg = np.dot(inv_L.T, inv_L)\n",
    "\n",
    "num_R_inf = np.ones(N_freqs)@(inv_K_full_reg@Z_exp.real)\n",
    "den_R_inf = (sigma_R**-2) + np.ones(N_freqs)@(inv_K_full_reg@np.ones(N_freqs))\n",
    "R_inf_est = num_R_inf/den_R_inf\n",
    "\n",
    "print('R_inf_est = %.6E Ohm vs. R_inf = %.6E Ohm'%(R_inf_est, R_inf))"
   ]
  },
  {
   "cell_type": "markdown",
   "metadata": {},
   "source": [
    "### 4.3.2) Check the fit of $\\Re(Z_{\\rm exp})$ against the GP"
   ]
  },
  {
   "cell_type": "markdown",
   "metadata": {},
   "source": [
    "### 4.3.2.1) Run the GP regression"
   ]
  },
  {
   "cell_type": "code",
   "execution_count": 19,
   "metadata": {},
   "outputs": [],
   "source": [
    "# Cholesky-decompose K_full\n",
    "if not gpf.is_PD(K_full):\n",
    "    K_full = gpf.nearest_PD(K_full)\n",
    "\n",
    "# cholesky factorization\n",
    "L = np.linalg.cholesky(K_full)\n",
    "\n",
    "# covariance matrix\n",
    "inv_L = np.linalg.inv(L)\n",
    "inv_K_full = np.dot(inv_L.T, inv_L)\n",
    "\n",
    "N_star_freqs = N_freqs\n",
    "freq_star_vec = np.copy(freq_vec) #np.logspace(-4., 4., num=N_star_freqs, endpoint=True)\n",
    "omega_star_vec = 2.*np.pi*freq_star_vec\n",
    "\n",
    "mu_star_vec = np.zeros_like(omega_star_vec)\n",
    "sigma_star_vec = np.zeros_like(omega_star_vec)\n",
    "\n",
    "for index, omega_star in enumerate(omega_star_vec):\n",
    "    #print('iter = ', index+1, '/', N_star_freqs)\n",
    "    omega_star_np = np.array([omega_star])\n",
    "    \n",
    "    k_star_star = gpf.mat_K(omega_star_np, omega_star_np, ker_opts, 're').flatten() + (sigma_R**2)\n",
    "    k_star = gpf.mat_K(omega_star_np, omega_vec, ker_opts, 're').flatten() + (sigma_R**2)*np.ones(N_freqs)\n",
    "\n",
    "    mu_star_vec[index] = k_star@(inv_K_full@Z_exp.real)\n",
    "    sigma_star_vec[index] = np.sqrt(k_star_star - k_star@(inv_K_full@k_star))"
   ]
  },
  {
   "cell_type": "markdown",
   "metadata": {},
   "source": [
    "### 4.3.2.2) Plot the outcome of the GP regression"
   ]
  },
  {
   "cell_type": "code",
   "execution_count": 20,
   "metadata": {},
   "outputs": [
    {
     "data": {
      "image/png": "[encoded data removed]",
      "text/plain": [
       "<Figure size 640x480 with 1 Axes>"
      ]
     },
     "metadata": {},
     "output_type": "display_data"
    }
   ],
   "source": [
    "plt.fill_between(freq_star_vec, mu_star_vec-3*sigma_star_vec, mu_star_vec+3*sigma_star_vec,  facecolor='lightgrey')\n",
    "plt.fill_between(freq_star_vec, mu_star_vec-2*sigma_star_vec, mu_star_vec+2*sigma_star_vec,  facecolor='silver')\n",
    "plt.fill_between(freq_star_vec, mu_star_vec-sigma_star_vec, mu_star_vec+sigma_star_vec,  facecolor='grey')\n",
    "plt.semilogx(freq_star_vec, mu_star_vec, linewidth=4, color='black', label='GP')\n",
    "plt.semilogx(freq_vec,  Z_exp.real, 'o', markersize=5, color='red', label='exp')\n",
    "plt.xlim(1E-2, 1E6)\n",
    "plt.xscale('log')\n",
    "plt.xlabel(r'$f/{\\rm Hz}$', fontsize=20)\n",
    "plt.ylabel(r'$Z_{\\rm re}/\\Omega$', fontsize=20)\n",
    "plt.legend(frameon=False, fontsize = 15)\n",
    "plt.show()"
   ]
  },
  {
   "cell_type": "markdown",
   "metadata": {},
   "source": [
    "## 5) Bundle things together"
   ]
  },
  {
   "cell_type": "code",
   "execution_count": 21,
   "metadata": {},
   "outputs": [],
   "source": [
    "Z_exp_all = np.zeros(2*N_freqs)\n",
    "Z_exp_all[:N_freqs] = Z_exp.real\n",
    "Z_exp_all[N_freqs:] = Z_exp.imag"
   ]
  },
  {
   "cell_type": "markdown",
   "metadata": {},
   "source": [
    "### 5.1) Initialize the hyperparameters"
   ]
  },
  {
   "cell_type": "code",
   "execution_count": 22,
   "metadata": {},
   "outputs": [],
   "source": [
    "sigma_n, sigma_DRT, sigma_SB, ell = 0.5*(abs(theta_re[:4])+abs(theta_im[:4]))\n",
    "sigma_R = abs(theta_re[-1])\n",
    "sigma_L = abs(theta_im[-1])"
   ]
  },
  {
   "cell_type": "code",
   "execution_count": 36,
   "metadata": {
    "scrolled": true
   },
   "outputs": [
    {
     "name": "stdout",
     "output_type": "stream",
     "text": [
      "2.8491E-01, 2.6651E+01, 7.4833E-09, 1.2249E+01 9.9934E+00, 2.320439E-14; evidence = -7.80203785E+01\n",
      "2.8491E-01, 2.6651E+01, -5.9831E-08, 1.2249E+01 9.9934E+00, 2.320439E-14; evidence = -7.80203785E+01\n",
      "Optimization terminated successfully.\n",
      "         Current function value: -78.020379\n",
      "         Iterations: 2\n",
      "         Function evaluations: 340\n"
     ]
    }
   ],
   "source": [
    "theta_0 = [sigma_n, sigma_DRT, sigma_SB, ell, sigma_R, sigma_L]\n",
    "seq_theta = np.copy(theta_0)\n",
    "\n",
    "def print_results(theta):\n",
    "    global seq_theta\n",
    "    seq_theta = np.vstack((seq_theta, theta))\n",
    "    print('%.4E, %.4E, %.4E, %.4E %.4E, %.6E; evidence = %.8E'%(theta[0], theta[1], theta[2], theta[3], theta[4], theta[5], gpf.NMLL_fct(theta, Z_exp_all, omega_vec, ker_opts, 'all')))\n",
    "    \n",
    "res = minimize(gpf.NMLL_fct, theta_0, args=(Z_exp_all, omega_vec, ker_opts, 'all'), method='Powell', \\\n",
    "               callback=print_results, options={'disp': True, 'xtol': 1E-6, 'ftol': 1E-6})\n",
    "#res = minimize(gpf.NMLL_fct, res.x, args=(Z_exp.imag, omega_vec, ker_opts, 'im'), method='Nelder-Mead', \\\n",
    "               #callback=print_results, options={'disp': True, 'xatol': 1E-6, 'fatol': 1E-6})\n",
    "\n",
    "theta = res.x\n",
    "sigma_n, sigma_DRT, sigma_SB, ell, sigma_R, sigma_L = theta"
   ]
  },
  {
   "cell_type": "code",
   "execution_count": 38,
   "metadata": {},
   "outputs": [],
   "source": [
    "# update the values of the kernel as the gpf functions simply copy ker_opts\n",
    "ker_opts['sigma_SB'] = sigma_SB\n",
    "ker_opts['ell'] = ell\n",
    "ker_opts['sigma_DRT'] = sigma_DRT\n",
    "\n",
    "tau_max = 10 # s"
   ]
  },
  {
   "cell_type": "markdown",
   "metadata": {},
   "source": [
    "### 5.2) Check if the results are reasonable"
   ]
  },
  {
   "cell_type": "markdown",
   "metadata": {},
   "source": [
    "Compute the blocks in the covariance matrix defined in equation (6c) of the main manuscript."
   ]
  },
  {
   "cell_type": "code",
   "execution_count": 39,
   "metadata": {},
   "outputs": [],
   "source": [
    "K_re = gpf.mat_K(omega_vec, omega_vec, ker_opts, 're')\n",
    "K_im = gpf.mat_K(omega_vec, omega_vec, ker_opts, 'im')\n",
    "K_re_im = gpf.mat_K(omega_vec, omega_vec, ker_opts, 're-im')\n",
    "K_im_re = gpf.mat_K(omega_vec, omega_vec, ker_opts, 'im-re')"
   ]
  },
  {
   "cell_type": "markdown",
   "metadata": {},
   "source": [
    "Assemble the covariance matrix defined in equation (6c)."
   ]
  },
  {
   "cell_type": "code",
   "execution_count": 40,
   "metadata": {},
   "outputs": [],
   "source": [
    "Sigma = sigma_n**2*np.eye(N_freqs)\n",
    "K_full = np.zeros((2*N_freqs, 2*N_freqs))\n",
    "K_full[:N_freqs, :N_freqs] = K_re + Sigma + (sigma_R**2)*np.ones(N_freqs)\n",
    "K_full[:N_freqs, N_freqs:] = K_re_im\n",
    "K_full[N_freqs:, :N_freqs] = K_im_re\n",
    "K_full[N_freqs:, N_freqs:] = K_im + Sigma + (sigma_L**2)*np.outer(omega_vec, omega_vec)"
   ]
  },
  {
   "cell_type": "markdown",
   "metadata": {},
   "source": [
    "Ensure the full covariance matrix is positive definite, and, if not, replace it with its nearest positive definite matrix."
   ]
  },
  {
   "cell_type": "code",
   "execution_count": 41,
   "metadata": {},
   "outputs": [],
   "source": [
    "if not gpf.is_PD(K_full):\n",
    "    K_full = gpf.nearest_PD(K_full)"
   ]
  },
  {
   "cell_type": "markdown",
   "metadata": {},
   "source": [
    "Compute the Cholesky factorisation of the full covariance matrix to evaluate its inverse."
   ]
  },
  {
   "cell_type": "code",
   "execution_count": 42,
   "metadata": {},
   "outputs": [],
   "source": [
    "# cholesky factorisation\n",
    "L = np.linalg.cholesky(K_full)\n",
    "\n",
    "# covariance matrix\n",
    "inv_L = np.linalg.inv(L)\n",
    "inv_K_full = np.dot(inv_L.T, inv_L)"
   ]
  },
  {
   "cell_type": "markdown",
   "metadata": {},
   "source": [
    "### 5.2.1) Run the GP regression"
   ]
  },
  {
   "cell_type": "code",
   "execution_count": 43,
   "metadata": {},
   "outputs": [],
   "source": [
    "N_star_freqs = N_freqs\n",
    "freq_star_vec = np.copy(freq_vec)\n",
    "omega_star_vec = 2.*np.pi*freq_star_vec\n",
    "\n",
    "mu_re_star_vec = np.zeros_like(omega_star_vec)\n",
    "sigma_re_star_vec = np.zeros_like(omega_star_vec)\n",
    "\n",
    "mu_im_star_vec = np.zeros_like(omega_star_vec)\n",
    "sigma_im_star_vec = np.zeros_like(omega_star_vec)\n",
    "\n",
    "\n",
    "for index, omega_star in enumerate(omega_star_vec):\n",
    "    \n",
    "    #print('iter = ', index+1, '/', N_star_freqs)\n",
    "    omega_star_np = np.array([omega_star])\n",
    "    \n",
    "    # k_star_star # equation (6a)\n",
    "    k_star_star_re = gpf.mat_K(omega_star_np, omega_star_np, ker_opts, 're').flatten() + (sigma_R**2) \n",
    "    k_star_star_im = gpf.mat_K(omega_star_np, omega_star_np, ker_opts, 'im').flatten() + (sigma_L**2)*omega_star_np**2\n",
    "    \n",
    "    # k_star # equation (6b)\n",
    "    k_star_re_re = gpf.mat_K(omega_star_np, omega_vec, ker_opts, 're').flatten() + (sigma_R**2)*np.ones(N_freqs)\n",
    "    k_star_re_im = gpf.mat_K(omega_star_np, omega_vec, ker_opts, 're-im').flatten()\n",
    "    k_star_im_re = gpf.mat_K(omega_star_np, omega_vec, ker_opts, 'im-re').flatten()\n",
    "    k_star_im_im = gpf.mat_K(omega_star_np, omega_vec, ker_opts, 'im').flatten() + (sigma_L**2)*omega_vec*omega_star_np\n",
    "\n",
    "    # k_star_re\n",
    "    k_star_re = np.zeros(2*N_freqs)\n",
    "    k_star_re[:N_freqs] = k_star_re_re\n",
    "    k_star_re[N_freqs:] = k_star_re_im\n",
    "    \n",
    "    # k_star_im\n",
    "    k_star_im = np.zeros(2*N_freqs)\n",
    "    k_star_im[:N_freqs] = k_star_im_re\n",
    "    k_star_im[N_freqs:] = k_star_im_im\n",
    "    \n",
    "    mu_re_star_vec[index] = k_star_re@(inv_K_full@Z_exp_all) # equation (9a)\n",
    "    sigma_re_star_vec[index] = np.sqrt(k_star_star_re - k_star_re@(inv_K_full@k_star_re)) # equation (9b)\n",
    "    \n",
    "    mu_im_star_vec[index] = k_star_im@(inv_K_full@Z_exp_all) # equation (9a)\n",
    "    sigma_im_star_vec[index] = np.sqrt(k_star_star_im - k_star_im@(inv_K_full@k_star_im)) # equation (9b)"
   ]
  },
  {
   "cell_type": "markdown",
   "metadata": {},
   "source": [
    "### 5.2.1.1) Plot the regressed imaginary part"
   ]
  },
  {
   "cell_type": "code",
   "execution_count": 44,
   "metadata": {},
   "outputs": [
    {
     "data": {
      "image/png": "[encoded data removed]",
      "text/plain": [
       "<Figure size 640x480 with 1 Axes>"
      ]
     },
     "metadata": {},
     "output_type": "display_data"
    }
   ],
   "source": [
    "plt.fill_between(freq_star_vec, -mu_im_star_vec-3*sigma_im_star_vec, -mu_im_star_vec+3*sigma_im_star_vec,  facecolor='lightgrey')\n",
    "plt.fill_between(freq_star_vec, -mu_im_star_vec-2*sigma_im_star_vec, -mu_im_star_vec+2*sigma_im_star_vec,  facecolor='silver')\n",
    "plt.fill_between(freq_star_vec, -mu_im_star_vec-sigma_im_star_vec, -mu_im_star_vec+sigma_im_star_vec,  facecolor='grey')\n",
    "plt.semilogx(freq_star_vec, -mu_im_star_vec, linewidth=4, color='black', label='GP')\n",
    "plt.semilogx(freq_vec,  -Z_exp.imag, 'o', markersize=5, color='red', label='exp')\n",
    "plt.xlim(1E-2, 1E6)\n",
    "plt.xscale('log')\n",
    "plt.xlabel(r'$f/{\\rm Hz}$', fontsize=20)\n",
    "plt.ylabel(r'$-Z_{\\rm im}/\\Omega$', fontsize=20)\n",
    "plt.legend(frameon=False, fontsize = 15)\n",
    "plt.show()"
   ]
  },
  {
   "cell_type": "markdown",
   "metadata": {},
   "source": [
    "### 5.2.1.2) Plot the regressed real part"
   ]
  },
  {
   "cell_type": "code",
   "execution_count": 45,
   "metadata": {},
   "outputs": [
    {
     "data": {
      "image/png": "[encoded data removed]",
      "text/plain": [
       "<Figure size 640x480 with 1 Axes>"
      ]
     },
     "metadata": {},
     "output_type": "display_data"
    }
   ],
   "source": [
    "plt.fill_between(freq_star_vec, mu_re_star_vec-3*sigma_re_star_vec, mu_re_star_vec+3*sigma_re_star_vec,  facecolor='lightgrey')\n",
    "plt.fill_between(freq_star_vec, mu_re_star_vec-2*sigma_re_star_vec, mu_re_star_vec+2*sigma_re_star_vec,  facecolor='silver')\n",
    "plt.fill_between(freq_star_vec, mu_re_star_vec-sigma_re_star_vec, mu_re_star_vec+sigma_re_star_vec,  facecolor='grey')\n",
    "plt.semilogx(freq_star_vec, mu_re_star_vec, linewidth=4, color='black', label='GP')\n",
    "plt.semilogx(freq_vec,  Z_exp.real, 'o', markersize=5, color='red', label='exp')\n",
    "plt.xlim(1E-2, 1E6)\n",
    "plt.xscale('log')\n",
    "plt.xlabel(r'$f/{\\rm Hz}$', fontsize=20)\n",
    "plt.ylabel(r'$Z_{\\rm re}/\\Omega$', fontsize=20)\n",
    "plt.legend(frameon=False, fontsize = 15)\n",
    "plt.show()"
   ]
  },
  {
   "cell_type": "markdown",
   "metadata": {},
   "source": [
    "### 5.2.1.3) Imaginary difference plot"
   ]
  },
  {
   "cell_type": "code",
   "execution_count": 46,
   "metadata": {},
   "outputs": [],
   "source": [
    "diff_im = -mu_im_star_vec+Z_exact.imag\n",
    "sigma_diff_im = sigma_im_star_vec"
   ]
  },
  {
   "cell_type": "code",
   "execution_count": 47,
   "metadata": {},
   "outputs": [
    {
     "data": {
      "image/png": "[encoded data removed]",
      "text/plain": [
       "<Figure size 640x480 with 1 Axes>"
      ]
     },
     "metadata": {},
     "output_type": "display_data"
    }
   ],
   "source": [
    "plt.fill_between(freq_star_vec, diff_im-3*sigma_diff_im, diff_im+3*sigma_diff_im,  facecolor='lightgrey')\n",
    "plt.fill_between(freq_star_vec, diff_im-2*sigma_diff_im, diff_im+2*sigma_diff_im,  facecolor='silver')\n",
    "plt.fill_between(freq_star_vec, diff_im-sigma_diff_im, diff_im+sigma_diff_im,  facecolor='grey')\n",
    "plt.semilogx(freq_star_vec, diff_im, linewidth=4, color='black', label='GP')\n",
    "plt.semilogx(freq_star_vec, np.zeros_like(freq_star_vec), linewidth=2, color='black', ls = ':')\n",
    "plt.xlim(1E-2, 1E6)\n",
    "plt.ylim(-2, 2)\n",
    "plt.xscale('log')\n",
    "plt.xlabel(r'$f/{\\rm Hz}$', fontsize=20)\n",
    "plt.ylabel(r'$\\left(Z_{\\rm im}-Z_{\\rm im, GP}\\right)/\\Omega$', fontsize=20)\n",
    "plt.show()"
   ]
  },
  {
   "cell_type": "markdown",
   "metadata": {},
   "source": [
    "### 5.2.1.4) Real difference plot"
   ]
  },
  {
   "cell_type": "code",
   "execution_count": 48,
   "metadata": {},
   "outputs": [],
   "source": [
    "diff_re = -mu_re_star_vec+Z_exact.real\n",
    "sigma_diff_re = sigma_re_star_vec"
   ]
  },
  {
   "cell_type": "code",
   "execution_count": 49,
   "metadata": {
    "scrolled": true
   },
   "outputs": [
    {
     "data": {
      "image/png": "[encoded data removed]",
      "text/plain": [
       "<Figure size 640x480 with 1 Axes>"
      ]
     },
     "metadata": {},
     "output_type": "display_data"
    }
   ],
   "source": [
    "plt.fill_between(freq_star_vec, diff_re-3*sigma_diff_re, diff_re+3*sigma_diff_re,  facecolor='lightgrey')\n",
    "plt.fill_between(freq_star_vec, diff_re-2*sigma_diff_re, diff_re+2*sigma_diff_re,  facecolor='silver')\n",
    "plt.fill_between(freq_star_vec, diff_re-sigma_diff_re, diff_re+sigma_diff_re,  facecolor='grey')\n",
    "plt.semilogx(freq_star_vec, diff_re, linewidth=4, color='black', label='GP')\n",
    "plt.semilogx(freq_star_vec, np.zeros_like(freq_star_vec), linewidth=2, color='black', ls = ':')\n",
    "plt.xlim(1E-2, 1E6)\n",
    "plt.ylim(-2, 2)\n",
    "plt.xscale('log')\n",
    "plt.xlabel(r'$f/{\\rm Hz}$', fontsize=20)\n",
    "plt.ylabel(r'$\\left(Z_{\\rm re}-Z_{\\rm re, GP}\\right)/\\Omega$', fontsize=20)\n",
    "plt.show()"
   ]
  },
  {
   "cell_type": "code",
   "execution_count": null,
   "metadata": {},
   "outputs": [],
   "source": []
  },
  {
   "cell_type": "markdown",
   "metadata": {},
   "source": [
    "## 6) Evaluate the charge-transfer resistance as a stochastic Gaussian variable"
   ]
  },
  {
   "cell_type": "markdown",
   "metadata": {},
   "source": [
    "We recall that \n",
    "\n",
    "$$ \n",
    "\\begin{pmatrix}\n",
    "Z_{\\rm re}(\\omega \\rightarrow 0) \\\\\n",
    "Z_{\\rm re}(\\omega \\rightarrow \\infty) \\end{pmatrix} | \\; \\mathbf Z = \\mathbf Z_{\\rm exp}\n",
    "\\sim \\mathcal{N} \\left(\\bf \\mu_{\\rm re}(0,\\infty), \\mathbf \\Sigma_{\\rm re}(0,\\infty) \\right) \n",
    "$$\n",
    "\n",
    "where \n",
    "\n",
    "$$\n",
    "\\mu_{\\rm re}(0,\\infty) = \\begin{pmatrix}\n",
    "\\mu^{0}_{\\rm re} \\\\\n",
    "\\mu^{\\infty}_{\\rm re} \\end{pmatrix} = \\mathbf K_{\\rm re,im}(0,\\infty) \\mathbf K^{-1}(\\bf \\omega,\\bf \\omega) \\mathbf Z_{\\rm exp}\n",
    "$$\n",
    "\n",
    "$$ \n",
    "\\Sigma_{\\rm re}(0,\\infty) = \\begin{pmatrix}\n",
    "\\Sigma^{0}_{\\rm re} & \\Sigma^{0,\\infty}_{\\rm re} \\\\\n",
    "\\Sigma^{0,\\infty}_{\\rm re} & \\Sigma^{\\infty}_{\\rm re} \\end{pmatrix} = \\mathbf K_{\\rm re}(0,\\infty) - \\mathbf K_{\\rm re,im}(0,\\infty) \\mathbf K^{-1}(\\omega,\\omega) \\mathbf K^\\top_{\\rm re,im}(0,\\infty) \n",
    "$$\n",
    "\n",
    "The charge-transfer resistance $ R_{\\rm ct} = Z_{\\rm re}(0) - Z_{\\rm re}(\\infty)$ is the following Gaussian random variable\n",
    "\n",
    "$$\n",
    "R_{\\rm ct} \\sim \\mathcal{N} \\left(\\mu_{R_{\\rm ct}}, \\mathbf \\sigma^{2}_{R_{\\rm ct}} \\right) \n",
    "$$\n",
    "\n",
    "where\n",
    "\n",
    "$$\n",
    "\\mu_{R_{\\rm ct}} = \\mu^{0}_{\\rm re} - \\mu^{\\infty}_{\\rm re}\n",
    "$$\n",
    "\n",
    "$$\n",
    "\\sigma_{R_{\\rm ct}} = \\sqrt{\\Sigma^{0}_{\\rm re} - 2\\Sigma^{0,\\infty}_{\\rm re} + \\Sigma^{\\infty}_{\\rm re}}\n",
    "$$"
   ]
  },
  {
   "cell_type": "code",
   "execution_count": 50,
   "metadata": {},
   "outputs": [
    {
     "name": "stdout",
     "output_type": "stream",
     "text": [
      "stochastic Rct 50.43739299117624 Ohm\n",
      "exact 50.0 Ohm\n",
      "std_Rct 0.320657226586627 Ohm\n"
     ]
    }
   ],
   "source": [
    "K_re_0inf = np.zeros((2,2)) # equation (15a)\n",
    "K_re_0inf[0,0] = tau_max*sigma_DRT**2 + sigma_R**2 + 2*sigma_SB**2 \n",
    "K_re_0inf[0,1] = sigma_R**2\n",
    "K_re_0inf[1,0] = sigma_R**2\n",
    "K_re_0inf[1,1] = sigma_R**2 + sigma_SB**2 \n",
    "\n",
    "K_reim_0inf = np.zeros((2, 2*N_freqs)) # equation (15b)\n",
    "for i in range(N_freqs):\n",
    "    K_reim_0inf[0,i] = np.arctan(tau_max*omega_vec[i])*sigma_DRT**2/omega_vec[i] + sigma_R**2 \n",
    "    + gpf.k_SB(0,omega_vec[i], ker_opts, 're') \n",
    "    K_reim_0inf[0,i+N_freqs] = -np.log(1 + omega_vec[i]**2*tau_max**2)*sigma_DRT**2/(2*omega_vec[i]) - gpf.k_SB(0,omega_vec[i], ker_opts, 're-im') \n",
    "    K_reim_0inf[1,i] = sigma_R**2\n",
    "\n",
    "# Mean of the charge-transfer resistance considered as a Gaussian random variable\n",
    "mu_re_0inf = np.dot(K_reim_0inf, np.dot(inv_K_full, Z_exp_all)) # equation (17a)\n",
    "mean_Rct = mu_re_0inf[0] - mu_re_0inf[1] # equation (18)\n",
    "print('stochastic Rct', mean_Rct, 'Ohm') # comparison with the exact value of R_ct\n",
    "print('exact', R_ct, 'Ohm')\n",
    "\n",
    "# Standard deviation of the charge-transfer resistance considered as a Gaussian random variable\n",
    "sigma_re_0inf = K_re_0inf - np.dot(K_reim_0inf, np.dot(inv_K_full, np.transpose(K_reim_0inf))) # equation (17b)\n",
    "if not gpf.is_PD(sigma_re_0inf): # replace sigma_re_0inf with its nearest positive definite matrix if not positive definite\n",
    "    sigma_re_0inf = gpf.nearest_PD(sigma_re_0inf)\n",
    "std_Rct = np.sqrt(sigma_re_0inf[0,0] - 2*sigma_re_0inf[0,1] + sigma_re_0inf[1,1]) # equation (18)\n",
    "print('std_Rct', std_Rct, 'Ohm')"
   ]
  },
  {
   "cell_type": "code",
   "execution_count": null,
   "metadata": {},
   "outputs": [],
   "source": []
  }
 ],
 "metadata": {
  "kernelspec": {
   "display_name": "Python 3 (ipykernel)",
   "language": "python",
   "name": "python3"
  },
  "language_info": {
   "codemirror_mode": {
    "name": "ipython",
    "version": 3
   },
   "file_extension": ".py",
   "mimetype": "text/x-python",
   "name": "python",
   "nbconvert_exporter": "python",
   "pygments_lexer": "ipython3",
   "version": "3.9.13"
  },
  "nteract": {
   "version": "0.28.0"
  }
 },
 "nbformat": 4,
 "nbformat_minor": 4
}
