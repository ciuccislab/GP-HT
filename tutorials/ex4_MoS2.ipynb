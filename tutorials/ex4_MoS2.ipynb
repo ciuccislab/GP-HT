{
 "cells": [
  {
   "cell_type": "markdown",
   "metadata": {},
   "source": [
    "# Computing the GP-DRT"
   ]
  },
  {
   "cell_type": "markdown",
   "metadata": {},
   "source": [
    "In this example we are going to use a simple model to illustrate how the GP-DRT model works for impedance data that is unbounded. We are going to take the data from the following article:\n",
    "Wu et al. Dual-phase MoS2 as a high-performance sodium-ion battery anode. Journal of Materials Chemistry A, 8, 2114-2122 (2020). https://doi.org/10.1039/C9TA11913B"
   ]
  },
  {
   "cell_type": "code",
   "execution_count": 1,
   "metadata": {},
   "outputs": [],
   "source": [
    "# import the libraries needed\n",
    "import importlib\n",
    "import GP_hilbert_unbounded\n",
    "importlib.reload(GP_hilbert_unbounded)\n",
    "\n",
    "import numpy as np\n",
    "import matplotlib.pyplot as plt\n",
    "from math import pi, log10, sqrt\n",
    "from scipy.optimize import minimize\n",
    "import seaborn as sns\n",
    "import pandas as pd"
   ]
  },
  {
   "cell_type": "code",
   "execution_count": 2,
   "metadata": {},
   "outputs": [],
   "source": [
    "# plot standards\n",
    "plt.rc('font', family='serif', size=15)\n",
    "plt.rc('text', usetex=True)\n",
    "plt.rc('xtick', labelsize=15)\n",
    "plt.rc('ytick', labelsize=15)"
   ]
  },
  {
   "cell_type": "markdown",
   "metadata": {},
   "source": [
    "## 1) Upload impedance data, $Z_{\\rm exp}(\\omega)$, and show both impedance  and admittance, $Y_{\\rm exp}(\\omega)$"
   ]
  },
  {
   "cell_type": "markdown",
   "metadata": {},
   "source": [
    "### 1.1) Upload the data from csv file"
   ]
  },
  {
   "cell_type": "code",
   "execution_count": 3,
   "metadata": {},
   "outputs": [],
   "source": [
    "Z_data = pd.read_csv('./data/MoS2 2H.csv')\n",
    "freq_vec, Z_exp = Z_data['freq'].values, Z_data['Z_Re'].values + 1j*Z_data['Z_Im'].values\n",
    "freq_min = min(freq_vec)\n",
    "freq_max = max(freq_vec)\n",
    "tau_vec = 1./freq_vec\n",
    "omega_vec = 2.*pi*freq_vec\n",
    "N_freqs = len(freq_vec)"
   ]
  },
  {
   "cell_type": "markdown",
   "metadata": {},
   "source": [
    "### 1.2) Plot the impedance $Z_{\\rm exp}(\\omega)$"
   ]
  },
  {
   "cell_type": "code",
   "execution_count": 4,
   "metadata": {},
   "outputs": [
    {
     "data": {
      "image/png": "[encoded data removed]",
      "text/plain": [
       "<Figure size 432x288 with 1 Axes>"
      ]
     },
     "metadata": {
      "needs_background": "light"
     },
     "output_type": "display_data"
    }
   ],
   "source": [
    "# plot starting impedance\n",
    "fig, ax = plt.subplots()\n",
    "\n",
    "plt.plot(np.real(Z_exp), -np.imag(Z_exp), 'o',\n",
    "         markersize=5, color='red', label='exp')\n",
    "\n",
    "plt.plot(np.real(Z_exp[6:30:12]), -np.imag(Z_exp[6:30:12]),\n",
    "         'p', markersize=7, color=\"black\")\n",
    "plt.plot(np.real(Z_exp[42]), -np.imag(Z_exp[42]),\n",
    "         'p', markersize=7, color=\"black\")\n",
    "plt.plot(np.real(Z_exp[30]), -np.imag(Z_exp[30]),\n",
    "         'p', markersize=7, color=\"black\")\n",
    "\n",
    "plt.annotate(r'$0.1$ Hz', xy=(np.real(Z_exp[6]), -np.imag(Z_exp[6])),\n",
    "             xytext=(np.real(Z_exp[6])+20, -np.imag(Z_exp[6])),\n",
    "             arrowprops=dict(arrowstyle='-', connectionstyle='arc'))\n",
    "plt.annotate(r'$10.3$ Hz', xy=(np.real(Z_exp[18]), -np.imag(Z_exp[18])),\n",
    "             xytext=(np.real(Z_exp[18])+20, 10-np.imag(Z_exp[18])),\n",
    "             arrowprops=dict(arrowstyle='-', connectionstyle='arc'))\n",
    "plt.annotate(r'$10^3$ Hz', xy=(np.real(Z_exp[30]), -np.imag(Z_exp[30])),\n",
    "             xytext=(np.real(Z_exp[30])-18, 55-np.imag(Z_exp[30])),\n",
    "             arrowprops=dict(arrowstyle='-', connectionstyle='arc'))\n",
    "plt.annotate(r'$10^{5}$ Hz', xy=(np.real(Z_exp[42]), -np.imag(Z_exp[42])),\n",
    "             xytext=(np.real(Z_exp[42])-22, 20-np.imag(Z_exp[42])),\n",
    "             arrowprops=dict(arrowstyle='-', connectionstyle='arc'))\n",
    "\n",
    "plt.axis('scaled')\n",
    "plt.xlim(0, 210)\n",
    "plt.ylim(0, 210)\n",
    "plt.xticks(range(0, 210, 50))\n",
    "plt.yticks(range(0, 210, 50))\n",
    "\n",
    "plt.xlabel(r'$Z_{\\rm re}/\\Omega$', fontsize=20)\n",
    "plt.ylabel(r'$-Z_{\\rm im}/\\Omega$', fontsize=20)\n",
    "plt.show()"
   ]
  },
  {
   "cell_type": "markdown",
   "metadata": {},
   "source": [
    "### 1.3) Plot the admittance $Y_{\\rm exp}(\\omega)$"
   ]
  },
  {
   "cell_type": "code",
   "execution_count": 5,
   "metadata": {},
   "outputs": [
    {
     "data": {
      "image/png": "[encoded data removed]",
      "text/plain": [
       "<Figure size 432x288 with 1 Axes>"
      ]
     },
     "metadata": {
      "needs_background": "light"
     },
     "output_type": "display_data"
    }
   ],
   "source": [
    "# Y_exact = 1000/Z_exact\n",
    "Y_exp = 1000/Z_exp # units are mS\n",
    "\n",
    "fig, ax = plt.subplots()\n",
    "\n",
    "plt.plot(np.real(Y_exp), np.imag(Y_exp), 'o', markersize=5, color='red', label='exp')\n",
    "plt.plot(np.real(Y_exp[6:43:12]), np.imag(Y_exp[6:43:12]), 'p', markersize=7, color=\"black\")\n",
    "\n",
    "plt.annotate(r'$0.1$ Hz', xy=(np.real(Y_exp[6]), np.imag(Y_exp[6])),\n",
    "             xytext=(np.real(Y_exp[6])-3, 2+np.imag(Y_exp[6])+2),\n",
    "             arrowprops=dict(arrowstyle='-', connectionstyle='arc'))\n",
    "plt.annotate(r'$10.3$ Hz', xy=(np.real(Y_exp[18]), np.imag(Y_exp[18])),\n",
    "             xytext=(np.real(Y_exp[18])-11, np.imag(Y_exp[18])),\n",
    "             arrowprops=dict(arrowstyle='-', connectionstyle='arc'))\n",
    "plt.annotate(r'$10^{3}$ Hz', xy=(np.real(Y_exp[30]), np.imag(Y_exp[30])),\n",
    "             xytext=(np.real(Y_exp[30])+4, np.imag(Y_exp[30])),\n",
    "             arrowprops=dict(arrowstyle='-', connectionstyle='arc'))\n",
    "plt.annotate(r'$10^{5}$ Hz', xy=(np.real(Y_exp[42]), np.imag(Y_exp[42])),\n",
    "             xytext=(np.real(Y_exp[42])+3, np.imag(Y_exp[42])+2),\n",
    "             arrowprops=dict(arrowstyle='-', connectionstyle='arc'))\n",
    "\n",
    "plt.axis('scaled')\n",
    "plt.xlim(0, 50)\n",
    "plt.ylim(-0.5, 15)\n",
    "\n",
    "plt.xticks(range(0, 51, 5))\n",
    "plt.yticks(range(0, 16, 5))\n",
    "\n",
    "plt.xlabel(r'$Y_{\\rm re}/{\\rm mS}$', fontsize=20)\n",
    "plt.ylabel(r'$Y_{\\rm im}/{\\rm mS}$', fontsize=20)\n",
    "plt.show()"
   ]
  },
  {
   "cell_type": "markdown",
   "metadata": {},
   "source": [
    "### 2.1) Set the kernel options "
   ]
  },
  {
   "cell_type": "code",
   "execution_count": 6,
   "metadata": {},
   "outputs": [],
   "source": [
    "ker_opts = {\n",
    "    'sigma_DCT': 1.,\n",
    "    'sigma_SB': 0.5,\n",
    "    'ell': 15.,\n",
    "    'tau_min': 2E-6,\n",
    "    'DCT': True,\n",
    "    'SB': True,\n",
    "    'SB_ker_type': 'IQ',\n",
    "}\n",
    "\n",
    "# these values are nominal"
   ]
  },
  {
   "cell_type": "markdown",
   "metadata": {},
   "source": [
    "### 2.2) Initialize the hyperparameters"
   ]
  },
  {
   "cell_type": "code",
   "execution_count": 7,
   "metadata": {},
   "outputs": [],
   "source": [
    "sigma_n = 6.25E-3\n",
    "sigma_DCT = 2.85\n",
    "sigma_SB = 0.25\n",
    "ell = 4.25"
   ]
  },
  {
   "cell_type": "markdown",
   "metadata": {},
   "source": [
    "\n",
    "### 2.3) Maximize the NMLL"
   ]
  },
  {
   "cell_type": "code",
   "execution_count": 8,
   "metadata": {},
   "outputs": [
    {
     "name": "stdout",
     "output_type": "stream",
     "text": [
      "6.2645E-03, 2.8500E+00, 2.2521E-01, 4.2311E+00; evidence = 1.97062221E+01\n",
      "6.2384E-03, 2.8494E+00, 2.2498E-01, 4.2300E+00; evidence = 1.97061565E+01\n",
      "Optimization terminated successfully.\n",
      "         Current function value: 19.706156\n",
      "         Iterations: 2\n",
      "         Function evaluations: 129\n",
      "6.2384E-03, 2.8494E+00, 2.2498E-01, 4.2300E+00; evidence = 1.97061565E+01\n",
      "6.2384E-03, 2.8494E+00, 2.2498E-01, 4.2300E+00; evidence = 1.97061565E+01\n",
      "6.2384E-03, 2.8494E+00, 2.2498E-01, 4.2300E+00; evidence = 1.97061565E+01\n",
      "6.2384E-03, 2.8494E+00, 2.2498E-01, 4.2300E+00; evidence = 1.97061565E+01\n",
      "6.2384E-03, 2.8494E+00, 2.2498E-01, 4.2300E+00; evidence = 1.97061565E+01\n",
      "6.2384E-03, 2.8494E+00, 2.2498E-01, 4.2300E+00; evidence = 1.97061565E+01\n",
      "6.2384E-03, 2.8494E+00, 2.2498E-01, 4.2300E+00; evidence = 1.97061565E+01\n",
      "6.2384E-03, 2.8494E+00, 2.2498E-01, 4.2300E+00; evidence = 1.97061565E+01\n",
      "6.2384E-03, 2.8494E+00, 2.2498E-01, 4.2300E+00; evidence = 1.97061565E+01\n",
      "6.2384E-03, 2.8494E+00, 2.2498E-01, 4.2300E+00; evidence = 1.97061565E+01\n",
      "6.2384E-03, 2.8494E+00, 2.2498E-01, 4.2300E+00; evidence = 1.97061565E+01\n",
      "6.2384E-03, 2.8494E+00, 2.2498E-01, 4.2300E+00; evidence = 1.97061565E+01\n",
      "6.2384E-03, 2.8494E+00, 2.2498E-01, 4.2300E+00; evidence = 1.97061565E+01\n",
      "6.2384E-03, 2.8494E+00, 2.2498E-01, 4.2300E+00; evidence = 1.97061565E+01\n",
      "6.2384E-03, 2.8494E+00, 2.2498E-01, 4.2300E+00; evidence = 1.97061565E+01\n",
      "6.2384E-03, 2.8494E+00, 2.2498E-01, 4.2300E+00; evidence = 1.97061565E+01\n",
      "6.2384E-03, 2.8494E+00, 2.2498E-01, 4.2300E+00; evidence = 1.97061565E+01\n",
      "6.2384E-03, 2.8494E+00, 2.2498E-01, 4.2300E+00; evidence = 1.97061565E+01\n",
      "6.2384E-03, 2.8494E+00, 2.2498E-01, 4.2300E+00; evidence = 1.97061565E+01\n",
      "6.2384E-03, 2.8494E+00, 2.2498E-01, 4.2300E+00; evidence = 1.97061565E+01\n",
      "6.2384E-03, 2.8494E+00, 2.2498E-01, 4.2300E+00; evidence = 1.97061565E+01\n",
      "6.2384E-03, 2.8494E+00, 2.2498E-01, 4.2300E+00; evidence = 1.97061565E+01\n",
      "6.2384E-03, 2.8494E+00, 2.2498E-01, 4.2300E+00; evidence = 1.97061565E+01\n",
      "6.2384E-03, 2.8494E+00, 2.2498E-01, 4.2300E+00; evidence = 1.97061565E+01\n",
      "6.2384E-03, 2.8494E+00, 2.2498E-01, 4.2300E+00; evidence = 1.97061565E+01\n",
      "6.2384E-03, 2.8494E+00, 2.2498E-01, 4.2300E+00; evidence = 1.97061565E+01\n",
      "6.2384E-03, 2.8494E+00, 2.2498E-01, 4.2300E+00; evidence = 1.97061565E+01\n",
      "6.2384E-03, 2.8494E+00, 2.2498E-01, 4.2300E+00; evidence = 1.97061565E+01\n",
      "6.2384E-03, 2.8494E+00, 2.2498E-01, 4.2300E+00; evidence = 1.97061565E+01\n",
      "6.2384E-03, 2.8494E+00, 2.2498E-01, 4.2300E+00; evidence = 1.97061565E+01\n",
      "6.2384E-03, 2.8494E+00, 2.2498E-01, 4.2300E+00; evidence = 1.97061565E+01\n",
      "6.2384E-03, 2.8494E+00, 2.2498E-01, 4.2300E+00; evidence = 1.97061565E+01\n",
      "6.2384E-03, 2.8494E+00, 2.2498E-01, 4.2300E+00; evidence = 1.97061565E+01\n",
      "6.2384E-03, 2.8494E+00, 2.2498E-01, 4.2300E+00; evidence = 1.97061565E+01\n",
      "6.2384E-03, 2.8494E+00, 2.2498E-01, 4.2300E+00; evidence = 1.97061565E+01\n",
      "6.2384E-03, 2.8494E+00, 2.2498E-01, 4.2300E+00; evidence = 1.97061565E+01\n",
      "6.2384E-03, 2.8494E+00, 2.2498E-01, 4.2300E+00; evidence = 1.97061565E+01\n",
      "6.2384E-03, 2.8494E+00, 2.2498E-01, 4.2300E+00; evidence = 1.97061565E+01\n",
      "6.2384E-03, 2.8494E+00, 2.2498E-01, 4.2300E+00; evidence = 1.97061565E+01\n",
      "6.2384E-03, 2.8494E+00, 2.2498E-01, 4.2300E+00; evidence = 1.97061565E+01\n",
      "6.2384E-03, 2.8494E+00, 2.2498E-01, 4.2300E+00; evidence = 1.97061565E+01\n",
      "6.2384E-03, 2.8494E+00, 2.2498E-01, 4.2300E+00; evidence = 1.97061565E+01\n",
      "6.2384E-03, 2.8494E+00, 2.2498E-01, 4.2300E+00; evidence = 1.97061565E+01\n",
      "6.2384E-03, 2.8494E+00, 2.2498E-01, 4.2300E+00; evidence = 1.97061565E+01\n",
      "6.2384E-03, 2.8494E+00, 2.2498E-01, 4.2300E+00; evidence = 1.97061565E+01\n",
      "6.2384E-03, 2.8494E+00, 2.2498E-01, 4.2300E+00; evidence = 1.97061565E+01\n",
      "6.2384E-03, 2.8494E+00, 2.2498E-01, 4.2300E+00; evidence = 1.97061565E+01\n",
      "6.2384E-03, 2.8494E+00, 2.2498E-01, 4.2300E+00; evidence = 1.97061565E+01\n",
      "6.2384E-03, 2.8494E+00, 2.2498E-01, 4.2300E+00; evidence = 1.97061565E+01\n",
      "6.2384E-03, 2.8494E+00, 2.2498E-01, 4.2300E+00; evidence = 1.97061565E+01\n",
      "6.2384E-03, 2.8494E+00, 2.2498E-01, 4.2300E+00; evidence = 1.97061565E+01\n",
      "6.2384E-03, 2.8494E+00, 2.2498E-01, 4.2300E+00; evidence = 1.97061565E+01\n",
      "6.2384E-03, 2.8494E+00, 2.2498E-01, 4.2300E+00; evidence = 1.97061565E+01\n",
      "6.2384E-03, 2.8494E+00, 2.2498E-01, 4.2300E+00; evidence = 1.97061565E+01\n",
      "6.2384E-03, 2.8494E+00, 2.2498E-01, 4.2300E+00; evidence = 1.97061565E+01\n",
      "6.2384E-03, 2.8494E+00, 2.2498E-01, 4.2300E+00; evidence = 1.97061565E+01\n",
      "6.2384E-03, 2.8494E+00, 2.2498E-01, 4.2300E+00; evidence = 1.97061565E+01\n",
      "6.2384E-03, 2.8494E+00, 2.2498E-01, 4.2300E+00; evidence = 1.97061565E+01\n",
      "6.2390E-03, 2.8493E+00, 2.2497E-01, 4.2300E+00; evidence = 1.97061564E+01\n",
      "6.2390E-03, 2.8493E+00, 2.2497E-01, 4.2300E+00; evidence = 1.97061564E+01\n",
      "6.2390E-03, 2.8493E+00, 2.2496E-01, 4.2297E+00; evidence = 1.97061564E+01\n",
      "6.2390E-03, 2.8493E+00, 2.2496E-01, 4.2297E+00; evidence = 1.97061564E+01\n",
      "6.2390E-03, 2.8493E+00, 2.2496E-01, 4.2297E+00; evidence = 1.97061564E+01\n",
      "6.2390E-03, 2.8493E+00, 2.2496E-01, 4.2297E+00; evidence = 1.97061564E+01\n",
      "6.2387E-03, 2.8493E+00, 2.2497E-01, 4.2298E+00; evidence = 1.97061564E+01\n",
      "6.2387E-03, 2.8493E+00, 2.2497E-01, 4.2298E+00; evidence = 1.97061564E+01\n",
      "6.2387E-03, 2.8493E+00, 2.2497E-01, 4.2298E+00; evidence = 1.97061564E+01\n",
      "Optimization terminated successfully.\n",
      "         Current function value: 19.706156\n",
      "         Iterations: 68\n",
      "         Function evaluations: 117\n"
     ]
    }
   ],
   "source": [
    "theta_0 = np.array([sigma_n, sigma_DCT, sigma_SB, ell])\n",
    "seq_theta = np.copy(theta_0)\n",
    "def print_results(theta):\n",
    "    global seq_theta\n",
    "    seq_theta = np.vstack((seq_theta, theta))\n",
    "    print('%.4E, %.4E, %.4E, %.4E; evidence = %.8E'%(theta[0], theta[1], theta[2], theta[3], GP_hilbert_unbounded.NMLL_fct(theta, Y_exp.imag, omega_vec, ker_opts)))\n",
    "    \n",
    "res = minimize(GP_hilbert_unbounded.NMLL_fct, theta_0, args=(Y_exp.imag, omega_vec, ker_opts, 'im'), method='Powell', callback=print_results, options={'disp': True})\n",
    "res = minimize(GP_hilbert_unbounded.NMLL_fct, res.x, args=(Y_exp.imag, omega_vec, ker_opts, 'im'), method='Nelder-Mead', callback=print_results, options={'disp': True})\n",
    "\n",
    "theta = res.x\n",
    "sigma_n, sigma_DRT, sigma_SB, ell = theta"
   ]
  },
  {
   "cell_type": "code",
   "execution_count": 9,
   "metadata": {},
   "outputs": [],
   "source": [
    "# update the values of the kernel\n",
    "# as the GP_hilbert functions simply copy ker_opts\n",
    "ker_opts['sigma_SB'] = sigma_SB\n",
    "ker_opts['ell'] = ell\n",
    "ker_opts['sigma_DCT'] = sigma_DCT"
   ]
  },
  {
   "cell_type": "markdown",
   "metadata": {},
   "source": [
    "### 2.4) Check if the results are reasonable - $\\Im(Y_{\\rm exp})$ vs. the GP regression"
   ]
  },
  {
   "cell_type": "markdown",
   "metadata": {},
   "source": [
    "#### 2.4.1) Run the GP regression"
   ]
  },
  {
   "cell_type": "code",
   "execution_count": 10,
   "metadata": {},
   "outputs": [],
   "source": [
    "K_im = GP_hilbert_unbounded.mat_K(omega_vec, omega_vec, ker_opts, 'im')\n",
    "Sigma = (sigma_n**2)*np.eye(N_freqs)\n",
    "K_full = K_im + Sigma \n",
    "\n",
    "# begin FC - added \n",
    "if not GP_hilbert_unbounded.is_PD(K_full):\n",
    "    K_full = GP_hilbert_unbounded.nearest_PD(K_full)\n",
    "\n",
    "# end FC - added \n",
    "\n",
    "# cholesky factorization\n",
    "L = np.linalg.cholesky(K_full)\n",
    "\n",
    "# covariance matrix\n",
    "inv_L = np.linalg.inv(L)\n",
    "inv_K_full = np.dot(inv_L.T, inv_L)\n",
    "\n",
    "N_star_freqs = N_freqs\n",
    "freq_star_vec = np.copy(freq_vec)\n",
    "omega_star_vec = 2.*pi*freq_star_vec\n",
    "\n",
    "mu_star_vec = np.zeros_like(omega_star_vec)\n",
    "sigma_star_vec = np.zeros_like(omega_star_vec)\n",
    "\n",
    "for index, omega_star in enumerate(omega_star_vec):\n",
    "    omega_star_np = np.array([omega_star])\n",
    "    k_star = GP_hilbert_unbounded.mat_K(omega_vec, omega_star_np, ker_opts, 'im').flatten()\n",
    "    k_star_star = GP_hilbert_unbounded.mat_K(omega_star_np, omega_star_np, ker_opts, 'im').flatten()\n",
    "    mu_star_vec[index] = k_star@(inv_K_full@Y_exp.imag)\n",
    "    sigma_star_vec[index] = np.sqrt(abs(k_star_star - k_star@(inv_K_full@k_star)))"
   ]
  },
  {
   "cell_type": "markdown",
   "metadata": {},
   "source": [
    "#### 2.4.2) Plot the outcome of the GP regression"
   ]
  },
  {
   "cell_type": "code",
   "execution_count": 11,
   "metadata": {},
   "outputs": [
    {
     "data": {
      "text/plain": [
       "<matplotlib.legend.Legend at 0x25f28af24f0>"
      ]
     },
     "execution_count": 11,
     "metadata": {},
     "output_type": "execute_result"
    },
    {
     "data": {
      "image/png": "[encoded data removed]",
      "text/plain": [
       "<Figure size 432x288 with 1 Axes>"
      ]
     },
     "metadata": {
      "needs_background": "light"
     },
     "output_type": "display_data"
    }
   ],
   "source": [
    "plt.fill_between(freq_star_vec, mu_star_vec-3*sigma_star_vec, mu_star_vec+3*sigma_star_vec,  facecolor='lightgrey')\n",
    "plt.fill_between(freq_star_vec, mu_star_vec-2*sigma_star_vec, mu_star_vec+2*sigma_star_vec,  facecolor='silver')\n",
    "plt.fill_between(freq_star_vec, mu_star_vec-sigma_star_vec, mu_star_vec+sigma_star_vec,  facecolor='grey')\n",
    "plt.semilogx(freq_star_vec, mu_star_vec, linewidth=4, color='black', label='GP-HT')\n",
    "plt.semilogx(freq_vec,  Y_exp.imag, 'o', markersize=5, color='red', label='exp')\n",
    "plt.rc('text', usetex=True)\n",
    "plt.rc('font', family='serif', size=15)\n",
    "plt.xlim(freq_min, freq_max)\n",
    "plt.ylim(-.05, 11)\n",
    "plt.xscale('log')\n",
    "plt.xlabel(r'$f/{\\rm Hz}$', fontsize=20)\n",
    "plt.ylabel(r'$Y_{\\rm im}/\\rm S$', fontsize=20)\n",
    "plt.legend(frameon=False, fontsize = 15)"
   ]
  },
  {
   "cell_type": "markdown",
   "metadata": {},
   "source": [
    "## 3) Compute and plot the GP-HT "
   ]
  },
  {
   "cell_type": "markdown",
   "metadata": {},
   "source": [
    "### 3.1) Compute"
   ]
  },
  {
   "cell_type": "code",
   "execution_count": 12,
   "metadata": {},
   "outputs": [],
   "source": [
    "K_im = GP_hilbert_unbounded.mat_K(omega_vec, omega_vec, ker_opts, 'im')\n",
    "Sigma = (sigma_n**2)*np.eye(N_freqs)\n",
    "K_full = K_im + Sigma\n",
    "\n",
    "# begin FC - added \n",
    "if not GP_hilbert_unbounded.is_PD(K_full):\n",
    "    K_full = GP_hilbert_unbounded.nearest_PD(K_full)\n",
    "\n",
    "# end FC - added \n",
    "\n",
    "# cholesky factorization\n",
    "L = np.linalg.cholesky(K_full)\n",
    "\n",
    "# covariance matrix\n",
    "inv_L = np.linalg.inv(L)\n",
    "inv_K_full = np.dot(inv_L.T, inv_L)\n",
    "\n",
    "# omega star is overwritten\n",
    "mu_star_vec = np.zeros_like(omega_star_vec)\n",
    "sigma_star_vec = np.zeros_like(omega_star_vec)\n",
    "\n",
    "for index, omega_star in enumerate(omega_star_vec):\n",
    "    omega_star_np = np.array([omega_star])\n",
    "    k_star = GP_hilbert_unbounded.mat_K(omega_vec, omega_star_np, ker_opts, 'im-re').flatten()\n",
    "    k_star_star = GP_hilbert_unbounded.mat_K(omega_star_np, omega_star_np, ker_opts, 're').flatten()\n",
    "    mu_star_vec[index] = k_star@(inv_K_full@Y_exp.imag)\n",
    "    sigma_star_vec[index] = np.sqrt(sigma_n**2 + k_star_star - k_star@(inv_K_full@k_star))"
   ]
  },
  {
   "cell_type": "markdown",
   "metadata": {},
   "source": [
    "### 3.2) Plot GP-HT prediction vs. experimental data"
   ]
  },
  {
   "cell_type": "code",
   "execution_count": 13,
   "metadata": {
    "scrolled": true
   },
   "outputs": [
    {
     "data": {
      "text/plain": [
       "(0.0, 50.0)"
      ]
     },
     "execution_count": 13,
     "metadata": {},
     "output_type": "execute_result"
    },
    {
     "data": {
      "image/png": "[encoded data removed]",
      "text/plain": [
       "<Figure size 432x288 with 1 Axes>"
      ]
     },
     "metadata": {
      "needs_background": "light"
     },
     "output_type": "display_data"
    }
   ],
   "source": [
    "mu_R_inf = np.mean(Y_exp.real-mu_star_vec)\n",
    "plt.fill_between(freq_star_vec, mu_R_inf+mu_star_vec-3*sigma_star_vec, mu_R_inf+mu_star_vec+3*sigma_star_vec,  facecolor='lightgrey')\n",
    "plt.fill_between(freq_star_vec, mu_R_inf+mu_star_vec-2*sigma_star_vec, mu_R_inf+mu_star_vec+2*sigma_star_vec,  facecolor='silver')\n",
    "plt.fill_between(freq_star_vec, mu_R_inf+mu_star_vec-sigma_star_vec, mu_R_inf+mu_star_vec+sigma_star_vec,  facecolor='grey')\n",
    "plt.semilogx(freq_star_vec, mu_R_inf+mu_star_vec, linewidth=4, color='black', label='GP-HT')\n",
    "plt.semilogx(freq_vec,  Y_exp.real, 'o', markersize=5, color='red', label='exp')\n",
    "plt.legend(frameon=False, fontsize = 15)\n",
    "\n",
    "plt.xlabel(r'$f/{\\rm Hz}$', fontsize=20)\n",
    "plt.ylabel(r'$Y_{\\rm re}/{\\rm mS}$', fontsize = 20)\n",
    "\n",
    "plt.xlim(freq_min, freq_max)\n",
    "plt.ylim(0, 50.)"
   ]
  },
  {
   "cell_type": "markdown",
   "metadata": {},
   "source": [
    "### 3.3) Plot the residuals"
   ]
  },
  {
   "cell_type": "code",
   "execution_count": 14,
   "metadata": {},
   "outputs": [
    {
     "name": "stderr",
     "output_type": "stream",
     "text": [
      "C:\\Users\\mefrank\\Anaconda3\\lib\\site-packages\\seaborn\\distributions.py:1689: FutureWarning: The `vertical` parameter is deprecated and will be removed in a future version. Assign the data to the `y` variable instead.\n",
      "  warnings.warn(msg, FutureWarning)\n",
      "C:\\Users\\mefrank\\Anaconda3\\lib\\site-packages\\seaborn\\distributions.py:2112: FutureWarning: Using `vertical=True` to control the orientation of the plot  is deprecated. Instead, assign the data directly to `y`. \n",
      "  warnings.warn(msg, FutureWarning)\n"
     ]
    },
    {
     "data": {
      "image/png": "[encoded data removed]",
      "text/plain": [
       "<Figure size 864x302.4 with 2 Axes>"
      ]
     },
     "metadata": {
      "needs_background": "light"
     },
     "output_type": "display_data"
    }
   ],
   "source": [
    "diff_re = mu_R_inf + mu_star_vec - Y_exp.real\n",
    "#  Combine the scatter plot with the density distribution\n",
    "fig = plt.figure(figsize=(12,4.2), constrained_layout=False)\n",
    "gs1 = fig.add_gridspec(nrows=1, ncols=4, left=0.05, right=0.48, wspace=0.4)\n",
    "ax1 = fig.add_subplot(gs1[0, :-1])\n",
    "ax2 = fig.add_subplot(gs1[0, -1])\n",
    "ax1.fill_between(freq_vec, -3*sigma_star_vec, 3*sigma_star_vec,  facecolor='lightgrey')\n",
    "ax1.fill_between(freq_vec, -2*sigma_star_vec, 2*sigma_star_vec,  facecolor='silver')\n",
    "ax1.fill_between(freq_vec, -sigma_star_vec, sigma_star_vec,  facecolor='grey')\n",
    "ax1.plot(freq_vec, diff_re, 'o', markersize=5, color='red')\n",
    "ax1.set_xlim(freq_min, freq_max)\n",
    "ax1.set_ylim(-4, 4)\n",
    "ax1.set_xscale('log')\n",
    "ax1.set_xlabel(r'$f/{\\rm Hz}$', fontsize=20)\n",
    "ax1.set_ylabel(r'$\\left(R_\\infty + Y_{\\rm H, re} - Y_{\\rm exp, re}\\right)/{\\rm mS}$', fontsize=20)\n",
    "# density distribution plot\n",
    "sns.kdeplot(diff_re, ax=ax2, shade=True, color='grey', vertical=True)\n",
    "sns.rugplot(diff_re, ax=ax2, color='black', vertical=True)\n",
    "ax2.set_xlim(0, 8)\n",
    "ax2.set_xticks(np.arange(0., 9.1, 2))\n",
    "ax2.set_yticklabels([]) \n",
    "ax2.set_ylim(-4., 4.)\n",
    "ax2.set_xlabel(r'pdf',fontsize=20)\n",
    "\n",
    "plt.show()"
   ]
  },
  {
   "cell_type": "code",
   "execution_count": null,
   "metadata": {},
   "outputs": [],
   "source": []
  },
  {
   "cell_type": "code",
   "execution_count": null,
   "metadata": {},
   "outputs": [],
   "source": []
  }
 ],
 "metadata": {
  "kernelspec": {
   "display_name": "Python 3 (ipykernel)",
   "language": "python",
   "name": "python3"
  },
  "language_info": {
   "codemirror_mode": {
    "name": "ipython",
    "version": 3
   },
   "file_extension": ".py",
   "mimetype": "text/x-python",
   "name": "python",
   "nbconvert_exporter": "python",
   "pygments_lexer": "ipython3",
   "version": "3.8.12"
  }
 },
 "nbformat": 4,
 "nbformat_minor": 4
}
