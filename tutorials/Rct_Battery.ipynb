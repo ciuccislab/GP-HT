{
 "cells": [
  {
   "cell_type": "markdown",
   "id": "6552becc",
   "metadata": {},
   "source": [
    "# Compute the charge-transfer resistance for real EIS data"
   ]
  },
  {
   "cell_type": "markdown",
   "id": "d895370d",
   "metadata": {},
   "source": [
    "In this tutorial, we show how to compute the charge-transfer resistance for real EIS data from a lithium-ion battery with a composite polymer electrolyte (see for more details on this battery: Z. Dai, J. Yu, J. Liu, R. Liu, Q. Sun, D. Chen, F. Ciucci, Highly conductive and nonflammable composite polymer electrolytes for rechargeable quasi-solid-state Li-metal batteries, J. Power Sources. 464 (2020) 228182). This tutorial illustrates the procedure described in: B. Py, A. Maradesa, and F. Ciucci. \"Gaussian Processes for the Analysis of Electrochemical Impedance Spectroscopy Data: Prediction, Filtering, and Active Learning.\", preprint (2022)."
   ]
  },
  {
   "cell_type": "code",
   "execution_count": 1,
   "id": "20fafbab",
   "metadata": {},
   "outputs": [],
   "source": [
    "# import the libraries needed\n",
    "import importlib\n",
    "import GP_hilbert as gpf\n",
    "importlib.reload(gpf)\n",
    "import numpy as np\n",
    "import matplotlib.pyplot as plt\n",
    "from scipy.optimize import minimize\n",
    "import pandas as pd"
   ]
  },
  {
   "cell_type": "code",
   "execution_count": 2,
   "id": "bf32de73",
   "metadata": {},
   "outputs": [],
   "source": [
    "# plot standards\n",
    "plt.rc('font', family='serif', size=15)\n",
    "plt.rc('text', usetex=True)\n",
    "plt.rc('xtick', labelsize=15)\n",
    "plt.rc('ytick', labelsize=15)"
   ]
  },
  {
   "cell_type": "code",
   "execution_count": null,
   "id": "cf10a765",
   "metadata": {},
   "outputs": [],
   "source": []
  },
  {
   "cell_type": "markdown",
   "id": "aa08ab63",
   "metadata": {},
   "source": [
    "## 1) Preliminary Work"
   ]
  },
  {
   "cell_type": "markdown",
   "id": "7e243dc6",
   "metadata": {},
   "source": [
    "### 1.1) Import the data"
   ]
  },
  {
   "cell_type": "code",
   "execution_count": 3,
   "id": "ec4bbdec",
   "metadata": {},
   "outputs": [],
   "source": [
    "Z_data = pd.read_csv('./data/Li-ion.csv')\n",
    "freq_vec, Z_exp = Z_data['freq'].values, Z_data['Real'].values+1j*Z_data['Imag'].values\n",
    "omega_vec = 2.*np.pi*freq_vec\n",
    "Z_exp = Z_exp\n",
    "N_freqs = freq_vec.shape[0]"
   ]
  },
  {
   "cell_type": "markdown",
   "id": "7fa2d910",
   "metadata": {},
   "source": [
    "### 1.2) Define the ECM parameters"
   ]
  },
  {
   "cell_type": "code",
   "execution_count": 4,
   "id": "646e37b3",
   "metadata": {},
   "outputs": [],
   "source": [
    "Rinf = 3.9647E-60\n",
    "L = 2.51E-26\n",
    "\n",
    "# parameters for one ZARC \n",
    "R1 = 979.0352\n",
    "phi1 = 0.5\n",
    "tau1 = 1.032\n",
    "Z_exact1 = R1/(1+(1j*2.*np.pi*freq_vec*tau1)**phi1)\n",
    "\n",
    "# parameters for a second ZARC\n",
    "R2 = 1.4831E3\n",
    "phi2 = 0.8168\n",
    "tau2 = 0.000190600923910669\n",
    "Z_exact2 = R2/(1+(1j*2.*np.pi*freq_vec*tau2)**phi2)\n",
    "\n",
    "# parameters for a third ZARC\n",
    "R3 = 314.5797\n",
    "phi3 = 1.0\n",
    "tau3 = 1.0539E-7 \n",
    "Z_exact3 = R3/(1+(1j*2.*np.pi*freq_vec*tau3)**phi3) \n",
    "\n",
    "Z_ECM = Rinf + 1j*2.*np.pi*freq_vec*L + Z_exact1 + Z_exact2 + Z_exact3 # total impedance "
   ]
  },
  {
   "cell_type": "markdown",
   "id": "aa9fc05b",
   "metadata": {},
   "source": [
    "### 1.3) Draw the Nyquist plot "
   ]
  },
  {
   "cell_type": "code",
   "execution_count": 6,
   "id": "587b175e",
   "metadata": {},
   "outputs": [
    {
     "data": {
      "image/png": "[encoded data removed]",
      "text/plain": [
       "<Figure size 640x480 with 1 Axes>"
      ]
     },
     "metadata": {},
     "output_type": "display_data"
    }
   ],
   "source": [
    "# Nyquist plot of the impedance\n",
    "plt.plot(np.real(Z_ECM)/1000, -np.imag(Z_ECM)/1000, '--',linewidth = 2, color = 'blue', label = 'ECM')\n",
    "plt.plot(np.real(Z_exp)/1000, -np.imag(Z_exp)/1000, 'o', markersize = 7, color = 'red', label = 'exp')\n",
    "plt.plot(np.real(Z_exp[0]/1000), -np.imag(Z_exp[0]/1000), 's', markersize=7, color='black')\n",
    "plt.plot(np.real(Z_exp[7]/1000), -np.imag(Z_exp[7]/1000), 's', markersize=7, color='green') # cut-off frequency at high freq.\n",
    "plt.plot(np.real(Z_exp[18]/1000), -np.imag(Z_exp[18]/1000), 's', markersize=7, color='black')\n",
    "plt.plot(np.real(Z_exp[26]/1000), -np.imag(Z_exp[26]/1000), 's', markersize=7, color='green') # cut-off frequency at low freq.\n",
    "plt.plot(np.real(Z_exp[35]/1000), -np.imag(Z_exp[35]/1000), 's', markersize=7, color='black')\n",
    "\n",
    "# label the frequencies\n",
    "plt.annotate(r'${0:.1f}\\times 10^{1}$'.format(freq_vec[0]/(10**(int(np.log10(freq_vec[0])))), int(np.log10(freq_vec[0]))), \n",
    "                 xy=(np.real(Z_exp[0])/1000, -np.imag(Z_exp[0])/1000), \n",
    "                 xytext=(np.real(Z_exp[0])/1000-100/1000, 550/1000-np.imag(Z_exp[0])/1000), \n",
    "                 arrowprops=dict(arrowstyle=\"-\", connectionstyle=\"arc\"))\n",
    "plt.annotate(r'${0:.1f}\\times 10^{1}$'.format(freq_vec[7]/(10**(int(np.log10(freq_vec[7])))), int(np.log10(freq_vec[7]))), \n",
    "                 xy=(np.real(Z_exp[7])/1000, -np.imag(Z_exp[7])/1000), \n",
    "                 xytext=(np.real(Z_exp[7])/1000+300/1000, 70/1000-np.imag(Z_exp[7])/1000), \n",
    "                 arrowprops=dict(arrowstyle=\"-\", connectionstyle=\"arc\"))\n",
    "plt.annotate(r'${0:.1f}\\times 10^{1}$'.format(freq_vec[18]/(10**(int(np.log10(freq_vec[18])))), int(np.log10(freq_vec[18]))), \n",
    "                 xy=(np.real(Z_exp[18])/1000, -np.imag(Z_exp[18])/1000), \n",
    "                 xytext=(np.real(Z_exp[18])/1000-200/1000, 600/1000-np.imag(Z_exp[18])/1000), \n",
    "                 arrowprops=dict(arrowstyle=\"-\", connectionstyle=\"arc\"))\n",
    "plt.annotate(r'${0:.1f}\\times 10^{1}$'.format(freq_vec[26]/(10**(int(np.log10(freq_vec[26])))), int(np.log10(freq_vec[26]))), \n",
    "                 xy=(np.real(Z_exp[26])/1000, -np.imag(Z_exp[26])/1000), \n",
    "                 xytext=(np.real(Z_exp[26])/1000+150/1000, 400/1000-np.imag(Z_exp[26])/1000), \n",
    "                 arrowprops=dict(arrowstyle=\"-\", connectionstyle=\"arc\"))\n",
    "plt.annotate(r'${0:.1f}\\times 10^{1}$'.format(freq_vec[35]/(10**(int(np.log10(freq_vec[35])))), int(np.log10(freq_vec[35]))), \n",
    "                 xy=(np.real(Z_exp[35])/1000, -np.imag(Z_exp[35])/1000), \n",
    "                 xytext=(np.real(Z_exp[35])/1000+200/1000, -100/1000-np.imag(Z_exp[35])/1000), \n",
    "                 arrowprops=dict(arrowstyle=\"-\", connectionstyle=\"arc\"))\n",
    "\n",
    "# options of the plots\n",
    "plt.legend(frameon=False, fontsize = 15)\n",
    "plt.gca().set_aspect('equal', adjustable='box')\n",
    "plt.xlim(0, 2.5)\n",
    "plt.ylim(0, 1.25)\n",
    "plt.xticks(np.arange(0, 3.001, 0.5))\n",
    "plt.yticks(np.arange(0, 1.5001, 0.5))\n",
    "plt.xlabel(r'$Z_{\\rm re}/\\rm k\\Omega$', fontsize = 20)\n",
    "plt.ylabel(r'$-Z_{\\rm im}/\\rm k\\Omega$', fontsize = 20)\n",
    "plt.show()"
   ]
  },
  {
   "cell_type": "code",
   "execution_count": null,
   "id": "53dec1ae",
   "metadata": {},
   "outputs": [],
   "source": []
  },
  {
   "cell_type": "markdown",
   "id": "e2493c12",
   "metadata": {},
   "source": [
    "## 2) GP regression"
   ]
  },
  {
   "cell_type": "markdown",
   "id": "74a59549",
   "metadata": {},
   "source": [
    "### 2.1) Truncate the range of EIS frequencies"
   ]
  },
  {
   "cell_type": "code",
   "execution_count": 7,
   "id": "39709463",
   "metadata": {},
   "outputs": [],
   "source": [
    "freq_vec, Z_exp = np.array(Z_data[8:27].freq), np.array(Z_data[8:27].Real + 1j*Z_data[8:27].Imag)\n",
    "N_freqs = len(freq_vec)\n",
    "omega_vec = 2*np.pi*freq_vec\n",
    "\n",
    "Z_exp_all = np.zeros(2*N_freqs) # bundle the real and imaginary parts of the impedance\n",
    "Z_exp_all[:N_freqs], Z_exp_all[N_freqs:]=Z_exp.real, Z_exp.imag"
   ]
  },
  {
   "cell_type": "markdown",
   "id": "1ff3aada",
   "metadata": {},
   "source": [
    "### 2.2) Set the kernel options"
   ]
  },
  {
   "cell_type": "code",
   "execution_count": 8,
   "id": "8c55d696",
   "metadata": {},
   "outputs": [],
   "source": [
    "ker_opts = {\n",
    "    'sigma_DRT': 1.,\n",
    "    'sigma_SB': 1.,\n",
    "    'ell': 1.,\n",
    "    'tau_max': 0.0008,\n",
    "    'DRT': True,\n",
    "    'SB': True,\n",
    "    'SB_ker_type': 'IQ',\n",
    "}\n",
    "\n",
    "# these values are nominal"
   ]
  },
  {
   "cell_type": "markdown",
   "id": "c23276bf",
   "metadata": {},
   "source": [
    "### 2.3) Initialize the hyperparameters "
   ]
  },
  {
   "cell_type": "code",
   "execution_count": 9,
   "id": "e85bcac9",
   "metadata": {},
   "outputs": [],
   "source": [
    "sigma_n = 0.8\n",
    "sigma_DRT = 11\n",
    "sigma_SB = 1E-7\n",
    "ell = 3\n",
    "sigma_L = 0\n",
    "sigma_R = 2"
   ]
  },
  {
   "cell_type": "markdown",
   "id": "ad49b581",
   "metadata": {},
   "source": [
    "### 2.4) Minimize the negative marginal log-likelihood"
   ]
  },
  {
   "cell_type": "code",
   "execution_count": 10,
   "id": "814616a1",
   "metadata": {},
   "outputs": [
    {
     "name": "stdout",
     "output_type": "stream",
     "text": [
      "8.5221E+02, 5.4070E+04, -1.9638E-08, 5.6176E+00, 2.7253E+02, -4.910793E-11; evidence = 2.60008582E+02\n",
      "-1.2153E+01, -4.0039E+04, 1.0181E-07, 5.5778E+00, -2.4286E+02, -4.129867E-11; evidence = 1.37300026E+02\n",
      "-1.2031E+01, -4.4134E+04, 8.5197E-06, 8.1957E+00, -2.9302E+02, -9.638874E-12; evidence = 1.37216408E+02\n",
      "-1.2026E+01, -4.4296E+04, 6.0136E-06, 1.0813E+01, -2.9292E+02, 1.098488E-11; evidence = 1.37216345E+02\n",
      "Optimization terminated successfully.\n",
      "         Current function value: 137.216345\n",
      "         Iterations: 4\n",
      "         Function evaluations: 578\n",
      "1.2026E+01, 4.4296E+04, 6.0136E-06, 1.0813E+01, 2.9292E+02, 1.098488E-11; evidence = 1.37216345E+02\n",
      "1.2026E+01, 4.4296E+04, 6.0136E-06, 1.0813E+01, 2.9292E+02, 1.098488E-11; evidence = 1.37216345E+02\n",
      "1.2026E+01, 4.4296E+04, 6.0136E-06, 1.0813E+01, 2.9292E+02, 1.098488E-11; evidence = 1.37216345E+02\n",
      "1.2026E+01, 4.4296E+04, 6.0136E-06, 1.0813E+01, 2.9292E+02, 1.098488E-11; evidence = 1.37216345E+02\n",
      "1.2026E+01, 4.4296E+04, 6.0136E-06, 1.0813E+01, 2.9292E+02, 1.098488E-11; evidence = 1.37216345E+02\n",
      "1.2026E+01, 4.4296E+04, 6.0136E-06, 1.0813E+01, 2.9292E+02, 1.098488E-11; evidence = 1.37216345E+02\n",
      "1.2026E+01, 4.4296E+04, 6.0136E-06, 1.0813E+01, 2.9292E+02, 1.098488E-11; evidence = 1.37216345E+02\n",
      "1.2026E+01, 4.4296E+04, 6.0136E-06, 1.0813E+01, 2.9292E+02, 1.098488E-11; evidence = 1.37216345E+02\n",
      "1.2026E+01, 4.4296E+04, 6.0136E-06, 1.0813E+01, 2.9292E+02, 1.098488E-11; evidence = 1.37216345E+02\n",
      "1.2026E+01, 4.4296E+04, 6.0136E-06, 1.0813E+01, 2.9292E+02, 1.098488E-11; evidence = 1.37216345E+02\n",
      "1.2026E+01, 4.4296E+04, 6.0136E-06, 1.0813E+01, 2.9292E+02, 1.098488E-11; evidence = 1.37216345E+02\n",
      "1.2026E+01, 4.4296E+04, 6.0136E-06, 1.0813E+01, 2.9292E+02, 1.098488E-11; evidence = 1.37216345E+02\n",
      "1.2026E+01, 4.4296E+04, 6.0136E-06, 1.0813E+01, 2.9292E+02, 1.098488E-11; evidence = 1.37216345E+02\n",
      "1.2026E+01, 4.4296E+04, 6.0136E-06, 1.0813E+01, 2.9292E+02, 1.098488E-11; evidence = 1.37216345E+02\n",
      "1.2026E+01, 4.4296E+04, 6.0136E-06, 1.0813E+01, 2.9292E+02, 1.098488E-11; evidence = 1.37216345E+02\n",
      "1.2026E+01, 4.4296E+04, 6.0136E-06, 1.0813E+01, 2.9292E+02, 1.098488E-11; evidence = 1.37216345E+02\n",
      "1.2026E+01, 4.4296E+04, 6.0136E-06, 1.0813E+01, 2.9292E+02, 1.098488E-11; evidence = 1.37216345E+02\n",
      "1.2026E+01, 4.4296E+04, 6.0136E-06, 1.0813E+01, 2.9292E+02, 1.098488E-11; evidence = 1.37216345E+02\n",
      "1.2026E+01, 4.4296E+04, 6.0136E-06, 1.0813E+01, 2.9292E+02, 1.098488E-11; evidence = 1.37216345E+02\n",
      "1.2026E+01, 4.4296E+04, 6.0136E-06, 1.0813E+01, 2.9292E+02, 1.098488E-11; evidence = 1.37216345E+02\n",
      "1.2026E+01, 4.4296E+04, 6.0136E-06, 1.0813E+01, 2.9292E+02, 1.098488E-11; evidence = 1.37216345E+02\n",
      "1.2026E+01, 4.4296E+04, 6.0136E-06, 1.0813E+01, 2.9292E+02, 1.098488E-11; evidence = 1.37216345E+02\n",
      "1.2025E+01, 4.4308E+04, 6.0884E-06, 1.0948E+01, 2.9296E+02, 1.112141E-11; evidence = 1.37216345E+02\n",
      "1.2026E+01, 4.4305E+04, 6.0890E-06, 1.0949E+01, 2.9284E+02, 1.112254E-11; evidence = 1.37216345E+02\n",
      "1.2026E+01, 4.4310E+04, 6.0884E-06, 1.0948E+01, 2.9293E+02, 1.112142E-11; evidence = 1.37216345E+02\n",
      "1.2026E+01, 4.4310E+04, 6.0884E-06, 1.0948E+01, 2.9293E+02, 1.112142E-11; evidence = 1.37216345E+02\n",
      "1.2026E+01, 4.4310E+04, 6.0884E-06, 1.0948E+01, 2.9293E+02, 1.112142E-11; evidence = 1.37216345E+02\n",
      "1.2026E+01, 4.4310E+04, 6.0884E-06, 1.0948E+01, 2.9293E+02, 1.112142E-11; evidence = 1.37216345E+02\n",
      "1.2026E+01, 4.4310E+04, 6.0884E-06, 1.0948E+01, 2.9293E+02, 1.112142E-11; evidence = 1.37216345E+02\n",
      "1.2026E+01, 4.4310E+04, 6.0884E-06, 1.0948E+01, 2.9293E+02, 1.112142E-11; evidence = 1.37216345E+02\n",
      "1.2026E+01, 4.4310E+04, 6.0884E-06, 1.0948E+01, 2.9293E+02, 1.112142E-11; evidence = 1.37216345E+02\n",
      "1.2026E+01, 4.4310E+04, 6.0884E-06, 1.0948E+01, 2.9293E+02, 1.112142E-11; evidence = 1.37216345E+02\n",
      "1.2026E+01, 4.4310E+04, 6.0884E-06, 1.0948E+01, 2.9293E+02, 1.112142E-11; evidence = 1.37216345E+02\n",
      "1.2026E+01, 4.4310E+04, 6.0884E-06, 1.0948E+01, 2.9293E+02, 1.112142E-11; evidence = 1.37216345E+02\n",
      "1.2026E+01, 4.4310E+04, 6.0884E-06, 1.0948E+01, 2.9293E+02, 1.112142E-11; evidence = 1.37216345E+02\n",
      "1.2026E+01, 4.4307E+04, 6.1184E-06, 1.1025E+01, 2.9293E+02, 1.074292E-11; evidence = 1.37216345E+02\n",
      "1.2026E+01, 4.4307E+04, 6.1184E-06, 1.1025E+01, 2.9293E+02, 1.074292E-11; evidence = 1.37216345E+02\n",
      "1.2026E+01, 4.4307E+04, 6.1184E-06, 1.1025E+01, 2.9293E+02, 1.074292E-11; evidence = 1.37216345E+02\n",
      "1.2026E+01, 4.4307E+04, 6.1184E-06, 1.1025E+01, 2.9293E+02, 1.074292E-11; evidence = 1.37216345E+02\n",
      "1.2026E+01, 4.4307E+04, 6.1184E-06, 1.1025E+01, 2.9293E+02, 1.074292E-11; evidence = 1.37216345E+02\n",
      "1.2026E+01, 4.4307E+04, 6.1184E-06, 1.1025E+01, 2.9293E+02, 1.074292E-11; evidence = 1.37216345E+02\n",
      "1.2026E+01, 4.4307E+04, 6.1184E-06, 1.1025E+01, 2.9293E+02, 1.074292E-11; evidence = 1.37216345E+02\n",
      "1.2026E+01, 4.4307E+04, 6.1184E-06, 1.1025E+01, 2.9293E+02, 1.074292E-11; evidence = 1.37216345E+02\n",
      "1.2026E+01, 4.4307E+04, 6.1184E-06, 1.1025E+01, 2.9293E+02, 1.074292E-11; evidence = 1.37216345E+02\n",
      "1.2026E+01, 4.4307E+04, 6.1184E-06, 1.1025E+01, 2.9293E+02, 1.074292E-11; evidence = 1.37216345E+02\n",
      "1.2026E+01, 4.4307E+04, 6.1184E-06, 1.1025E+01, 2.9293E+02, 1.074292E-11; evidence = 1.37216345E+02\n",
      "1.2026E+01, 4.4307E+04, 6.1184E-06, 1.1025E+01, 2.9293E+02, 1.074292E-11; evidence = 1.37216345E+02\n",
      "1.2026E+01, 4.4307E+04, 6.1184E-06, 1.1025E+01, 2.9293E+02, 1.074292E-11; evidence = 1.37216345E+02\n",
      "1.2026E+01, 4.4307E+04, 6.1184E-06, 1.1025E+01, 2.9293E+02, 1.074292E-11; evidence = 1.37216345E+02\n",
      "1.2026E+01, 4.4307E+04, 6.1184E-06, 1.1025E+01, 2.9293E+02, 1.074292E-11; evidence = 1.37216345E+02\n",
      "1.2026E+01, 4.4307E+04, 6.1184E-06, 1.1025E+01, 2.9293E+02, 1.074292E-11; evidence = 1.37216345E+02\n",
      "1.2026E+01, 4.4307E+04, 6.0216E-06, 1.1029E+01, 2.9291E+02, 1.095619E-11; evidence = 1.37216345E+02\n",
      "1.2026E+01, 4.4307E+04, 6.0401E-06, 1.1006E+01, 2.9291E+02, 1.090701E-11; evidence = 1.37216345E+02\n",
      "1.2026E+01, 4.4308E+04, 6.0583E-06, 1.0992E+01, 2.9291E+02, 1.093800E-11; evidence = 1.37216345E+02\n",
      "1.2026E+01, 4.4308E+04, 6.0266E-06, 1.1002E+01, 2.9291E+02, 1.095408E-11; evidence = 1.37216345E+02\n",
      "1.2026E+01, 4.4307E+04, 6.0404E-06, 1.0989E+01, 2.9292E+02, 1.097060E-11; evidence = 1.37216345E+02\n",
      "1.2026E+01, 4.4307E+04, 6.0666E-06, 1.0979E+01, 2.9291E+02, 1.093274E-11; evidence = 1.37216345E+02\n",
      "1.2026E+01, 4.4307E+04, 6.0803E-06, 1.1012E+01, 2.9292E+02, 1.084301E-11; evidence = 1.37216345E+02\n",
      "1.2026E+01, 4.4307E+04, 6.0803E-06, 1.1012E+01, 2.9292E+02, 1.084301E-11; evidence = 1.37216345E+02\n",
      "1.2026E+01, 4.4307E+04, 6.0803E-06, 1.1012E+01, 2.9292E+02, 1.084301E-11; evidence = 1.37216345E+02\n",
      "1.2026E+01, 4.4307E+04, 6.0803E-06, 1.1012E+01, 2.9292E+02, 1.084301E-11; evidence = 1.37216345E+02\n",
      "1.2026E+01, 4.4307E+04, 6.0803E-06, 1.1012E+01, 2.9292E+02, 1.084301E-11; evidence = 1.37216345E+02\n",
      "1.2026E+01, 4.4308E+04, 6.0668E-06, 1.0981E+01, 2.9292E+02, 1.090774E-11; evidence = 1.37216345E+02\n",
      "1.2026E+01, 4.4307E+04, 6.0430E-06, 1.0997E+01, 2.9292E+02, 1.093554E-11; evidence = 1.37216345E+02\n",
      "1.2026E+01, 4.4307E+04, 6.0430E-06, 1.0997E+01, 2.9292E+02, 1.093554E-11; evidence = 1.37216345E+02\n",
      "1.2026E+01, 4.4307E+04, 6.0430E-06, 1.0997E+01, 2.9292E+02, 1.093554E-11; evidence = 1.37216345E+02\n",
      "1.2026E+01, 4.4307E+04, 6.0430E-06, 1.0997E+01, 2.9292E+02, 1.093554E-11; evidence = 1.37216345E+02\n",
      "1.2026E+01, 4.4307E+04, 6.0575E-06, 1.0995E+01, 2.9292E+02, 1.092199E-11; evidence = 1.37216345E+02\n",
      "1.2026E+01, 4.4307E+04, 6.0644E-06, 1.0992E+01, 2.9292E+02, 1.091265E-11; evidence = 1.37216345E+02\n",
      "1.2026E+01, 4.4307E+04, 6.0688E-06, 1.1001E+01, 2.9292E+02, 1.088329E-11; evidence = 1.37216345E+02\n",
      "1.2026E+01, 4.4307E+04, 6.0688E-06, 1.1001E+01, 2.9292E+02, 1.088329E-11; evidence = 1.37216345E+02\n",
      "1.2026E+01, 4.4307E+04, 6.0688E-06, 1.1001E+01, 2.9292E+02, 1.088329E-11; evidence = 1.37216345E+02\n",
      "1.2026E+01, 4.4307E+04, 6.0527E-06, 1.0996E+01, 2.9292E+02, 1.092910E-11; evidence = 1.37216345E+02\n",
      "1.2026E+01, 4.4307E+04, 6.0499E-06, 1.0999E+01, 2.9292E+02, 1.092589E-11; evidence = 1.37216345E+02\n",
      "1.2026E+01, 4.4307E+04, 6.0529E-06, 1.1003E+01, 2.9292E+02, 1.091830E-11; evidence = 1.37216345E+02\n",
      "1.2026E+01, 4.4307E+04, 6.0529E-06, 1.1003E+01, 2.9292E+02, 1.091830E-11; evidence = 1.37216345E+02\n",
      "1.2026E+01, 4.4307E+04, 6.0572E-06, 1.0997E+01, 2.9292E+02, 1.091870E-11; evidence = 1.37216345E+02\n",
      "1.2026E+01, 4.4307E+04, 6.0515E-06, 1.1003E+01, 2.9292E+02, 1.091830E-11; evidence = 1.37216345E+02\n",
      "1.2026E+01, 4.4307E+04, 6.0515E-06, 1.1003E+01, 2.9292E+02, 1.091830E-11; evidence = 1.37216345E+02\n"
     ]
    },
    {
     "name": "stdout",
     "output_type": "stream",
     "text": [
      "1.2026E+01, 4.4307E+04, 6.0515E-06, 1.0998E+01, 2.9292E+02, 1.092835E-11; evidence = 1.37216345E+02\n",
      "1.2026E+01, 4.4307E+04, 6.0515E-06, 1.0998E+01, 2.9292E+02, 1.092835E-11; evidence = 1.37216345E+02\n",
      "1.2026E+01, 4.4307E+04, 6.0515E-06, 1.0998E+01, 2.9292E+02, 1.092835E-11; evidence = 1.37216345E+02\n",
      "1.2026E+01, 4.4307E+04, 6.0515E-06, 1.0998E+01, 2.9292E+02, 1.092835E-11; evidence = 1.37216345E+02\n",
      "1.2026E+01, 4.4307E+04, 6.0515E-06, 1.0998E+01, 2.9292E+02, 1.092835E-11; evidence = 1.37216345E+02\n",
      "1.2026E+01, 4.4307E+04, 6.0515E-06, 1.0998E+01, 2.9292E+02, 1.092835E-11; evidence = 1.37216345E+02\n",
      "1.2026E+01, 4.4307E+04, 6.0540E-06, 1.0999E+01, 2.9292E+02, 1.092246E-11; evidence = 1.37216345E+02\n",
      "1.2026E+01, 4.4307E+04, 6.0540E-06, 1.0999E+01, 2.9292E+02, 1.092246E-11; evidence = 1.37216345E+02\n",
      "1.2026E+01, 4.4307E+04, 6.0540E-06, 1.0999E+01, 2.9292E+02, 1.092246E-11; evidence = 1.37216345E+02\n",
      "1.2026E+01, 4.4307E+04, 6.0540E-06, 1.0999E+01, 2.9292E+02, 1.092246E-11; evidence = 1.37216345E+02\n",
      "1.2026E+01, 4.4307E+04, 6.0540E-06, 1.0999E+01, 2.9292E+02, 1.092246E-11; evidence = 1.37216345E+02\n",
      "1.2026E+01, 4.4307E+04, 6.0492E-06, 1.0998E+01, 2.9292E+02, 1.093497E-11; evidence = 1.37216345E+02\n",
      "1.2026E+01, 4.4307E+04, 6.0504E-06, 1.0998E+01, 2.9292E+02, 1.093166E-11; evidence = 1.37216345E+02\n",
      "1.2026E+01, 4.4307E+04, 6.0504E-06, 1.0998E+01, 2.9292E+02, 1.093166E-11; evidence = 1.37216345E+02\n",
      "1.2026E+01, 4.4307E+04, 6.0504E-06, 1.0998E+01, 2.9292E+02, 1.093166E-11; evidence = 1.37216345E+02\n",
      "1.2026E+01, 4.4307E+04, 6.0504E-06, 1.0998E+01, 2.9292E+02, 1.093166E-11; evidence = 1.37216345E+02\n",
      "1.2026E+01, 4.4307E+04, 6.0504E-06, 1.0998E+01, 2.9292E+02, 1.093166E-11; evidence = 1.37216345E+02\n",
      "1.2026E+01, 4.4307E+04, 6.0504E-06, 1.0998E+01, 2.9292E+02, 1.093166E-11; evidence = 1.37216345E+02\n",
      "1.2026E+01, 4.4307E+04, 6.0504E-06, 1.0998E+01, 2.9292E+02, 1.093166E-11; evidence = 1.37216345E+02\n",
      "1.2026E+01, 4.4307E+04, 6.0498E-06, 1.0999E+01, 2.9292E+02, 1.093279E-11; evidence = 1.37216345E+02\n",
      "1.2026E+01, 4.4307E+04, 6.0498E-06, 1.0999E+01, 2.9292E+02, 1.093279E-11; evidence = 1.37216345E+02\n",
      "1.2026E+01, 4.4307E+04, 6.0498E-06, 1.0999E+01, 2.9292E+02, 1.093279E-11; evidence = 1.37216345E+02\n",
      "1.2026E+01, 4.4307E+04, 6.0498E-06, 1.0999E+01, 2.9292E+02, 1.093279E-11; evidence = 1.37216345E+02\n",
      "1.2026E+01, 4.4307E+04, 6.0498E-06, 1.0999E+01, 2.9292E+02, 1.093279E-11; evidence = 1.37216345E+02\n",
      "1.2026E+01, 4.4307E+04, 6.0498E-06, 1.0999E+01, 2.9292E+02, 1.093279E-11; evidence = 1.37216345E+02\n",
      "1.2026E+01, 4.4307E+04, 6.0498E-06, 1.0999E+01, 2.9292E+02, 1.093279E-11; evidence = 1.37216345E+02\n",
      "1.2026E+01, 4.4307E+04, 6.0498E-06, 1.0999E+01, 2.9292E+02, 1.093279E-11; evidence = 1.37216345E+02\n",
      "1.2026E+01, 4.4307E+04, 6.0498E-06, 1.0999E+01, 2.9292E+02, 1.093279E-11; evidence = 1.37216345E+02\n",
      "1.2026E+01, 4.4307E+04, 6.0498E-06, 1.0999E+01, 2.9292E+02, 1.093279E-11; evidence = 1.37216345E+02\n",
      "1.2026E+01, 4.4307E+04, 6.0498E-06, 1.0999E+01, 2.9292E+02, 1.093279E-11; evidence = 1.37216345E+02\n",
      "1.2026E+01, 4.4307E+04, 6.0498E-06, 1.0999E+01, 2.9292E+02, 1.093279E-11; evidence = 1.37216345E+02\n",
      "1.2026E+01, 4.4307E+04, 6.0498E-06, 1.0999E+01, 2.9292E+02, 1.093279E-11; evidence = 1.37216345E+02\n",
      "1.2026E+01, 4.4307E+04, 6.0498E-06, 1.0999E+01, 2.9292E+02, 1.093279E-11; evidence = 1.37216345E+02\n",
      "1.2026E+01, 4.4307E+04, 6.0498E-06, 1.0999E+01, 2.9292E+02, 1.093279E-11; evidence = 1.37216345E+02\n",
      "1.2026E+01, 4.4307E+04, 6.0498E-06, 1.0999E+01, 2.9292E+02, 1.093279E-11; evidence = 1.37216345E+02\n",
      "1.2026E+01, 4.4307E+04, 6.0498E-06, 1.0999E+01, 2.9292E+02, 1.093279E-11; evidence = 1.37216345E+02\n",
      "1.2026E+01, 4.4307E+04, 6.0498E-06, 1.0999E+01, 2.9292E+02, 1.093279E-11; evidence = 1.37216345E+02\n",
      "1.2026E+01, 4.4307E+04, 6.0498E-06, 1.0999E+01, 2.9292E+02, 1.093279E-11; evidence = 1.37216345E+02\n",
      "1.2026E+01, 4.4307E+04, 6.0498E-06, 1.0999E+01, 2.9292E+02, 1.093279E-11; evidence = 1.37216345E+02\n",
      "1.2026E+01, 4.4307E+04, 6.0498E-06, 1.0999E+01, 2.9292E+02, 1.093279E-11; evidence = 1.37216345E+02\n",
      "1.2026E+01, 4.4307E+04, 6.0498E-06, 1.0999E+01, 2.9292E+02, 1.093279E-11; evidence = 1.37216345E+02\n",
      "1.2026E+01, 4.4307E+04, 6.0498E-06, 1.0999E+01, 2.9292E+02, 1.093279E-11; evidence = 1.37216345E+02\n",
      "1.2026E+01, 4.4307E+04, 6.0498E-06, 1.0999E+01, 2.9292E+02, 1.093279E-11; evidence = 1.37216345E+02\n",
      "1.2026E+01, 4.4307E+04, 6.0498E-06, 1.0999E+01, 2.9292E+02, 1.093279E-11; evidence = 1.37216345E+02\n",
      "1.2026E+01, 4.4307E+04, 6.0498E-06, 1.0999E+01, 2.9292E+02, 1.093279E-11; evidence = 1.37216345E+02\n",
      "1.2026E+01, 4.4307E+04, 6.0498E-06, 1.0999E+01, 2.9292E+02, 1.093279E-11; evidence = 1.37216345E+02\n",
      "1.2026E+01, 4.4307E+04, 6.0498E-06, 1.0999E+01, 2.9292E+02, 1.093279E-11; evidence = 1.37216345E+02\n",
      "1.2026E+01, 4.4307E+04, 6.0498E-06, 1.0999E+01, 2.9292E+02, 1.093279E-11; evidence = 1.37216345E+02\n",
      "1.2026E+01, 4.4307E+04, 6.0498E-06, 1.0999E+01, 2.9292E+02, 1.093279E-11; evidence = 1.37216345E+02\n",
      "1.2026E+01, 4.4307E+04, 6.0498E-06, 1.0999E+01, 2.9292E+02, 1.093279E-11; evidence = 1.37216345E+02\n",
      "1.2026E+01, 4.4307E+04, 6.0498E-06, 1.0999E+01, 2.9292E+02, 1.093279E-11; evidence = 1.37216345E+02\n",
      "1.2026E+01, 4.4307E+04, 6.0498E-06, 1.0999E+01, 2.9292E+02, 1.093279E-11; evidence = 1.37216345E+02\n",
      "1.2026E+01, 4.4307E+04, 6.0498E-06, 1.0999E+01, 2.9292E+02, 1.093279E-11; evidence = 1.37216345E+02\n",
      "1.2026E+01, 4.4307E+04, 6.0498E-06, 1.0999E+01, 2.9292E+02, 1.093279E-11; evidence = 1.37216345E+02\n",
      "1.2026E+01, 4.4307E+04, 6.0498E-06, 1.0999E+01, 2.9292E+02, 1.093279E-11; evidence = 1.37216345E+02\n",
      "1.2026E+01, 4.4307E+04, 6.0498E-06, 1.0999E+01, 2.9292E+02, 1.093279E-11; evidence = 1.37216345E+02\n",
      "1.2026E+01, 4.4307E+04, 6.0498E-06, 1.0999E+01, 2.9292E+02, 1.093279E-11; evidence = 1.37216345E+02\n",
      "1.2026E+01, 4.4307E+04, 6.0498E-06, 1.0999E+01, 2.9292E+02, 1.093279E-11; evidence = 1.37216345E+02\n",
      "1.2026E+01, 4.4307E+04, 6.0498E-06, 1.0999E+01, 2.9292E+02, 1.093279E-11; evidence = 1.37216345E+02\n",
      "1.2026E+01, 4.4307E+04, 6.0498E-06, 1.0999E+01, 2.9292E+02, 1.093279E-11; evidence = 1.37216345E+02\n",
      "1.2026E+01, 4.4307E+04, 6.0498E-06, 1.0999E+01, 2.9292E+02, 1.093279E-11; evidence = 1.37216345E+02\n",
      "1.2026E+01, 4.4307E+04, 6.0498E-06, 1.0999E+01, 2.9292E+02, 1.093279E-11; evidence = 1.37216345E+02\n",
      "1.2026E+01, 4.4307E+04, 6.0498E-06, 1.0999E+01, 2.9292E+02, 1.093279E-11; evidence = 1.37216345E+02\n",
      "1.2026E+01, 4.4307E+04, 6.0498E-06, 1.0999E+01, 2.9292E+02, 1.093279E-11; evidence = 1.37216345E+02\n",
      "1.2026E+01, 4.4307E+04, 6.0498E-06, 1.0999E+01, 2.9292E+02, 1.093279E-11; evidence = 1.37216345E+02\n",
      "1.2026E+01, 4.4307E+04, 6.0498E-06, 1.0999E+01, 2.9292E+02, 1.093279E-11; evidence = 1.37216345E+02\n",
      "1.2026E+01, 4.4307E+04, 6.0498E-06, 1.0999E+01, 2.9292E+02, 1.093279E-11; evidence = 1.37216345E+02\n",
      "1.2026E+01, 4.4307E+04, 6.0498E-06, 1.0999E+01, 2.9292E+02, 1.093279E-11; evidence = 1.37216345E+02\n",
      "1.2026E+01, 4.4307E+04, 6.0498E-06, 1.0999E+01, 2.9292E+02, 1.093279E-11; evidence = 1.37216345E+02\n",
      "1.2026E+01, 4.4307E+04, 6.0498E-06, 1.0999E+01, 2.9292E+02, 1.093279E-11; evidence = 1.37216345E+02\n",
      "1.2026E+01, 4.4307E+04, 6.0498E-06, 1.0999E+01, 2.9292E+02, 1.093279E-11; evidence = 1.37216345E+02\n",
      "1.2026E+01, 4.4307E+04, 6.0498E-06, 1.0999E+01, 2.9292E+02, 1.093279E-11; evidence = 1.37216345E+02\n",
      "1.2026E+01, 4.4307E+04, 6.0498E-06, 1.0999E+01, 2.9292E+02, 1.093279E-11; evidence = 1.37216345E+02\n",
      "1.2026E+01, 4.4307E+04, 6.0498E-06, 1.0999E+01, 2.9292E+02, 1.093279E-11; evidence = 1.37216345E+02\n",
      "Optimization terminated successfully.\n",
      "         Current function value: 137.216345\n",
      "         Iterations: 153\n",
      "         Function evaluations: 346\n"
     ]
    }
   ],
   "source": [
    "theta_0 = np.array([sigma_n, sigma_DRT, sigma_SB, ell, sigma_R, sigma_L])\n",
    "seq_theta = np.copy(theta_0)\n",
    "def print_results(theta):\n",
    "    global seq_theta\n",
    "    seq_theta = np.vstack((seq_theta, theta))\n",
    "    print('%.4E, %.4E, %.4E, %.4E, %.4E, %.6E; evidence = %.8E'%(theta[0], theta[1], theta[2], theta[3], theta[4], theta[5], gpf.NMLL_fct(theta, Z_exp_all, omega_vec, ker_opts, 're-im')))\n",
    "\n",
    "res = minimize(gpf.NMLL_fct, theta_0, args=(Z_exp_all, omega_vec, ker_opts, 're-im'), method='Powell', \\\n",
    "               callback=print_results, options={'disp': True, 'xtol': 1E-6, 'ftol': 1E-6})\n",
    "res = minimize(gpf.NMLL_fct, abs(res.x), args=(Z_exp_all, omega_vec, ker_opts, 're-im'), method='Nelder-Mead', \\\n",
    "               callback=print_results, options={'disp': True, 'xatol': 1E-6, 'fatol': 1E-6})\n",
    "\n",
    "# collect the optimised hyperparameters\n",
    "theta = res.x\n",
    "sigma_n, sigma_DRT, sigma_SB, ell, sigma_R, sigma_L = theta"
   ]
  },
  {
   "cell_type": "code",
   "execution_count": 11,
   "id": "b21075a2",
   "metadata": {},
   "outputs": [],
   "source": [
    "# update the values of the kernel as the gpf functions simply copy ker_opts\n",
    "\n",
    "ker_opts['sigma_SB'] = sigma_SB\n",
    "ker_opts['ell'] = ell\n",
    "ker_opts['sigma_DRT'] = sigma_DRT\n",
    "tau_max = 0.0008"
   ]
  },
  {
   "cell_type": "markdown",
   "id": "bf7f1af0",
   "metadata": {},
   "source": [
    "### 2.5) Recover the real and imaginary parts of the impedance "
   ]
  },
  {
   "cell_type": "code",
   "execution_count": 12,
   "id": "8b542101",
   "metadata": {},
   "outputs": [],
   "source": [
    "# compute the blocks in the covariance matrix defined in equation (6c) of the main manuscript\n",
    "K_re = gpf.mat_K(omega_vec, omega_vec, ker_opts, 're')\n",
    "K_im = gpf.mat_K(omega_vec, omega_vec, ker_opts, 'im')\n",
    "K_re_im = gpf.mat_K(omega_vec, omega_vec, ker_opts, 're-im')\n",
    "K_im_re = gpf.mat_K(omega_vec, omega_vec, ker_opts, 'im-re')\n",
    "\n",
    "\n",
    "# assemble the covariance matrix defined in equation (6c)\n",
    "Sigma = sigma_n**2*np.eye(N_freqs)\n",
    "K_full = np.zeros((2*N_freqs, 2*N_freqs))\n",
    "K_full[:N_freqs, :N_freqs] = K_re + Sigma + (sigma_R**2)*np.ones(N_freqs)\n",
    "K_full[:N_freqs, N_freqs:] = K_re_im\n",
    "K_full[N_freqs:, :N_freqs] = K_im_re\n",
    "K_full[N_freqs:, N_freqs:] = K_im + Sigma + (sigma_L**2)*np.outer(omega_vec, omega_vec)\n",
    "\n",
    "\n",
    "# ensure the full covariance matrix is positive definite, and, if not, \n",
    "# replace it with its nearest positive definite matrix\n",
    "if not gpf.is_PD(K_full):\n",
    "    K_full = gpf.nearest_PD(K_full) # nearest positive definite matrix\n",
    "    \n",
    "\n",
    "# compute the Cholesky factorisation of the full covariance matrix to evaluate its inverse\n",
    "L = np.linalg.cholesky(K_full) # Cholesky factorisation of the full covariance matrix K_full\n",
    "inv_L = np.linalg.inv(L)\n",
    "inv_K_full = np.dot(inv_L.T, inv_L) # inverse of K_full\n",
    "\n",
    "\n",
    "# frequency range for the GP regression\n",
    "N_star_freqs = 200  \n",
    "freq_star_vec = np.logspace(-2, 7, num=N_star_freqs, endpoint=True)\n",
    "omega_star_vec = 2.*np.pi*freq_star_vec\n",
    "\n",
    "\n",
    "mu_re_star_vec = np.zeros_like(omega_star_vec)\n",
    "sigma_re_star_vec = np.zeros_like(omega_star_vec)\n",
    "\n",
    "mu_im_star_vec = np.zeros_like(omega_star_vec)\n",
    "sigma_im_star_vec = np.zeros_like(omega_star_vec)\n",
    "\n",
    "\n",
    "for index, omega_star in enumerate(omega_star_vec):\n",
    "    \n",
    "    omega_star_np = np.array([omega_star])\n",
    "    \n",
    "    # k_star_star # equation (6a)\n",
    "    k_star_star_re = gpf.mat_K(omega_star_np, omega_star_np, ker_opts, 're').flatten() + (sigma_R**2)\n",
    "    k_star_star_im = gpf.mat_K(omega_star_np, omega_star_np, ker_opts, 'im').flatten() + (sigma_L**2)*omega_star_np**2\n",
    "    \n",
    "    # k_star # equation (6b)\n",
    "    k_star_re_re = gpf.mat_K(omega_star_np, omega_vec, ker_opts, 're').flatten() + (sigma_R**2)*np.ones(N_freqs)\n",
    "    k_star_re_im = gpf.mat_K(omega_star_np, omega_vec, ker_opts, 're-im').flatten()\n",
    "    k_star_im_re = gpf.mat_K(omega_star_np, omega_vec, ker_opts, 'im-re').flatten()\n",
    "    k_star_im_im = gpf.mat_K(omega_star_np, omega_vec, ker_opts, 'im').flatten() + (sigma_L**2)*omega_vec*omega_star_np\n",
    "\n",
    "    # k_star_re\n",
    "    k_star_re = np.zeros(2*N_freqs)\n",
    "    k_star_re[:N_freqs] = k_star_re_re\n",
    "    k_star_re[N_freqs:] = k_star_re_im\n",
    "    \n",
    "    # k_star_im\n",
    "    k_star_im = np.zeros(2*N_freqs)\n",
    "    k_star_im[:N_freqs] = k_star_im_re\n",
    "    k_star_im[N_freqs:] = k_star_im_im\n",
    "    \n",
    "    mu_re_star_vec[index] = k_star_re@(inv_K_full@Z_exp_all) # equation (9a)\n",
    "    sigma_re_star_vec[index] = np.sqrt(k_star_star_re - k_star_re@(inv_K_full@k_star_re)) # equation (9b)\n",
    "    \n",
    "    mu_im_star_vec[index] = k_star_im@(inv_K_full@Z_exp_all) # equation (9a)\n",
    "    sigma_im_star_vec[index] = np.sqrt(k_star_star_im - k_star_im@(inv_K_full@k_star_im)) # equation (9b)"
   ]
  },
  {
   "cell_type": "markdown",
   "id": "56bb0a92",
   "metadata": {},
   "source": [
    "### 2.6) Draw the Nyquist plot"
   ]
  },
  {
   "cell_type": "code",
   "execution_count": 13,
   "id": "ac92c6cb",
   "metadata": {},
   "outputs": [],
   "source": [
    "# complete frequency range \n",
    "Z_data0 = pd.read_csv('./EIS_BatteryLi.csv')\n",
    "freq_vec0, Z_exp0 = Z_data0['freq'].values, Z_data0['Real'].values + 1j*Z_data0['Imag'].values\n",
    "omega_vec0 = 2.*np.pi*freq_vec0\n",
    "Z_exp0 = Z_exp0\n",
    "N_freqs0 = freq_vec0.shape[0]"
   ]
  },
  {
   "cell_type": "code",
   "execution_count": 15,
   "id": "d6a8b0ba",
   "metadata": {},
   "outputs": [
    {
     "data": {
      "image/png": "[encoded data removed]",
      "text/plain": [
       "<Figure size 640x480 with 1 Axes>"
      ]
     },
     "metadata": {},
     "output_type": "display_data"
    }
   ],
   "source": [
    "# ECM to approximately evaluate the Rp\n",
    "Z_ECM_Rp = 330 + R2/(1+(1j*2.*np.pi*freq_star_vec*tau2)**phi2)  \n",
    "\n",
    "# Nyquist plot of the impedances\n",
    "plt.plot(mu_re_star_vec/1000, -mu_im_star_vec/1000, linewidth=4, color='black', label='GP')\n",
    "plt.plot(np.real(Z_ECM_Rp)/1000, -np.imag(Z_ECM_Rp)/1000, '--',linewidth=2, color='blue', label='ECM')\n",
    "plt.plot(np.real(Z_exp0)/1000, -np.imag(Z_exp0)/1000, 'o', markersize=7, color='red', label='exp')\n",
    "plt.plot(np.real(Z_exp0[0])/1000, -np.imag(Z_exp0[0])/1000, 's', markersize=7, color='black')\n",
    "plt.plot(np.real(Z_exp0[7])/1000, -np.imag(Z_exp0[7])/1000, 's', markersize=7, color='green') # cut-off frequency at high freq.\n",
    "plt.plot(np.real(Z_exp0[18])/1000, -np.imag(Z_exp0[18])/1000, 's', markersize=7, color='black')\n",
    "plt.plot(np.real(Z_exp0[26])/1000, -np.imag(Z_exp0[26])/1000, 's', markersize=7, color='green') # cut-off frequency at low freq.\n",
    "plt.plot(np.real(Z_exp0[35])/1000, -np.imag(Z_exp0[35])/1000, 's', markersize=7, color='black')\n",
    "\n",
    "# label the frequencies\n",
    "plt.annotate(r'${0:.1f}\\times 10^{1}$'.format(freq_vec0[0]/(10**(int(np.log10(freq_vec0[0])))), int(np.log10(freq_vec0[0]))), \n",
    "                 xy=(np.real(Z_exp0[0])/1000, -np.imag(Z_exp0[0])/1000), \n",
    "                 xytext=(np.real(Z_exp0[0])/1000-100/1000, 550/1000-np.imag(Z_exp0[0])/1000), \n",
    "                 arrowprops=dict(arrowstyle=\"-\", connectionstyle=\"arc\"))\n",
    "plt.annotate(r'${0:.1f}\\times 10^{1}$'.format(freq_vec0[7]/(10**(int(np.log10(freq_vec0[7])))), int(np.log10(freq_vec0[7]))), \n",
    "                 xy=(np.real(Z_exp0[7])/1000, -np.imag(Z_exp0[7])/1000), \n",
    "                 xytext=(np.real(Z_exp0[7])/1000+300/1000, 70/1000-np.imag(Z_exp0[7])/1000), \n",
    "                 arrowprops=dict(arrowstyle=\"-\", connectionstyle=\"arc\"))\n",
    "plt.annotate(r'${0:.1f}\\times 10^{1}$'.format(freq_vec0[18]/(10**(int(np.log10(freq_vec0[18])))), int(np.log10(freq_vec0[18]))), \n",
    "                 xy=(np.real(Z_exp0[18])/1000, -np.imag(Z_exp0[18])/1000), \n",
    "                 xytext=(np.real(Z_exp0[18])/1000-200/1000, 600/1000-np.imag(Z_exp0[18])/1000), \n",
    "                 arrowprops=dict(arrowstyle=\"-\", connectionstyle=\"arc\"))\n",
    "plt.annotate(r'${0:.1f}\\times 10^{1}$'.format(freq_vec0[26]/(10**(int(np.log10(freq_vec0[26])))), int(np.log10(freq_vec0[26]))), \n",
    "                 xy=(np.real(Z_exp0[26])/1000, -np.imag(Z_exp0[26])/1000), \n",
    "                 xytext=(np.real(Z_exp0[26])/1000+150/1000, 400/1000-np.imag(Z_exp0[26])/1000), \n",
    "                 arrowprops=dict(arrowstyle=\"-\", connectionstyle=\"arc\"))\n",
    "plt.annotate(r'${0:.1f}\\times 10^{1}$'.format(freq_vec0[35]/(10**(int(np.log10(freq_vec0[35])))), int(np.log10(freq_vec0[35]))), \n",
    "                 xy=(np.real(Z_exp0[35])/1000, -np.imag(Z_exp0[35])/1000), \n",
    "                 xytext=(np.real(Z_exp0[35])/1000+200/1000, -100/1000-np.imag(Z_exp0[35])/1000), \n",
    "                 arrowprops=dict(arrowstyle=\"-\", connectionstyle=\"arc\"))\n",
    "\n",
    "# options of the plots\n",
    "plt.legend(frameon=False, fontsize = 15)\n",
    "plt.gca().set_aspect('equal', adjustable='box')\n",
    "plt.xlim(0, 2.5)\n",
    "plt.ylim(0, 1.25)\n",
    "plt.xticks(np.arange(0, 3.001, 0.5))\n",
    "plt.yticks(np.arange(0, 1.5001, 0.5))\n",
    "plt.xlabel(r'$Z_{\\rm re}/\\rm k\\Omega$', fontsize = 20)\n",
    "plt.ylabel(r'$-Z_{\\rm im}/\\rm k\\Omega$', fontsize = 20)\n",
    "plt.show()"
   ]
  },
  {
   "cell_type": "code",
   "execution_count": null,
   "id": "50feddf4",
   "metadata": {},
   "outputs": [],
   "source": []
  },
  {
   "cell_type": "markdown",
   "id": "7b693dd4",
   "metadata": {},
   "source": [
    "## 3) Evaluate the charge-transfer resistance as a stochastic variable"
   ]
  },
  {
   "cell_type": "markdown",
   "id": "d42768e4",
   "metadata": {},
   "source": [
    "We recall that \n",
    "\n",
    "$$ \n",
    "\\begin{pmatrix}\n",
    "Z_{\\rm re}(\\omega \\rightarrow 0) \\\\\n",
    "Z_{\\rm re}(\\omega \\rightarrow \\infty) \\end{pmatrix} | \\; \\mathbf Z = \\mathbf Z_{\\rm exp}\n",
    "\\sim \\mathcal{N} \\left(\\bf \\mu_{\\rm re}(0,\\infty), \\mathbf \\Sigma_{\\rm re}(0,\\infty) \\right) \n",
    "$$\n",
    "\n",
    "where \n",
    "\n",
    "$$\n",
    "\\mu_{\\rm re}(0,\\infty) = \\begin{pmatrix}\n",
    "\\mu^{0}_{\\rm re} \\\\\n",
    "\\mu^{\\infty}_{\\rm re} \\end{pmatrix} = \\mathbf K_{\\rm re,im}(0,\\infty) \\mathbf K^{-1}(\\bf \\omega,\\bf \\omega) \\mathbf Z_{\\rm exp}\n",
    "$$\n",
    "\n",
    "$$ \n",
    "\\Sigma_{\\rm re}(0,\\infty) = \\begin{pmatrix}\n",
    "\\Sigma^{0}_{\\rm re} & \\Sigma^{0,\\infty}_{\\rm re} \\\\\n",
    "\\Sigma^{0,\\infty}_{\\rm re} & \\Sigma^{\\infty}_{\\rm re} \\end{pmatrix} = \\mathbf K_{\\rm re}(0,\\infty) - \\mathbf K_{\\rm re,im}(0,\\infty) \\mathbf K^{-1}(\\omega,\\omega) \\mathbf K^\\top_{\\rm re,im}(0,\\infty) \n",
    "$$\n",
    "\n",
    "The charge-transfer resistance $ R_{\\rm ct} = Z_{\\rm re}(0) - Z_{\\rm re}(\\infty)$ is the following Gaussian random variable\n",
    "\n",
    "$$\n",
    "R_{\\rm ct} \\sim \\mathcal{N} \\left(\\mu_{R_{\\rm ct}}, \\mathbf \\sigma^{2}_{R_{\\rm ct}} \\right) \n",
    "$$\n",
    "\n",
    "where\n",
    "\n",
    "$$\n",
    "\\mu_{R_{\\rm ct}} = \\mu^{0}_{\\rm re} - \\mu^{\\infty}_{\\rm re}\n",
    "$$\n",
    "\n",
    "$$\n",
    "\\sigma_{R_{\\rm ct}} = \\sqrt{\\Sigma^{0}_{\\rm re} - 2\\Sigma^{0,\\infty}_{\\rm re} + \\Sigma^{\\infty}_{\\rm re}}\n",
    "$$"
   ]
  },
  {
   "cell_type": "code",
   "execution_count": 19,
   "id": "17176765",
   "metadata": {},
   "outputs": [
    {
     "name": "stdout",
     "output_type": "stream",
     "text": [
      "stochastic Rct 1529.366611279761 Ohm\n",
      "ECM Rct 1482.8631670666334 Ohm\n",
      "std_Rct 43.72030736767328 Ohm\n"
     ]
    }
   ],
   "source": [
    "K_re_0inf = np.zeros((2,2)) # equation (15a)\n",
    "K_re_0inf[0,0] = tau_max*sigma_DRT**2 + sigma_R**2 + 2*sigma_SB**2 \n",
    "K_re_0inf[0,1] = sigma_R**2\n",
    "K_re_0inf[1,0] = sigma_R**2\n",
    "K_re_0inf[1,1] = sigma_R**2 + sigma_SB**2 \n",
    "\n",
    "K_reim_0inf = np.zeros((2, 2*N_freqs)) # equation (15b)\n",
    "for i in range(N_freqs):\n",
    "    K_reim_0inf[0,i] = np.arctan(tau_max*omega_vec[i])*sigma_DRT**2/omega_vec[i] + sigma_R**2 \n",
    "    + gpf.k_SB(0,omega_vec[i], ker_opts, 're') \n",
    "    K_reim_0inf[0,i+N_freqs] = -np.log(1 + omega_vec[i]**2*tau_max**2)*sigma_DRT**2/(2*omega_vec[i]) - gpf.k_SB(0,omega_vec[i], ker_opts, 're-im') \n",
    "    K_reim_0inf[1,i] = sigma_R**2\n",
    "\n",
    "# Mean of the charge-transfer resistance considered as a Gaussian random variable\n",
    "mu_re_0inf = np.dot(K_reim_0inf, np.dot(inv_K_full, Z_exp_all)) # equation (17a)\n",
    "mean_Rct = mu_re_0inf[0] - mu_re_0inf[1] # equation (18)\n",
    "print('stochastic Rct', mean_Rct, 'Ohm') # comparison with the experimental value of R_ct\n",
    "print('ECM Rct', np.real(Z_ECM_Rp[0] - Z_ECM_Rp[len(freq_star_vec)-1]), 'Ohm')\n",
    "\n",
    "# Standard deviation of the charge-transfer resistance considered as a Gaussian random variable\n",
    "sigma_re_0inf = K_re_0inf - np.dot(K_reim_0inf, np.dot(inv_K_full, np.transpose(K_reim_0inf))) # equation (17b)\n",
    "if not gpf.is_PD(sigma_re_0inf): # replace sigma_re_0inf with its nearest positive definite matrix if not positive definite\n",
    "    sigma_re_0inf = gpf.nearest_PD(sigma_re_0inf)\n",
    "std_Rct = np.sqrt(sigma_re_0inf[0,0] - 2*sigma_re_0inf[0,1] + sigma_re_0inf[1,1]) # equation (18)\n",
    "print('std_Rct', std_Rct, 'Ohm')"
   ]
  },
  {
   "cell_type": "code",
   "execution_count": null,
   "id": "93cd4df5",
   "metadata": {},
   "outputs": [],
   "source": []
  }
 ],
 "metadata": {
  "kernelspec": {
   "display_name": "Python 3 (ipykernel)",
   "language": "python",
   "name": "python3"
  },
  "language_info": {
   "codemirror_mode": {
    "name": "ipython",
    "version": 3
   },
   "file_extension": ".py",
   "mimetype": "text/x-python",
   "name": "python",
   "nbconvert_exporter": "python",
   "pygments_lexer": "ipython3",
   "version": "3.9.13"
  }
 },
 "nbformat": 4,
 "nbformat_minor": 5
}
