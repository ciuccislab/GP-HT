{
 "cells": [
  {
   "cell_type": "markdown",
   "metadata": {},
   "source": [
    "# Computing the GP-DRT"
   ]
  },
  {
   "cell_type": "markdown",
   "metadata": {},
   "source": [
    "In this example we are going to use a simple model to illustrate how the GP-DRT model works. The model consists of two ZARC elements connected in series."
   ]
  },
  {
   "cell_type": "code",
   "execution_count": 1,
   "metadata": {},
   "outputs": [],
   "source": [
    "# import the libraries needed\n",
    "import importlib\n",
    "import GP_hilbert\n",
    "importlib.reload(GP_hilbert)\n",
    "\n",
    "import numpy as np\n",
    "import matplotlib.pyplot as plt\n",
    "from math import pi, log, sqrt\n",
    "from scipy.optimize import minimize\n",
    "import seaborn as sns"
   ]
  },
  {
   "cell_type": "code",
   "execution_count": 2,
   "metadata": {},
   "outputs": [],
   "source": [
    "# plot standards\n",
    "plt.rc('font', family='serif', size=15)\n",
    "plt.rc('text', usetex=True)\n",
    "plt.rc('xtick', labelsize=15)\n",
    "plt.rc('ytick', labelsize=15)"
   ]
  },
  {
   "cell_type": "markdown",
   "metadata": {},
   "source": [
    "## 1) Define the synthetic impedance experiment $Z_{\\rm exp}(\\omega)$"
   ]
  },
  {
   "cell_type": "markdown",
   "metadata": {},
   "source": [
    "### 1.1) Define frequency range"
   ]
  },
  {
   "cell_type": "code",
   "execution_count": 3,
   "metadata": {},
   "outputs": [],
   "source": [
    "N_freqs = 81\n",
    "freq_vec = np.logspace(-4., 4., num=N_freqs, endpoint=True)\n",
    "omega_vec = 2.*pi*freq_vec"
   ]
  },
  {
   "cell_type": "markdown",
   "metadata": {},
   "source": [
    "### 1.2) Define the circuit parameters"
   ]
  },
  {
   "cell_type": "code",
   "execution_count": 4,
   "metadata": {},
   "outputs": [],
   "source": [
    "# define variables for exact circuit 1\n",
    "R_inf_1 = 10. # Ohm\n",
    "R_ct_1 = 50 # Ohm\n",
    "phi_1 = 0.8 # dimensionless\n",
    "tau_1 = 0.1 # s\n",
    "\n",
    "# define variables for exact circuit 2\n",
    "R_inf_2 = 10. # Ohm\n",
    "R_ct_2 = 50 # Ohm\n",
    "tau_2 = 1E1 # s\n",
    "phi_2 = 0.8 # dimensionless\n",
    "\n",
    "# external inductance\n",
    "L_0 = 0 # F"
   ]
  },
  {
   "cell_type": "markdown",
   "metadata": {},
   "source": [
    "### 1.3) Generate exact impedance $Z_{\\rm exact}(\\omega)$ "
   ]
  },
  {
   "cell_type": "code",
   "execution_count": 5,
   "metadata": {},
   "outputs": [],
   "source": [
    "# impedance of circuit 1\n",
    "T_1 = tau_1**phi_1/R_ct_1\n",
    "Z_exact_1 = R_inf_1+1./(1./R_ct_1+T_1*(1j*2.*pi*freq_vec)**phi_1)\n",
    "\n",
    "# impedance of circuit 2\n",
    "T_2 = tau_2**phi_2/R_ct_2\n",
    "Z_exact_2 = R_inf_2+1./(1./R_ct_2+T_2*(1j*2.*pi*freq_vec)**phi_2)\n",
    "\n",
    "# sum of the two\n",
    "Z_exact = 1j*(2*pi*freq_vec)*L_0 + Z_exact_1 + Z_exact_2"
   ]
  },
  {
   "cell_type": "markdown",
   "metadata": {},
   "source": [
    "### 1.4) Generate stochastic experiment with $Z_{\\rm exp}(\\omega) = Z_{\\rm exact}(\\omega)+ \\sigma_n (\\varepsilon_{\\rm re} + i\\varepsilon_{\\rm im})$ with $\\varepsilon_{\\rm re}$ and $\\varepsilon_{\\rm im}$ are independent and identically distributed normals centered with 0 mean and standard deviation equal to 1"
   ]
  },
  {
   "cell_type": "code",
   "execution_count": 6,
   "metadata": {},
   "outputs": [],
   "source": [
    "rng = np.random.seed(2421975) # seed the random number generator\n",
    "sigma_n_exp = 0.8\n",
    "Z_exp = Z_exact + (sigma_n_exp)*(np.random.normal(0, 1, N_freqs)+1j*np.random.normal(0, 1, N_freqs))"
   ]
  },
  {
   "cell_type": "markdown",
   "metadata": {},
   "source": [
    "### 1.5) Plot"
   ]
  },
  {
   "cell_type": "code",
   "execution_count": 7,
   "metadata": {},
   "outputs": [
    {
     "data": {
      "image/png": "[encoded data removed]",
      "text/plain": [
       "<Figure size 432x288 with 1 Axes>"
      ]
     },
     "metadata": {
      "needs_background": "light"
     },
     "output_type": "display_data"
    }
   ],
   "source": [
    "fig, ax = plt.subplots()\n",
    "\n",
    "plt.plot(np.real(Z_exact), -np.imag(Z_exact), linewidth=4, color=\"black\", label=\"exact\")\n",
    "plt.plot(np.real(Z_exp), -np.imag(Z_exp), \"o\", markersize=5, color=\"red\", label=\"synth exp\")\n",
    "plt.plot(np.real(Z_exp[10:70:10]), -np.imag(Z_exp[10:70:10]), 'p', markersize=7, color=\"black\")\n",
    "\n",
    "plt.xlabel(r'$Z_{\\rm re}/\\Omega$', fontsize = 20)\n",
    "plt.ylabel(r'$-Z_{\\rm im}/\\Omega$', fontsize = 20)\n",
    "plt.annotate(r'$10^{-3}$ Hz', xy=(np.real(Z_exp[10]), -np.imag(Z_exp[10])), \n",
    "             xytext=(np.real(Z_exp[10])+2, 5-np.imag(Z_exp[10])), \n",
    "             arrowprops=dict(arrowstyle=\"-\", connectionstyle=\"arc\"))\n",
    "plt.annotate(r'$10^{-2}$ Hz', xy=(np.real(Z_exp[20]), -np.imag(Z_exp[20])), \n",
    "             xytext=(np.real(Z_exp[20])+2, 5-np.imag(Z_exp[20])), \n",
    "             arrowprops=dict(arrowstyle=\"-\", connectionstyle=\"arc\"))\n",
    "plt.annotate(r'$10^{-1}$ Hz', xy=(np.real(Z_exp[30]), -np.imag(Z_exp[30])), \n",
    "             xytext=(np.real(Z_exp[30])-5, 10-np.imag(Z_exp[30])), \n",
    "             arrowprops=dict(arrowstyle=\"-\", connectionstyle=\"arc\"))\n",
    "plt.annotate(r'$1$ Hz', xy=(np.real(Z_exp[40]), -np.imag(Z_exp[40])), \n",
    "             xytext=(np.real(Z_exp[40])-2, 8-np.imag(Z_exp[40])), \n",
    "             arrowprops=dict(arrowstyle=\"-\", connectionstyle=\"arc\"))\n",
    "plt.annotate(r'$10$ Hz', xy=(np.real(Z_exp[50]), -np.imag(Z_exp[50])), \n",
    "             xytext=(np.real(Z_exp[50])-2, 15-np.imag(Z_exp[50])), \n",
    "             arrowprops=dict(arrowstyle=\"-\", connectionstyle=\"arc\"))\n",
    "plt.annotate(r'$10^2$ Hz', xy=(np.real(Z_exp[60]), -np.imag(Z_exp[60])), \n",
    "             xytext=(np.real(Z_exp[60])+ 10, 2-np.imag(Z_exp[60])), \n",
    "             arrowprops=dict(arrowstyle=\"-\", connectionstyle=\"arc\"))\n",
    "\n",
    "plt.legend(frameon=False, fontsize=15, loc='upper right')\n",
    "plt.axis('scaled')\n",
    "\n",
    "plt.xlim(10, 140)\n",
    "plt.ylim(0, 60)\n",
    "plt.xticks(range(10, 150, 10))\n",
    "plt.yticks(range(0, 70, 10))\n",
    "\n",
    "plt.xlabel(r'$Z_{\\rm re}/\\Omega$', fontsize = 20)\n",
    "plt.ylabel(r'$-Z_{\\rm im}/\\Omega$', fontsize = 20)\n",
    "plt.show()"
   ]
  },
  {
   "cell_type": "markdown",
   "metadata": {},
   "source": [
    "## 2) Optimize the hyperparameters "
   ]
  },
  {
   "cell_type": "markdown",
   "metadata": {},
   "source": [
    "### 2.1) Set the kernel options "
   ]
  },
  {
   "cell_type": "code",
   "execution_count": 8,
   "metadata": {},
   "outputs": [],
   "source": [
    "ker_opts = {\n",
    "    'sigma_DRT': 30.,\n",
    "    'sigma_SB': 1E-8,\n",
    "    'ell': 1.,\n",
    "    'tau_max': 1e2,\n",
    "    'DRT': True,\n",
    "    'SB': True,\n",
    "    'SB_ker_type': 'IQ',\n",
    "}\n",
    "\n",
    "# these values are nominal"
   ]
  },
  {
   "cell_type": "markdown",
   "metadata": {},
   "source": [
    "### 2.2) Initialize the hyperparameters"
   ]
  },
  {
   "cell_type": "code",
   "execution_count": 9,
   "metadata": {},
   "outputs": [],
   "source": [
    "sigma_n = 0.75\n",
    "sigma_DRT = 30\n",
    "sigma_SB = 1E-8\n",
    "ell = 16\n",
    "sigma_L = 1E-10"
   ]
  },
  {
   "cell_type": "markdown",
   "metadata": {},
   "source": [
    "\n",
    "### 2.3) Maximize the NMLL"
   ]
  },
  {
   "cell_type": "code",
   "execution_count": 10,
   "metadata": {},
   "outputs": [
    {
     "name": "stdout",
     "output_type": "stream",
     "text": [
      "7.5126E-01, 2.9198E+01, 2.4999E-08, 1.8618E+01, 6.624690E-16; evidence = 5.41151272E+01\n",
      "7.5125E-01, 2.9198E+01, 3.8390E-08, 1.7000E+01, 6.624690E-16; evidence = 5.41151272E+01\n",
      "Optimization terminated successfully.\n",
      "         Current function value: 54.115127\n",
      "         Iterations: 2\n",
      "         Function evaluations: 239\n",
      "7.5125E-01, 2.9198E+01, 3.8390E-08, 1.7000E+01, 6.624690E-16; evidence = 5.41151272E+01\n",
      "7.5125E-01, 2.9198E+01, 3.8390E-08, 1.7000E+01, 6.624690E-16; evidence = 5.41151272E+01\n",
      "7.5125E-01, 2.9198E+01, 3.8390E-08, 1.7000E+01, 6.624690E-16; evidence = 5.41151272E+01\n",
      "7.5125E-01, 2.9198E+01, 3.8390E-08, 1.7000E+01, 6.624690E-16; evidence = 5.41151272E+01\n",
      "7.5125E-01, 2.9198E+01, 3.8390E-08, 1.7000E+01, 6.624690E-16; evidence = 5.41151272E+01\n",
      "7.5125E-01, 2.9198E+01, 3.8390E-08, 1.7000E+01, 6.624690E-16; evidence = 5.41151272E+01\n",
      "7.5125E-01, 2.9198E+01, 3.8390E-08, 1.7000E+01, 6.624690E-16; evidence = 5.41151272E+01\n",
      "7.5125E-01, 2.9198E+01, 3.8390E-08, 1.7000E+01, 6.624690E-16; evidence = 5.41151272E+01\n",
      "7.5125E-01, 2.9198E+01, 3.8390E-08, 1.7000E+01, 6.624690E-16; evidence = 5.41151272E+01\n",
      "7.5125E-01, 2.9198E+01, 3.8390E-08, 1.7000E+01, 6.624690E-16; evidence = 5.41151272E+01\n",
      "7.5125E-01, 2.9198E+01, 3.8390E-08, 1.7000E+01, 6.624690E-16; evidence = 5.41151272E+01\n",
      "7.5125E-01, 2.9198E+01, 3.8390E-08, 1.7000E+01, 6.624690E-16; evidence = 5.41151272E+01\n",
      "7.5125E-01, 2.9198E+01, 3.8390E-08, 1.7000E+01, 6.624690E-16; evidence = 5.41151272E+01\n",
      "7.5125E-01, 2.9198E+01, 3.8390E-08, 1.7000E+01, 6.624690E-16; evidence = 5.41151272E+01\n",
      "7.5125E-01, 2.9198E+01, 3.8390E-08, 1.7000E+01, 6.624690E-16; evidence = 5.41151272E+01\n",
      "7.5125E-01, 2.9198E+01, 3.8390E-08, 1.7000E+01, 6.624690E-16; evidence = 5.41151272E+01\n",
      "7.5125E-01, 2.9198E+01, 3.8390E-08, 1.7000E+01, 6.624690E-16; evidence = 5.41151272E+01\n",
      "7.5125E-01, 2.9198E+01, 3.8390E-08, 1.7000E+01, 6.624690E-16; evidence = 5.41151272E+01\n",
      "7.5125E-01, 2.9198E+01, 3.8390E-08, 1.7000E+01, 6.624690E-16; evidence = 5.41151272E+01\n",
      "7.5125E-01, 2.9198E+01, 3.8390E-08, 1.7000E+01, 6.624690E-16; evidence = 5.41151272E+01\n",
      "7.5125E-01, 2.9198E+01, 3.8390E-08, 1.7000E+01, 6.624690E-16; evidence = 5.41151272E+01\n",
      "7.5125E-01, 2.9198E+01, 3.8390E-08, 1.7000E+01, 6.624690E-16; evidence = 5.41151272E+01\n",
      "7.5125E-01, 2.9198E+01, 3.8390E-08, 1.7000E+01, 6.624690E-16; evidence = 5.41151272E+01\n",
      "7.5125E-01, 2.9198E+01, 3.8390E-08, 1.7000E+01, 6.624690E-16; evidence = 5.41151272E+01\n",
      "7.5125E-01, 2.9198E+01, 3.8390E-08, 1.7000E+01, 6.624690E-16; evidence = 5.41151272E+01\n",
      "7.5125E-01, 2.9198E+01, 3.8390E-08, 1.7000E+01, 6.624690E-16; evidence = 5.41151272E+01\n",
      "7.5125E-01, 2.9198E+01, 3.8390E-08, 1.7000E+01, 6.624690E-16; evidence = 5.41151272E+01\n",
      "7.5125E-01, 2.9198E+01, 3.8390E-08, 1.7000E+01, 6.624690E-16; evidence = 5.41151272E+01\n",
      "7.5125E-01, 2.9198E+01, 3.8390E-08, 1.7000E+01, 6.624690E-16; evidence = 5.41151272E+01\n",
      "7.5125E-01, 2.9198E+01, 3.8390E-08, 1.7000E+01, 6.624690E-16; evidence = 5.41151272E+01\n",
      "7.5125E-01, 2.9198E+01, 3.8390E-08, 1.7000E+01, 6.624690E-16; evidence = 5.41151272E+01\n",
      "7.5125E-01, 2.9198E+01, 3.8390E-08, 1.7000E+01, 6.624690E-16; evidence = 5.41151272E+01\n",
      "7.5125E-01, 2.9198E+01, 3.8390E-08, 1.7000E+01, 6.624690E-16; evidence = 5.41151272E+01\n",
      "7.5125E-01, 2.9198E+01, 3.8390E-08, 1.7000E+01, 6.624690E-16; evidence = 5.41151272E+01\n",
      "7.5125E-01, 2.9198E+01, 3.8390E-08, 1.7000E+01, 6.624690E-16; evidence = 5.41151272E+01\n",
      "7.5125E-01, 2.9198E+01, 3.8390E-08, 1.7000E+01, 6.624690E-16; evidence = 5.41151272E+01\n",
      "7.5125E-01, 2.9198E+01, 3.8390E-08, 1.7000E+01, 6.624690E-16; evidence = 5.41151272E+01\n",
      "7.5125E-01, 2.9198E+01, 3.8390E-08, 1.7000E+01, 6.624690E-16; evidence = 5.41151272E+01\n",
      "7.5125E-01, 2.9198E+01, 3.8390E-08, 1.7000E+01, 6.624690E-16; evidence = 5.41151272E+01\n",
      "7.5125E-01, 2.9198E+01, 3.8390E-08, 1.7000E+01, 6.624690E-16; evidence = 5.41151272E+01\n",
      "7.5125E-01, 2.9198E+01, 3.8390E-08, 1.7000E+01, 6.624690E-16; evidence = 5.41151272E+01\n",
      "7.5125E-01, 2.9198E+01, 3.8390E-08, 1.7000E+01, 6.624690E-16; evidence = 5.41151272E+01\n",
      "7.5125E-01, 2.9198E+01, 3.8390E-08, 1.7000E+01, 6.624690E-16; evidence = 5.41151272E+01\n",
      "7.5125E-01, 2.9198E+01, 3.8390E-08, 1.7000E+01, 6.624690E-16; evidence = 5.41151272E+01\n",
      "7.5125E-01, 2.9198E+01, 3.8390E-08, 1.7000E+01, 6.624690E-16; evidence = 5.41151272E+01\n",
      "7.5125E-01, 2.9198E+01, 3.8390E-08, 1.7000E+01, 6.624690E-16; evidence = 5.41151272E+01\n",
      "7.5125E-01, 2.9198E+01, 3.8390E-08, 1.7000E+01, 6.624690E-16; evidence = 5.41151272E+01\n",
      "7.5125E-01, 2.9198E+01, 3.8390E-08, 1.7000E+01, 6.624690E-16; evidence = 5.41151272E+01\n",
      "7.5125E-01, 2.9198E+01, 3.8390E-08, 1.7000E+01, 6.624690E-16; evidence = 5.41151272E+01\n",
      "7.5125E-01, 2.9198E+01, 3.8390E-08, 1.7000E+01, 6.624690E-16; evidence = 5.41151272E+01\n",
      "7.5125E-01, 2.9198E+01, 3.8390E-08, 1.7000E+01, 6.624690E-16; evidence = 5.41151272E+01\n",
      "7.5125E-01, 2.9198E+01, 3.8390E-08, 1.7000E+01, 6.624690E-16; evidence = 5.41151272E+01\n",
      "7.5125E-01, 2.9198E+01, 3.8390E-08, 1.7000E+01, 6.624690E-16; evidence = 5.41151272E+01\n",
      "7.5125E-01, 2.9198E+01, 3.8390E-08, 1.7000E+01, 6.624690E-16; evidence = 5.41151272E+01\n",
      "7.5125E-01, 2.9198E+01, 3.8390E-08, 1.7000E+01, 6.624690E-16; evidence = 5.41151272E+01\n",
      "7.5125E-01, 2.9198E+01, 3.8390E-08, 1.7000E+01, 6.624690E-16; evidence = 5.41151272E+01\n",
      "7.5125E-01, 2.9198E+01, 3.8390E-08, 1.7000E+01, 6.624690E-16; evidence = 5.41151272E+01\n",
      "7.5125E-01, 2.9198E+01, 3.8390E-08, 1.7000E+01, 6.624690E-16; evidence = 5.41151272E+01\n",
      "7.5125E-01, 2.9198E+01, 3.8390E-08, 1.7000E+01, 6.624690E-16; evidence = 5.41151272E+01\n",
      "7.5125E-01, 2.9198E+01, 3.8390E-08, 1.7000E+01, 6.624690E-16; evidence = 5.41151272E+01\n",
      "7.5125E-01, 2.9198E+01, 3.8390E-08, 1.7000E+01, 6.624690E-16; evidence = 5.41151272E+01\n",
      "7.5125E-01, 2.9198E+01, 3.8390E-08, 1.7000E+01, 6.624690E-16; evidence = 5.41151272E+01\n",
      "7.5125E-01, 2.9198E+01, 3.8390E-08, 1.7000E+01, 6.624690E-16; evidence = 5.41151272E+01\n",
      "7.5125E-01, 2.9198E+01, 3.8390E-08, 1.7000E+01, 6.624690E-16; evidence = 5.41151272E+01\n",
      "7.5125E-01, 2.9198E+01, 3.8390E-08, 1.7000E+01, 6.624690E-16; evidence = 5.41151272E+01\n",
      "7.5125E-01, 2.9198E+01, 3.8390E-08, 1.7000E+01, 6.624690E-16; evidence = 5.41151272E+01\n",
      "7.5125E-01, 2.9198E+01, 3.8390E-08, 1.7000E+01, 6.624690E-16; evidence = 5.41151272E+01\n",
      "7.5125E-01, 2.9198E+01, 3.8390E-08, 1.7000E+01, 6.624691E-16; evidence = 5.41151272E+01\n",
      "7.5125E-01, 2.9198E+01, 3.8390E-08, 1.7000E+01, 6.624691E-16; evidence = 5.41151272E+01\n",
      "7.5125E-01, 2.9198E+01, 3.8390E-08, 1.7000E+01, 6.624691E-16; evidence = 5.41151272E+01\n",
      "7.5125E-01, 2.9198E+01, 3.8390E-08, 1.7000E+01, 6.624691E-16; evidence = 5.41151272E+01\n",
      "7.5125E-01, 2.9198E+01, 3.8390E-08, 1.7000E+01, 6.624691E-16; evidence = 5.41151272E+01\n",
      "Optimization terminated successfully.\n",
      "         Current function value: 54.115127\n",
      "         Iterations: 73\n",
      "         Function evaluations: 238\n"
     ]
    }
   ],
   "source": [
    "theta_0 = np.array([sigma_n, sigma_DRT, sigma_SB, ell, sigma_L])\n",
    "seq_theta = np.copy(theta_0)\n",
    "def print_results(theta):\n",
    "    global seq_theta\n",
    "    seq_theta = np.vstack((seq_theta, theta))\n",
    "    print('%.4E, %.4E, %.4E, %.4E, %.6E; evidence = %.8E'%(theta[0], theta[1], theta[2], theta[3], theta[4], GP_hilbert.NMLL_fct(theta, Z_exp.imag, omega_vec, ker_opts)))\n",
    "    \n",
    "res = minimize(GP_hilbert.NMLL_fct, theta_0, args=(Z_exp.imag, omega_vec, ker_opts, 'im'), method='Powell', \\\n",
    "               callback=print_results, options={'disp': True, 'xtol': 1E-6, 'ftol': 1E-6})\n",
    "res = minimize(GP_hilbert.NMLL_fct, res.x, args=(Z_exp.imag, omega_vec, ker_opts, 'im'), method='Nelder-Mead', \\\n",
    "               callback=print_results, options={'disp': True, 'xatol': 1E-6, 'fatol': 1E-6})\n",
    "\n",
    "theta = res.x\n",
    "sigma_n, sigma_DRT, sigma_SB, ell, sigma_L = theta"
   ]
  },
  {
   "cell_type": "code",
   "execution_count": 11,
   "metadata": {},
   "outputs": [],
   "source": [
    "# update the values of the kernel\n",
    "# as the GP_hilbert functions simply copy ker_opts\n",
    "ker_opts['sigma_SB'] = sigma_SB\n",
    "ker_opts['ell'] = ell\n",
    "ker_opts['sigma_DRT'] = sigma_DRT"
   ]
  },
  {
   "cell_type": "markdown",
   "metadata": {},
   "source": [
    "### 2.4) Check if the results are reasonable"
   ]
  },
  {
   "cell_type": "markdown",
   "metadata": {},
   "source": [
    "#### 2.4.1) Check $L_0$"
   ]
  },
  {
   "cell_type": "code",
   "execution_count": 12,
   "metadata": {},
   "outputs": [
    {
     "name": "stdout",
     "output_type": "stream",
     "text": [
      "L_0_est = 9.085540E-27 F vs. L_0 = 0.000000E+00 F\n"
     ]
    }
   ],
   "source": [
    "K_im = GP_hilbert.mat_K(omega_vec, omega_vec, ker_opts, 'im')\n",
    "Sigma = (sigma_n**2)*np.eye(N_freqs)\n",
    "K_full = K_im + (sigma_L**2)*np.outer(omega_vec, omega_vec)\n",
    "K_full_reg = K_im + Sigma\n",
    "\n",
    "# inverse of K_im\n",
    "if not GP_hilbert.is_PD(K_full_reg):\n",
    "    K_full_reg = GP_hilbert.nearest_PD(K_full_reg)\n",
    "    \n",
    "L = np.linalg.cholesky(K_full_reg)\n",
    "\n",
    "inv_L = np.linalg.inv(L)\n",
    "inv_K_full_reg = np.dot(inv_L.T, inv_L)\n",
    "\n",
    "num_L_0 = omega_vec@(inv_K_full_reg@Z_exp.imag)\n",
    "den_L_0 = (sigma_L**-2) + omega_vec@(inv_K_full_reg@omega_vec)\n",
    "L_0_est = num_L_0/den_L_0\n",
    "\n",
    "print('L_0_est = %.6E F vs. L_0 = %.6E F'%(L_0_est, L_0))"
   ]
  },
  {
   "cell_type": "markdown",
   "metadata": {},
   "source": [
    "#### 2.4.2) Check the fit of $\\Im(Z_{\\rm exp})$ against the GP"
   ]
  },
  {
   "cell_type": "markdown",
   "metadata": {},
   "source": [
    "##### 2.4.2.1) Run the GP regression"
   ]
  },
  {
   "cell_type": "code",
   "execution_count": 13,
   "metadata": {},
   "outputs": [],
   "source": [
    "# cholesky factorization\n",
    "if not GP_hilbert.is_PD(K_full):\n",
    "    K_full = GP_hilbert.nearest_PD(K_full)\n",
    "    \n",
    "L = np.linalg.cholesky(K_full)\n",
    "\n",
    "# covariance matrix\n",
    "inv_L = np.linalg.inv(L)\n",
    "inv_K_full = np.dot(inv_L.T, inv_L)\n",
    "\n",
    "N_star_freqs = N_freqs\n",
    "freq_star_vec = np.copy(freq_vec) #np.logspace(-4., 4., num=N_star_freqs, endpoint=True)\n",
    "omega_star_vec = 2.*pi*freq_star_vec\n",
    "\n",
    "mu_star_vec = np.zeros_like(omega_star_vec)\n",
    "sigma_star_vec = np.zeros_like(omega_star_vec)\n",
    "\n",
    "for index, omega_star in enumerate(omega_star_vec):\n",
    "    #print('iter = ', index+1, '/', N_star_freqs)\n",
    "    omega_star_np = np.array([omega_star])\n",
    "    k_star = GP_hilbert.mat_K(omega_vec, omega_star_np, ker_opts, 'im').flatten() + (sigma_L**2)*omega_vec*omega_star_np\n",
    "    k_star_star = GP_hilbert.mat_K(omega_star_np, omega_star_np, ker_opts, 'im').flatten() + (sigma_L**2)*omega_star_np**2\n",
    "    mu_star_vec[index] = k_star@(inv_K_full@Z_exp.imag)\n",
    "    sigma_star_vec[index] = np.sqrt(abs(k_star_star - k_star@(inv_K_full@k_star)))\n",
    "\n",
    "mu_star_vec = mu_star_vec\n",
    "sigma_star_vec = sigma_star_vec"
   ]
  },
  {
   "cell_type": "markdown",
   "metadata": {},
   "source": [
    "##### 2.4.2.2) Plot the outcome of the GP regression"
   ]
  },
  {
   "cell_type": "code",
   "execution_count": 14,
   "metadata": {},
   "outputs": [
    {
     "data": {
      "image/png": "[encoded data removed]",
      "text/plain": [
       "<Figure size 432x288 with 1 Axes>"
      ]
     },
     "metadata": {
      "needs_background": "light"
     },
     "output_type": "display_data"
    }
   ],
   "source": [
    "plt.fill_between(freq_star_vec, -mu_star_vec-3*sigma_star_vec, -mu_star_vec+3*sigma_star_vec,  facecolor='lightgrey')\n",
    "plt.fill_between(freq_star_vec, -mu_star_vec-2*sigma_star_vec, -mu_star_vec+2*sigma_star_vec,  facecolor='silver')\n",
    "plt.fill_between(freq_star_vec, -mu_star_vec-sigma_star_vec, -mu_star_vec+sigma_star_vec,  facecolor='grey')\n",
    "plt.semilogx(freq_star_vec, -mu_star_vec, linewidth=4, color='black', label='GP-HT')\n",
    "plt.semilogx(freq_vec,  -Z_exp.imag, 'o', markersize=5, color='red', label='exp')\n",
    "plt.xlim(1E-4, 1E4)\n",
    "plt.xscale('log')\n",
    "plt.xlabel(r'$f/{\\rm Hz}$', fontsize=20)\n",
    "plt.ylabel(r'$-Z_{\\rm im}/\\Omega$', fontsize=20)\n",
    "plt.legend(frameon=False, fontsize = 15)\n",
    "plt.show()"
   ]
  },
  {
   "cell_type": "markdown",
   "metadata": {},
   "source": [
    "## 3) Compute and plot the GP-HT "
   ]
  },
  {
   "cell_type": "markdown",
   "metadata": {},
   "source": [
    "### 3.1) Compute"
   ]
  },
  {
   "cell_type": "code",
   "execution_count": 15,
   "metadata": {},
   "outputs": [],
   "source": [
    "K_im = GP_hilbert.mat_K(omega_vec, omega_vec, ker_opts, 'im')\n",
    "Sigma = (sigma_n**2)*np.eye(N_freqs)\n",
    "K_full = K_im + Sigma + (sigma_L**2)*np.outer(omega_vec, omega_vec)\n",
    "\n",
    "# cholesky factorization\n",
    "if not GP_hilbert.is_PD(K_full):\n",
    "    K_full = GP_hilbert.nearest_PD(K_full)\n",
    "    \n",
    "L = np.linalg.cholesky(K_full)\n",
    "\n",
    "# covariance matrix\n",
    "inv_L = np.linalg.inv(L)\n",
    "inv_K_full = np.dot(inv_L.T, inv_L)\n",
    "\n",
    "# omega star is overwritten\n",
    "mu_star_vec = np.zeros_like(omega_star_vec)\n",
    "sigma_star_vec = np.zeros_like(omega_star_vec)\n",
    "\n",
    "\n",
    "for index, omega_star in enumerate(omega_star_vec):\n",
    "    omega_star_np = np.array([omega_star])\n",
    "    k_star = GP_hilbert.mat_K(omega_vec, omega_star_np, ker_opts, 'im-re').flatten()\n",
    "    k_star_star = GP_hilbert.mat_K(omega_star_np, omega_star_np, ker_opts, 're').flatten()\n",
    "    mu_star_vec[index] = k_star@(inv_K_full@Z_exp.imag)\n",
    "    sigma_star_vec[index] = np.sqrt(sigma_n**2 + k_star_star - k_star@(inv_K_full@k_star))\n"
   ]
  },
  {
   "cell_type": "markdown",
   "metadata": {},
   "source": [
    "### 3.2) Plot GP-HT prediction vs. experimental data"
   ]
  },
  {
   "cell_type": "code",
   "execution_count": 16,
   "metadata": {
    "scrolled": true
   },
   "outputs": [
    {
     "data": {
      "image/png": "[encoded data removed]",
      "text/plain": [
       "<Figure size 432x288 with 1 Axes>"
      ]
     },
     "metadata": {
      "needs_background": "light"
     },
     "output_type": "display_data"
    }
   ],
   "source": [
    "mu_R_inf = np.mean(Z_exp.real-mu_star_vec)\n",
    "diff_re = mu_R_inf + mu_star_vec - Z_exp.real\n",
    "\n",
    "plt.fill_between(freq_star_vec, mu_R_inf+mu_star_vec-3*sigma_star_vec, mu_R_inf+mu_star_vec+3*sigma_star_vec,  facecolor='lightgrey')\n",
    "plt.fill_between(freq_star_vec, mu_R_inf+mu_star_vec-2*sigma_star_vec, mu_R_inf+mu_star_vec+2*sigma_star_vec,  facecolor='silver')\n",
    "plt.fill_between(freq_star_vec, mu_R_inf+mu_star_vec-sigma_star_vec, mu_R_inf+mu_star_vec+sigma_star_vec,  facecolor='grey')\n",
    "plt.semilogx(freq_star_vec, mu_R_inf+mu_star_vec, linewidth=4, color='black', label='GP-HT')\n",
    "plt.semilogx(freq_vec,  Z_exp.real, 'o', markersize=5, color='red', label='exp')\n",
    "plt.xlabel(r'$f/{\\rm Hz}$', fontsize=20)\n",
    "plt.ylabel(r'$Z_{\\rm re}/\\Omega$', fontsize = 20)\n",
    "\n",
    "plt.xlim(1E-4, 1E4)\n",
    "plt.xscale('log')\n",
    "plt.legend(frameon=False, fontsize = 15)\n",
    "\n",
    "plt.show()"
   ]
  },
  {
   "cell_type": "markdown",
   "metadata": {},
   "source": [
    "### 3.3) Show the residuals"
   ]
  },
  {
   "cell_type": "code",
   "execution_count": 17,
   "metadata": {},
   "outputs": [
    {
     "name": "stderr",
     "output_type": "stream",
     "text": [
      "C:\\Users\\mefrank\\Anaconda3\\lib\\site-packages\\seaborn\\distributions.py:1689: FutureWarning: The `vertical` parameter is deprecated and will be removed in a future version. Assign the data to the `y` variable instead.\n",
      "  warnings.warn(msg, FutureWarning)\n",
      "C:\\Users\\mefrank\\Anaconda3\\lib\\site-packages\\seaborn\\distributions.py:2112: FutureWarning: Using `vertical=True` to control the orientation of the plot  is deprecated. Instead, assign the data directly to `y`. \n",
      "  warnings.warn(msg, FutureWarning)\n"
     ]
    },
    {
     "data": {
      "image/png": "[encoded data removed]",
      "text/plain": [
       "<Figure size 864x302.4 with 2 Axes>"
      ]
     },
     "metadata": {
      "needs_background": "light"
     },
     "output_type": "display_data"
    }
   ],
   "source": [
    "#  Combine the scatter plot with the density distribution\n",
    "fig = plt.figure(figsize=(12,4.2), constrained_layout=False)\n",
    "gs1 = fig.add_gridspec(nrows=1, ncols=4, left=0.05, right=0.48, wspace=0.5)\n",
    "ax1 = fig.add_subplot(gs1[0, :-1])\n",
    "ax2 = fig.add_subplot(gs1[0, -1])\n",
    "ax1.fill_between(freq_vec, -3*sigma_star_vec, 3*sigma_star_vec,  facecolor='lightgrey')\n",
    "ax1.fill_between(freq_vec, -2*sigma_star_vec, 2*sigma_star_vec,  facecolor='silver')\n",
    "ax1.fill_between(freq_vec, -sigma_star_vec, sigma_star_vec,  facecolor='grey')\n",
    "ax1.plot(freq_vec, diff_re, 'o', markersize=5, color='red')\n",
    "ax1.set_xlim(1E-4, 1E4)\n",
    "ax1.set_ylim(-5, 5)\n",
    "ax1.set_xscale('log')\n",
    "ax1.set_xlabel(r'$f/{\\rm Hz}$', fontsize=20)\n",
    "ax1.set_ylabel(r'$\\left(R_\\infty + Z_{\\rm H, re} - Z_{\\rm exp, re}\\right)/\\Omega$', fontsize=20)\n",
    "\n",
    "# density distribution plot\n",
    "sns.kdeplot(diff_re, ax=ax2, shade=True, color='grey', vertical=True)\n",
    "sns.rugplot(diff_re, ax=ax2, color='black', vertical=True)\n",
    "ax2.set_xlim(0, 0.5)\n",
    "ax2.set_xticks(np.arange(0., 0.51, 0.25))\n",
    "ax2.set_yticklabels([])\n",
    "ax2.set_ylim(-5, 5)\n",
    "ax2.set_xlabel(r'pdf',fontsize=20)\n",
    "\n",
    "plt.show()"
   ]
  }
 ],
 "metadata": {
  "kernelspec": {
   "display_name": "Python 3 (ipykernel)",
   "language": "python",
   "name": "python3"
  },
  "language_info": {
   "codemirror_mode": {
    "name": "ipython",
    "version": 3
   },
   "file_extension": ".py",
   "mimetype": "text/x-python",
   "name": "python",
   "nbconvert_exporter": "python",
   "pygments_lexer": "ipython3",
   "version": "3.8.12"
  }
 },
 "nbformat": 4,
 "nbformat_minor": 4
}
