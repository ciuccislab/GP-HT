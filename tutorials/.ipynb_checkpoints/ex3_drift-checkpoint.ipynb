{
 "cells": [
  {
   "cell_type": "markdown",
   "metadata": {},
   "source": [
    "# Computing the GP-DRT"
   ]
  },
  {
   "cell_type": "markdown",
   "metadata": {},
   "source": [
    "In this example we are going to use a simple model to illustrate how the GP-DRT can detect EIS data inconsistencies. We are going to use the "
   ]
  },
  {
   "cell_type": "code",
   "execution_count": 1,
   "metadata": {},
   "outputs": [],
   "source": [
    "# import the libraries needed\n",
    "import importlib\n",
    "import GP_hilbert\n",
    "importlib.reload(GP_hilbert)\n",
    "\n",
    "import numpy as np\n",
    "import matplotlib.pyplot as plt\n",
    "from math import pi, log10, sqrt\n",
    "from scipy.optimize import minimize\n",
    "import seaborn as sns"
   ]
  },
  {
   "cell_type": "code",
   "execution_count": 2,
   "metadata": {},
   "outputs": [],
   "source": [
    "# plot standards\n",
    "plt.rc('font', family='serif', size=15)\n",
    "plt.rc('text', usetex=True)\n",
    "plt.rc('xtick', labelsize=15)\n",
    "plt.rc('ytick', labelsize=15)"
   ]
  },
  {
   "cell_type": "markdown",
   "metadata": {},
   "source": [
    "## 1) Define the synthetic impedance experiment $Z_{\\rm exp}(\\omega)$"
   ]
  },
  {
   "cell_type": "markdown",
   "metadata": {},
   "source": [
    "### 1.1) Define frequency range"
   ]
  },
  {
   "cell_type": "code",
   "execution_count": 3,
   "metadata": {},
   "outputs": [],
   "source": [
    "N_freqs = 33\n",
    "freq_min = 10**-3\n",
    "freq_max = 10\n",
    "freq_vec = np.logspace(log10(freq_min), log10(freq_max), num=N_freqs, endpoint=True)\n",
    "tau_vec = np.logspace(-log10(freq_max), -log10(freq_min), num=N_freqs, endpoint=True)\n",
    "omega_vec = 2.*pi*freq_vec"
   ]
  },
  {
   "cell_type": "markdown",
   "metadata": {},
   "source": [
    "### 1.2) Define the circuit parameters"
   ]
  },
  {
   "cell_type": "code",
   "execution_count": 4,
   "metadata": {},
   "outputs": [],
   "source": [
    "# from the conference article of Murer & coworkers\n",
    "# DOI: http://dx.doi.org/10.5599/jese.725\n",
    "R_omega = 50\n",
    "R_p_0 = 500\n",
    "C_dl = 2e-2\n",
    "\n",
    "# increasing R_p\n",
    "k_incr = 5e-6\n",
    "time_vec = np.flip(np.cumsum(1./np.flip(freq_vec)))\n",
    "R_p = R_p_0 + k_incr*time_vec**2"
   ]
  },
  {
   "cell_type": "markdown",
   "metadata": {},
   "source": [
    "### 1.3) Generate exact impedance $Z_{\\rm exact}(\\omega)$ "
   ]
  },
  {
   "cell_type": "code",
   "execution_count": 5,
   "metadata": {},
   "outputs": [],
   "source": [
    "# reference (no drift)\n",
    "Z_ref = R_omega + R_p_0/(1+1j*omega_vec*C_dl*R_p_0)\n",
    "\n",
    "# exact (with drift)\n",
    "Z_exact = R_omega + R_p/(1+1j*omega_vec*C_dl*R_p)\n",
    "\n",
    "# external inductance\n",
    "L_0 = 0 # F"
   ]
  },
  {
   "cell_type": "markdown",
   "metadata": {},
   "source": [
    "### 1.4) Generate stochastic experiment with $Z_{\\rm exp}(\\omega) = Z_{\\rm exact}(\\omega)+ \\sigma_n (\\varepsilon_{\\rm re} + i\\varepsilon_{\\rm im})$ with $\\varepsilon_{\\rm re}$ and $\\varepsilon_{\\rm im}$ are independent and identically distributed normals centered with 0 mean and standard deviation equal to 1"
   ]
  },
  {
   "cell_type": "code",
   "execution_count": 6,
   "metadata": {},
   "outputs": [],
   "source": [
    "rng = np.random.seed(2421975) # seed the random number generator\n",
    "sigma_n_exp = 0.8\n",
    "Z_exp = Z_exact + (sigma_n_exp)*(np.random.normal(0, 1, N_freqs)+1j*np.random.normal(0, 1, N_freqs))"
   ]
  },
  {
   "cell_type": "markdown",
   "metadata": {},
   "source": [
    "### 1.5) Plot"
   ]
  },
  {
   "cell_type": "code",
   "execution_count": 7,
   "metadata": {},
   "outputs": [
    {
     "data": {
      "image/png": "[encoded data removed]",
      "text/plain": [
       "<Figure size 432x288 with 1 Axes>"
      ]
     },
     "metadata": {
      "needs_background": "light"
     },
     "output_type": "display_data"
    }
   ],
   "source": [
    "fig, ax = plt.subplots()\n",
    "\n",
    "# data\n",
    "plt.plot(np.real(Z_exact), -np.imag(Z_exact), linewidth=4, color='black', label='exact')\n",
    "plt.plot(np.real(Z_exp), -np.imag(Z_exp), 'o', markersize=5, color='red', label='synth exp')\n",
    "plt.plot(np.real(Z_ref), -np.imag(Z_ref), ':', linewidth=4, color='black', label='reference')\n",
    "\n",
    "# marked freqs\n",
    "plt.plot(np.real(Z_exp[0:25:8]), -np.imag(Z_exp[0:25:8]), 'p', markersize=7, color='black')\n",
    "\n",
    "plt.xlabel(r'$Z_{\\rm re}/\\Omega$', fontsize = 20)\n",
    "plt.ylabel(r'$-Z_{\\rm im}/\\Omega$', fontsize = 20)\n",
    "plt.annotate(r'$10^{-3}$ Hz', xy=(np.real(Z_exp[0]), -np.imag(Z_exp[0])), \n",
    "             xytext=(np.real(Z_exp[0])-180, -30-np.imag(Z_exp[0])), \n",
    "             arrowprops=dict(arrowstyle='-', connectionstyle='arc'))\n",
    "plt.annotate(r'$10^{-2}$ Hz', xy=(np.real(Z_exp[8]), -np.imag(Z_exp[8])), \n",
    "             xytext=(np.real(Z_exp[8])+30, 30-np.imag(Z_exp[8])), \n",
    "             arrowprops=dict(arrowstyle='-', connectionstyle='arc'))\n",
    "plt.annotate(r'$10^{-1}$ Hz', xy=(np.real(Z_exp[16]), -np.imag(Z_exp[16])), \n",
    "             xytext=(np.real(Z_exp[16])+40, 10-np.imag(Z_exp[16])), \n",
    "             arrowprops=dict(arrowstyle='-', connectionstyle='arc'))\n",
    "plt.annotate(r'$1$ Hz', xy=(np.real(Z_exp[24]), -np.imag(Z_exp[24])),\n",
    "             xytext=(np.real(Z_exp[24])+40, 10-np.imag(Z_exp[24])), \n",
    "             arrowprops=dict(arrowstyle='-', connectionstyle='arc'))\n",
    "\n",
    "plt.legend(frameon=False, fontsize=15, loc='upper left')\n",
    "plt.gca().set_aspect('equal', adjustable='box')\n",
    "plt.axis('scaled')\n",
    "\n",
    "plt.xticks(range(0, 701, 100))\n",
    "plt.yticks(range(0, 401, 100))\n",
    "\n",
    "plt.xlim(0, 700)\n",
    "plt.ylim(0, 400)\n",
    "\n",
    "plt.xlabel(r'$Z_{\\rm re}/\\Omega$', fontsize = 20)\n",
    "plt.ylabel(r'$-Z_{\\rm im}/\\Omega$', fontsize = 20)\n",
    "plt.show()"
   ]
  },
  {
   "cell_type": "markdown",
   "metadata": {},
   "source": [
    "## 2) Optimize the hyperparameters "
   ]
  },
  {
   "cell_type": "markdown",
   "metadata": {},
   "source": [
    "### 2.1) Set the kernel options "
   ]
  },
  {
   "cell_type": "code",
   "execution_count": 8,
   "metadata": {},
   "outputs": [],
   "source": [
    "ker_opts = {\n",
    "    'sigma_DRT': 100.,\n",
    "    'sigma_SB': 0.5,\n",
    "    'ell': 15.,\n",
    "    'tau_max': 1E2,\n",
    "    'DRT': True,\n",
    "    'SB': True,\n",
    "    'SB_ker_type': 'IQ'\n",
    "}\n",
    "\n",
    "# these values are nominal"
   ]
  },
  {
   "cell_type": "markdown",
   "metadata": {},
   "source": [
    "### 2.2) Initialize the hyperparameters"
   ]
  },
  {
   "cell_type": "code",
   "execution_count": 9,
   "metadata": {},
   "outputs": [],
   "source": [
    "sigma_n = 2.\n",
    "sigma_DRT = 100.\n",
    "sigma_SB = 0.5\n",
    "ell = 15\n",
    "sigma_L = 1E-10"
   ]
  },
  {
   "cell_type": "markdown",
   "metadata": {},
   "source": [
    "\n",
    "### 2.3) Maximize the NMLL"
   ]
  },
  {
   "cell_type": "code",
   "execution_count": 10,
   "metadata": {},
   "outputs": [
    {
     "name": "stdout",
     "output_type": "stream",
     "text": [
      "8.7057E-01, 6.1721E+01, 3.2021E-10, 1.7618E+01, -1.647725E-08; evidence = 5.16141232E+01\n",
      "8.8595E-01, 6.1379E+01, -1.5484E-08, 2.0235E+01, -1.658208E-08; evidence = 5.16079051E+01\n",
      "8.8640E-01, 6.1374E+01, -4.4240E-08, 2.2929E+01, -1.664451E-08; evidence = 5.16079003E+01\n",
      "Optimization terminated successfully.\n",
      "         Current function value: 51.607900\n",
      "         Iterations: 3\n",
      "         Function evaluations: 324\n",
      "8.8640E-01, 6.1374E+01, -4.4240E-08, 2.2929E+01, -1.664451E-08; evidence = 5.16079003E+01\n",
      "8.8640E-01, 6.1374E+01, -4.4240E-08, 2.2929E+01, -1.664451E-08; evidence = 5.16079003E+01\n",
      "8.8640E-01, 6.1374E+01, -4.4240E-08, 2.2929E+01, -1.664451E-08; evidence = 5.16079003E+01\n",
      "8.8640E-01, 6.1374E+01, -4.4240E-08, 2.2929E+01, -1.664451E-08; evidence = 5.16079003E+01\n",
      "8.8640E-01, 6.1374E+01, -4.4240E-08, 2.2929E+01, -1.664451E-08; evidence = 5.16079003E+01\n",
      "8.8640E-01, 6.1374E+01, -4.4240E-08, 2.2929E+01, -1.664451E-08; evidence = 5.16079003E+01\n",
      "8.8640E-01, 6.1374E+01, -4.4240E-08, 2.2929E+01, -1.664451E-08; evidence = 5.16079003E+01\n",
      "8.8640E-01, 6.1374E+01, -4.4240E-08, 2.2929E+01, -1.664451E-08; evidence = 5.16079003E+01\n",
      "8.8640E-01, 6.1374E+01, -4.4240E-08, 2.2929E+01, -1.664451E-08; evidence = 5.16079003E+01\n",
      "8.8640E-01, 6.1374E+01, -4.4240E-08, 2.2929E+01, -1.664451E-08; evidence = 5.16079003E+01\n",
      "8.8640E-01, 6.1374E+01, -4.4240E-08, 2.2929E+01, -1.664451E-08; evidence = 5.16079003E+01\n",
      "8.8640E-01, 6.1374E+01, -4.4240E-08, 2.2929E+01, -1.664451E-08; evidence = 5.16079003E+01\n",
      "8.8640E-01, 6.1374E+01, -4.4240E-08, 2.2929E+01, -1.664451E-08; evidence = 5.16079003E+01\n",
      "8.8640E-01, 6.1374E+01, -4.4240E-08, 2.2929E+01, -1.664451E-08; evidence = 5.16079003E+01\n",
      "8.8640E-01, 6.1374E+01, -4.4240E-08, 2.2929E+01, -1.664451E-08; evidence = 5.16079003E+01\n",
      "8.8640E-01, 6.1374E+01, -4.4240E-08, 2.2929E+01, -1.664451E-08; evidence = 5.16079003E+01\n",
      "8.8640E-01, 6.1374E+01, -4.4240E-08, 2.2929E+01, -1.664451E-08; evidence = 5.16079003E+01\n",
      "8.8640E-01, 6.1374E+01, -4.4240E-08, 2.2929E+01, -1.664451E-08; evidence = 5.16079003E+01\n",
      "8.8640E-01, 6.1374E+01, -4.4240E-08, 2.2929E+01, -1.664451E-08; evidence = 5.16079003E+01\n",
      "8.8640E-01, 6.1374E+01, -4.4240E-08, 2.2929E+01, -1.664451E-08; evidence = 5.16079003E+01\n",
      "8.8640E-01, 6.1374E+01, -4.4240E-08, 2.2929E+01, -1.664451E-08; evidence = 5.16079003E+01\n",
      "8.8640E-01, 6.1374E+01, -4.4240E-08, 2.2929E+01, -1.664451E-08; evidence = 5.16079003E+01\n",
      "8.8640E-01, 6.1374E+01, -4.4240E-08, 2.2929E+01, -1.664451E-08; evidence = 5.16079003E+01\n",
      "8.8640E-01, 6.1374E+01, -4.4240E-08, 2.2929E+01, -1.664451E-08; evidence = 5.16079003E+01\n",
      "8.8640E-01, 6.1374E+01, -4.4240E-08, 2.2929E+01, -1.664451E-08; evidence = 5.16079003E+01\n",
      "8.8640E-01, 6.1374E+01, -4.4240E-08, 2.2929E+01, -1.664451E-08; evidence = 5.16079003E+01\n",
      "8.8640E-01, 6.1374E+01, -4.4240E-08, 2.2929E+01, -1.664451E-08; evidence = 5.16079003E+01\n",
      "8.8640E-01, 6.1374E+01, -4.4240E-08, 2.2929E+01, -1.664451E-08; evidence = 5.16079003E+01\n",
      "8.8640E-01, 6.1374E+01, -4.4240E-08, 2.2929E+01, -1.664451E-08; evidence = 5.16079003E+01\n",
      "8.8640E-01, 6.1374E+01, -4.4793E-08, 2.3216E+01, -1.685256E-08; evidence = 5.16079003E+01\n",
      "8.8640E-01, 6.1374E+01, -4.4793E-08, 2.3216E+01, -1.685256E-08; evidence = 5.16079003E+01\n",
      "8.8640E-01, 6.1374E+01, -4.4793E-08, 2.3216E+01, -1.685256E-08; evidence = 5.16079003E+01\n",
      "8.8640E-01, 6.1374E+01, -4.6430E-08, 2.1083E+01, -1.716881E-08; evidence = 5.16079003E+01\n",
      "8.8640E-01, 6.1374E+01, -4.6430E-08, 2.1083E+01, -1.716881E-08; evidence = 5.16079003E+01\n",
      "8.8640E-01, 6.1374E+01, -4.6430E-08, 2.1083E+01, -1.716881E-08; evidence = 5.16079003E+01\n",
      "8.8640E-01, 6.1374E+01, -4.6430E-08, 2.1083E+01, -1.716881E-08; evidence = 5.16079003E+01\n",
      "8.8640E-01, 6.1374E+01, -4.6430E-08, 2.1083E+01, -1.716881E-08; evidence = 5.16079003E+01\n",
      "8.8640E-01, 6.1374E+01, -4.6430E-08, 2.1083E+01, -1.716881E-08; evidence = 5.16079003E+01\n",
      "8.8640E-01, 6.1374E+01, -4.6430E-08, 2.1083E+01, -1.716881E-08; evidence = 5.16079003E+01\n",
      "8.8640E-01, 6.1374E+01, -4.6430E-08, 2.1083E+01, -1.716881E-08; evidence = 5.16079003E+01\n",
      "8.8640E-01, 6.1374E+01, -4.6430E-08, 2.1083E+01, -1.716881E-08; evidence = 5.16079003E+01\n",
      "8.8640E-01, 6.1374E+01, -4.6430E-08, 2.1083E+01, -1.716881E-08; evidence = 5.16079003E+01\n",
      "8.8640E-01, 6.1374E+01, -4.6430E-08, 2.1083E+01, -1.716881E-08; evidence = 5.16079003E+01\n",
      "8.8640E-01, 6.1374E+01, -4.6430E-08, 2.1083E+01, -1.716881E-08; evidence = 5.16079003E+01\n",
      "8.8640E-01, 6.1374E+01, -4.6430E-08, 2.1083E+01, -1.716881E-08; evidence = 5.16079003E+01\n",
      "8.8640E-01, 6.1374E+01, -4.6430E-08, 2.1083E+01, -1.716881E-08; evidence = 5.16079003E+01\n",
      "8.8640E-01, 6.1374E+01, -4.6430E-08, 2.1083E+01, -1.716881E-08; evidence = 5.16079003E+01\n",
      "8.8640E-01, 6.1374E+01, -4.6430E-08, 2.1083E+01, -1.716881E-08; evidence = 5.16079003E+01\n",
      "8.8640E-01, 6.1374E+01, -4.6430E-08, 2.1083E+01, -1.716881E-08; evidence = 5.16079003E+01\n",
      "8.8640E-01, 6.1374E+01, -4.6430E-08, 2.1083E+01, -1.716881E-08; evidence = 5.16079003E+01\n",
      "8.8640E-01, 6.1374E+01, -4.6430E-08, 2.1083E+01, -1.716881E-08; evidence = 5.16079003E+01\n",
      "8.8640E-01, 6.1374E+01, -4.6430E-08, 2.1083E+01, -1.716881E-08; evidence = 5.16079003E+01\n",
      "8.8640E-01, 6.1374E+01, -4.6430E-08, 2.1083E+01, -1.716881E-08; evidence = 5.16079003E+01\n",
      "8.8640E-01, 6.1374E+01, -4.6430E-08, 2.1083E+01, -1.716881E-08; evidence = 5.16079003E+01\n",
      "8.8640E-01, 6.1374E+01, -4.6430E-08, 2.1083E+01, -1.716881E-08; evidence = 5.16079003E+01\n",
      "8.8640E-01, 6.1374E+01, -4.6430E-08, 2.1083E+01, -1.716881E-08; evidence = 5.16079003E+01\n",
      "8.8640E-01, 6.1374E+01, -4.6430E-08, 2.1083E+01, -1.716881E-08; evidence = 5.16079003E+01\n",
      "8.8640E-01, 6.1374E+01, -4.6430E-08, 2.1083E+01, -1.716881E-08; evidence = 5.16079003E+01\n",
      "8.8640E-01, 6.1374E+01, -4.6430E-08, 2.1083E+01, -1.716881E-08; evidence = 5.16079003E+01\n",
      "8.8640E-01, 6.1374E+01, -4.6430E-08, 2.1083E+01, -1.716881E-08; evidence = 5.16079003E+01\n",
      "8.8640E-01, 6.1374E+01, -4.6430E-08, 2.1083E+01, -1.716881E-08; evidence = 5.16079003E+01\n",
      "8.8640E-01, 6.1374E+01, -4.6430E-08, 2.1083E+01, -1.716881E-08; evidence = 5.16079003E+01\n",
      "8.8640E-01, 6.1374E+01, -4.6430E-08, 2.1083E+01, -1.716881E-08; evidence = 5.16079003E+01\n",
      "8.8640E-01, 6.1374E+01, -4.6430E-08, 2.1083E+01, -1.716881E-08; evidence = 5.16079003E+01\n",
      "8.8640E-01, 6.1374E+01, -4.6430E-08, 2.1083E+01, -1.716881E-08; evidence = 5.16079003E+01\n",
      "8.8640E-01, 6.1374E+01, -4.6430E-08, 2.1083E+01, -1.716881E-08; evidence = 5.16079003E+01\n",
      "8.8640E-01, 6.1374E+01, -4.6430E-08, 2.1083E+01, -1.716881E-08; evidence = 5.16079003E+01\n",
      "8.8640E-01, 6.1374E+01, -4.6430E-08, 2.1083E+01, -1.716881E-08; evidence = 5.16079003E+01\n",
      "8.8640E-01, 6.1374E+01, -4.6430E-08, 2.1083E+01, -1.716881E-08; evidence = 5.16079003E+01\n",
      "8.8640E-01, 6.1374E+01, -4.6430E-08, 2.1083E+01, -1.716881E-08; evidence = 5.16079003E+01\n",
      "8.8640E-01, 6.1374E+01, -4.6430E-08, 2.1083E+01, -1.716881E-08; evidence = 5.16079003E+01\n",
      "8.8640E-01, 6.1374E+01, -4.6430E-08, 2.1083E+01, -1.716881E-08; evidence = 5.16079003E+01\n",
      "8.8640E-01, 6.1374E+01, -4.6430E-08, 2.1083E+01, -1.716881E-08; evidence = 5.16079003E+01\n",
      "8.8640E-01, 6.1374E+01, -4.6430E-08, 2.1083E+01, -1.716881E-08; evidence = 5.16079003E+01\n",
      "8.8640E-01, 6.1374E+01, -4.6430E-08, 2.1083E+01, -1.716881E-08; evidence = 5.16079003E+01\n",
      "8.8640E-01, 6.1374E+01, -4.6430E-08, 2.1083E+01, -1.716881E-08; evidence = 5.16079003E+01\n",
      "8.8640E-01, 6.1374E+01, -4.6430E-08, 2.1083E+01, -1.716881E-08; evidence = 5.16079003E+01\n",
      "8.8640E-01, 6.1374E+01, -4.6430E-08, 2.1083E+01, -1.716881E-08; evidence = 5.16079003E+01\n",
      "8.8640E-01, 6.1374E+01, -4.6430E-08, 2.1083E+01, -1.716881E-08; evidence = 5.16079003E+01\n",
      "8.8640E-01, 6.1374E+01, -4.6430E-08, 2.1083E+01, -1.716881E-08; evidence = 5.16079003E+01\n",
      "8.8640E-01, 6.1374E+01, -4.6430E-08, 2.1083E+01, -1.716881E-08; evidence = 5.16079003E+01\n",
      "8.8640E-01, 6.1374E+01, -4.6430E-08, 2.1083E+01, -1.716881E-08; evidence = 5.16079003E+01\n",
      "8.8640E-01, 6.1374E+01, -4.6430E-08, 2.1083E+01, -1.716881E-08; evidence = 5.16079003E+01\n",
      "8.8640E-01, 6.1374E+01, -4.6430E-08, 2.1083E+01, -1.716881E-08; evidence = 5.16079003E+01\n",
      "8.8640E-01, 6.1374E+01, -4.6430E-08, 2.1083E+01, -1.716881E-08; evidence = 5.16079003E+01\n",
      "8.8640E-01, 6.1374E+01, -4.6430E-08, 2.1083E+01, -1.716881E-08; evidence = 5.16079003E+01\n",
      "8.8640E-01, 6.1374E+01, -4.6430E-08, 2.1083E+01, -1.716886E-08; evidence = 5.16079003E+01\n",
      "8.8640E-01, 6.1374E+01, -4.6430E-08, 2.1083E+01, -1.716886E-08; evidence = 5.16079003E+01\n",
      "8.8640E-01, 6.1374E+01, -4.6430E-08, 2.1083E+01, -1.716886E-08; evidence = 5.16079003E+01\n",
      "8.8640E-01, 6.1374E+01, -4.6430E-08, 2.1083E+01, -1.716886E-08; evidence = 5.16079003E+01\n",
      "8.8640E-01, 6.1374E+01, -4.6430E-08, 2.1083E+01, -1.716886E-08; evidence = 5.16079003E+01\n"
     ]
    },
    {
     "name": "stdout",
     "output_type": "stream",
     "text": [
      "8.8640E-01, 6.1374E+01, -4.6430E-08, 2.1083E+01, -1.716886E-08; evidence = 5.16079003E+01\n",
      "8.8640E-01, 6.1374E+01, -4.6430E-08, 2.1083E+01, -1.716886E-08; evidence = 5.16079003E+01\n",
      "8.8640E-01, 6.1374E+01, -4.6430E-08, 2.1083E+01, -1.716886E-08; evidence = 5.16079003E+01\n",
      "8.8640E-01, 6.1374E+01, -4.6430E-08, 2.1083E+01, -1.716886E-08; evidence = 5.16079003E+01\n",
      "8.8640E-01, 6.1374E+01, -4.6430E-08, 2.1083E+01, -1.716886E-08; evidence = 5.16079003E+01\n",
      "8.8640E-01, 6.1374E+01, -4.6430E-08, 2.1083E+01, -1.716886E-08; evidence = 5.16079003E+01\n",
      "8.8640E-01, 6.1374E+01, -4.6430E-08, 2.1083E+01, -1.716886E-08; evidence = 5.16079003E+01\n",
      "8.8640E-01, 6.1374E+01, -4.6430E-08, 2.1083E+01, -1.716886E-08; evidence = 5.16079003E+01\n",
      "8.8640E-01, 6.1374E+01, -4.6430E-08, 2.1083E+01, -1.716886E-08; evidence = 5.16079003E+01\n",
      "8.8640E-01, 6.1374E+01, -4.6430E-08, 2.1083E+01, -1.716886E-08; evidence = 5.16079003E+01\n",
      "8.8640E-01, 6.1374E+01, -4.6430E-08, 2.1083E+01, -1.716886E-08; evidence = 5.16079003E+01\n",
      "8.8640E-01, 6.1374E+01, -4.6430E-08, 2.1083E+01, -1.716886E-08; evidence = 5.16079003E+01\n",
      "8.8640E-01, 6.1374E+01, -4.6430E-08, 2.1083E+01, -1.716886E-08; evidence = 5.16079003E+01\n",
      "8.8640E-01, 6.1374E+01, -4.6430E-08, 2.1083E+01, -1.716886E-08; evidence = 5.16079003E+01\n",
      "8.8640E-01, 6.1374E+01, -4.6430E-08, 2.1083E+01, -1.716886E-08; evidence = 5.16079003E+01\n",
      "8.8640E-01, 6.1374E+01, -4.6430E-08, 2.1083E+01, -1.716886E-08; evidence = 5.16079003E+01\n",
      "8.8640E-01, 6.1374E+01, -4.6430E-08, 2.1083E+01, -1.716886E-08; evidence = 5.16079003E+01\n",
      "8.8640E-01, 6.1374E+01, -4.6430E-08, 2.1083E+01, -1.716886E-08; evidence = 5.16079003E+01\n",
      "8.8640E-01, 6.1374E+01, -4.6430E-08, 2.1083E+01, -1.716886E-08; evidence = 5.16079003E+01\n",
      "8.8640E-01, 6.1374E+01, -4.6430E-08, 2.1083E+01, -1.716886E-08; evidence = 5.16079003E+01\n",
      "8.8640E-01, 6.1374E+01, -4.6430E-08, 2.1083E+01, -1.716886E-08; evidence = 5.16079003E+01\n",
      "8.8640E-01, 6.1374E+01, -4.6430E-08, 2.1083E+01, -1.716886E-08; evidence = 5.16079003E+01\n",
      "8.8640E-01, 6.1374E+01, -4.6430E-08, 2.1083E+01, -1.716886E-08; evidence = 5.16079003E+01\n",
      "8.8640E-01, 6.1374E+01, -4.6430E-08, 2.1083E+01, -1.716886E-08; evidence = 5.16079003E+01\n",
      "8.8640E-01, 6.1374E+01, -4.6430E-08, 2.1083E+01, -1.716886E-08; evidence = 5.16079003E+01\n",
      "8.8640E-01, 6.1374E+01, -4.6430E-08, 2.1083E+01, -1.716886E-08; evidence = 5.16079003E+01\n",
      "8.8640E-01, 6.1374E+01, -4.6430E-08, 2.1083E+01, -1.716886E-08; evidence = 5.16079003E+01\n",
      "8.8640E-01, 6.1374E+01, -4.6430E-08, 2.1083E+01, -1.716886E-08; evidence = 5.16079003E+01\n",
      "8.8640E-01, 6.1374E+01, -4.6430E-08, 2.1083E+01, -1.716886E-08; evidence = 5.16079003E+01\n",
      "8.8640E-01, 6.1374E+01, -4.6430E-08, 2.1083E+01, -1.716886E-08; evidence = 5.16079003E+01\n",
      "Optimization terminated successfully.\n",
      "         Current function value: 51.607900\n",
      "         Iterations: 122\n",
      "         Function evaluations: 296\n"
     ]
    }
   ],
   "source": [
    "theta_0 = np.array([sigma_n, sigma_DRT, sigma_SB, ell, sigma_L])\n",
    "seq_theta = np.copy(theta_0)\n",
    "def print_results(theta):\n",
    "    global seq_theta\n",
    "    seq_theta = np.vstack((seq_theta, theta))\n",
    "    print('%.4E, %.4E, %.4E, %.4E, %.6E; evidence = %.8E'%(theta[0], theta[1], theta[2], theta[3], theta[4], GP_hilbert.NMLL_fct(theta, Z_exp.imag, omega_vec, ker_opts)))\n",
    "    \n",
    "res = minimize(GP_hilbert.NMLL_fct, theta_0, args=(Z_exp.imag, omega_vec, ker_opts, 'im'), method='Powell', \\\n",
    "               callback=print_results, options={'disp': True, 'xtol': 1E-6, 'ftol': 1E-6})\n",
    "res = minimize(GP_hilbert.NMLL_fct, res.x, args=(Z_exp.imag, omega_vec, ker_opts, 'im'), method='Nelder-Mead', \\\n",
    "               callback=print_results, options={'disp': True, 'xatol': 1E-6, 'fatol': 1E-6})\n",
    "\n",
    "theta = res.x\n",
    "sigma_n, sigma_DRT, sigma_SB, ell, sigma_L = theta"
   ]
  },
  {
   "cell_type": "code",
   "execution_count": 11,
   "metadata": {},
   "outputs": [],
   "source": [
    "# update the values of the kernel\n",
    "# as the GP_hilbert functions simply copy ker_opts\n",
    "ker_opts['sigma_SB'] = sigma_SB\n",
    "ker_opts['ell'] = ell\n",
    "ker_opts['sigma_DRT'] = sigma_DRT"
   ]
  },
  {
   "cell_type": "markdown",
   "metadata": {},
   "source": [
    "### 2.4) Check if the results are reasonable"
   ]
  },
  {
   "cell_type": "markdown",
   "metadata": {},
   "source": [
    "#### 2.4.1) Check $L_0$"
   ]
  },
  {
   "cell_type": "code",
   "execution_count": 12,
   "metadata": {},
   "outputs": [
    {
     "name": "stdout",
     "output_type": "stream",
     "text": [
      "L_0_est = -1.664407E-15 F vs. L_0 = 0.000000E+00 F\n"
     ]
    }
   ],
   "source": [
    "K_im = GP_hilbert.mat_K(omega_vec, omega_vec, ker_opts, 'im')\n",
    "Sigma = (sigma_n**2)*np.eye(N_freqs)\n",
    "K_full = K_im + Sigma + (sigma_L**2)*np.outer(omega_vec, omega_vec)\n",
    "K_full_reg = K_im + Sigma\n",
    "# inverse of K_im\n",
    "L = np.linalg.cholesky(K_full_reg)\n",
    "inv_L = np.linalg.inv(L)\n",
    "inv_K_full_reg = np.dot(inv_L.T, inv_L)\n",
    "\n",
    "num_L_0 = omega_vec@(inv_K_full_reg@Z_exp.imag)\n",
    "den_L_0 = (sigma_L**-2) + omega_vec@(inv_K_full_reg@omega_vec)\n",
    "L_0_est = num_L_0/den_L_0\n",
    "\n",
    "print('L_0_est = %.6E F vs. L_0 = %.6E F'%(L_0_est, L_0))"
   ]
  },
  {
   "cell_type": "markdown",
   "metadata": {},
   "source": [
    "#### 2.4.2) Check the fit of $\\Im(Z_{\\rm exp})$ against the GP"
   ]
  },
  {
   "cell_type": "markdown",
   "metadata": {},
   "source": [
    "##### 2.4.2.1) Run the GP regression"
   ]
  },
  {
   "cell_type": "code",
   "execution_count": 13,
   "metadata": {},
   "outputs": [],
   "source": [
    "# cholesky factorization\n",
    "L = np.linalg.cholesky(K_full)\n",
    "\n",
    "# covariance matrix\n",
    "inv_L = np.linalg.inv(L)\n",
    "inv_K_full = np.dot(inv_L.T, inv_L)\n",
    "\n",
    "N_star_freqs = N_freqs\n",
    "freq_star_vec = np.copy(freq_vec) #np.logspace(-4., 4., num=N_star_freqs, endpoint=True)\n",
    "omega_star_vec = 2.*pi*freq_star_vec\n",
    "\n",
    "mu_star_vec = np.zeros_like(omega_star_vec)\n",
    "sigma_star_vec = np.zeros_like(omega_star_vec)\n",
    "\n",
    "for index, omega_star in enumerate(omega_star_vec):\n",
    "    #print('iter = ', index+1, '/', N_star_freqs)\n",
    "    omega_star_np = np.array([omega_star])\n",
    "    k_star = GP_hilbert.mat_K(omega_vec, omega_star_np, ker_opts, 'im').flatten() + (sigma_L**2)*omega_vec*omega_star_np\n",
    "    k_star_star = GP_hilbert.mat_K(omega_star_np, omega_star_np, ker_opts, 'im').flatten() + (sigma_L**2)*omega_star_np**2\n",
    "    mu_star_vec[index] = k_star@(inv_K_full@Z_exp.imag)\n",
    "    sigma_star_vec[index] = np.sqrt(k_star_star - k_star@(inv_K_full@k_star))\n",
    "\n",
    "mu_star_vec = mu_star_vec\n",
    "sigma_star_vec = sigma_star_vec"
   ]
  },
  {
   "cell_type": "markdown",
   "metadata": {},
   "source": [
    "##### 2.4.2.2) Plot the outcome of the GP regression"
   ]
  },
  {
   "cell_type": "code",
   "execution_count": 14,
   "metadata": {},
   "outputs": [
    {
     "data": {
      "image/png": "[encoded data removed]",
      "text/plain": [
       "<Figure size 432x288 with 1 Axes>"
      ]
     },
     "metadata": {
      "needs_background": "light"
     },
     "output_type": "display_data"
    }
   ],
   "source": [
    "plt.fill_between(freq_star_vec, -mu_star_vec-3*sigma_star_vec, -mu_star_vec+3*sigma_star_vec,  facecolor='lightgrey')\n",
    "plt.fill_between(freq_star_vec, -mu_star_vec-2*sigma_star_vec, -mu_star_vec+2*sigma_star_vec,  facecolor='silver')\n",
    "plt.fill_between(freq_star_vec, -mu_star_vec-sigma_star_vec, -mu_star_vec+sigma_star_vec,  facecolor='grey')\n",
    "plt.semilogx(freq_star_vec, -mu_star_vec, linewidth=4, color='black', label='GP-HT')\n",
    "plt.semilogx(freq_vec,  -Z_exp.imag, 'o', markersize=5, color='red', label='exp')\n",
    "plt.xlim(freq_min, freq_max)\n",
    "plt.xscale('log')\n",
    "plt.xlabel(r'$f/{\\rm Hz}$', fontsize=20)\n",
    "plt.ylabel(r'$-Z_{\\rm im}/\\Omega$', fontsize=20)\n",
    "plt.legend(frameon=False, fontsize = 15)\n",
    "plt.show()"
   ]
  },
  {
   "cell_type": "markdown",
   "metadata": {},
   "source": [
    "## 3) Compute and plot the GP-HT "
   ]
  },
  {
   "cell_type": "markdown",
   "metadata": {},
   "source": [
    "### 3.1) Compute"
   ]
  },
  {
   "cell_type": "code",
   "execution_count": 15,
   "metadata": {},
   "outputs": [],
   "source": [
    "K_im = GP_hilbert.mat_K(omega_vec, omega_vec, ker_opts, 'im')\n",
    "Sigma = (sigma_n**2)*np.eye(N_freqs)\n",
    "K_full = K_im + Sigma + (sigma_L**2)*np.outer(omega_vec, omega_vec)\n",
    "\n",
    "# cholesky factorization\n",
    "L = np.linalg.cholesky(K_full)\n",
    "\n",
    "# covariance matrix\n",
    "inv_L = np.linalg.inv(L)\n",
    "inv_K_full = np.dot(inv_L.T, inv_L)\n",
    "\n",
    "# omega star is overwritten\n",
    "mu_star_vec = np.zeros_like(omega_star_vec)\n",
    "sigma_star_vec = np.zeros_like(omega_star_vec)\n",
    "\n",
    "\n",
    "for index, omega_star in enumerate(omega_star_vec):\n",
    "    omega_star_np = np.array([omega_star])\n",
    "    k_star = GP_hilbert.mat_K(omega_vec, omega_star_np, ker_opts, 'im-re').flatten()\n",
    "    k_star_star = GP_hilbert.mat_K(omega_star_np, omega_star_np, ker_opts, 're').flatten()\n",
    "    mu_star_vec[index] = k_star@(inv_K_full@Z_exp.imag)\n",
    "    sigma_star_vec[index] = np.sqrt(sigma_n**2 + k_star_star - k_star@(inv_K_full@k_star))\n"
   ]
  },
  {
   "cell_type": "markdown",
   "metadata": {},
   "source": [
    "### 3.2) Plot GP-HT prediction vs. experimental data"
   ]
  },
  {
   "cell_type": "code",
   "execution_count": 16,
   "metadata": {
    "scrolled": true
   },
   "outputs": [
    {
     "data": {
      "image/png": "[encoded data removed]",
      "text/plain": [
       "<Figure size 432x288 with 1 Axes>"
      ]
     },
     "metadata": {
      "needs_background": "light"
     },
     "output_type": "display_data"
    }
   ],
   "source": [
    "mu_R_inf = np.mean(Z_exp.real[-29:]-mu_star_vec[-29:])\n",
    "diff_re = mu_R_inf + mu_star_vec - Z_exp.real\n",
    "\n",
    "plt.fill_between(freq_star_vec, mu_R_inf+mu_star_vec-3*sigma_star_vec, mu_R_inf+mu_star_vec+3*sigma_star_vec,  facecolor='lightgrey')\n",
    "plt.fill_between(freq_star_vec, mu_R_inf+mu_star_vec-2*sigma_star_vec, mu_R_inf+mu_star_vec+2*sigma_star_vec,  facecolor='silver')\n",
    "plt.fill_between(freq_star_vec, mu_R_inf+mu_star_vec-sigma_star_vec, mu_R_inf+mu_star_vec+sigma_star_vec,  facecolor='grey')\n",
    "plt.semilogx(freq_star_vec, mu_R_inf+mu_star_vec, linewidth=4, color='black', label='GP-HT')\n",
    "plt.semilogx(freq_vec,  Z_exp.real, 'o', markersize=5, color='red', label='exp')\n",
    "plt.xlabel(r'$f/{\\rm Hz}$', fontsize=20)\n",
    "plt.ylabel(r'$Z_{\\rm re}/\\Omega$', fontsize = 20)\n",
    "\n",
    "plt.xlim(freq_min, freq_max)\n",
    "plt.xscale('log')\n",
    "plt.legend(frameon=False, fontsize = 15)\n",
    "\n",
    "plt.show()"
   ]
  },
  {
   "cell_type": "markdown",
   "metadata": {},
   "source": [
    "### 3.3) Show the residuals"
   ]
  },
  {
   "cell_type": "code",
   "execution_count": 17,
   "metadata": {},
   "outputs": [
    {
     "data": {
      "image/png": "[encoded data removed]",
      "text/plain": [
       "<Figure size 864x302.4 with 2 Axes>"
      ]
     },
     "metadata": {
      "needs_background": "light"
     },
     "output_type": "display_data"
    }
   ],
   "source": [
    "#  Combine the scatter plot with the density distribution\n",
    "fig = plt.figure(figsize=(12,4.2), constrained_layout=False)\n",
    "gs1 = fig.add_gridspec(nrows=1, ncols=4, left=0.05, right=0.48, wspace=0.5)\n",
    "ax1 = fig.add_subplot(gs1[0, :-1])\n",
    "ax2 = fig.add_subplot(gs1[0, -1])\n",
    "ax1.fill_between(freq_vec, -3*sigma_star_vec, 3*sigma_star_vec,  facecolor='lightgrey')\n",
    "ax1.fill_between(freq_vec, -2*sigma_star_vec, 2*sigma_star_vec,  facecolor='silver')\n",
    "ax1.fill_between(freq_vec, -sigma_star_vec, sigma_star_vec,  facecolor='grey')\n",
    "ax1.plot(freq_vec, diff_re, 'o', markersize=5, color='red')\n",
    "ax1.set_xlim(freq_min, freq_max)\n",
    "ax1.set_ylim(-100, 100)\n",
    "ax1.set_xscale('log')\n",
    "ax1.set_xlabel(r'$f/{\\rm Hz}$', fontsize=20)\n",
    "ax1.set_ylabel(r'$\\left(R_\\infty + Z_{\\rm H, re} - Z_{\\rm exp, re}\\right)/\\Omega$', fontsize=20)\n",
    "\n",
    "# density distribution plot\n",
    "sns.kdeplot(diff_re, ax=ax2, shade=True, color='grey', vertical=True)\n",
    "sns.rugplot(diff_re, ax=ax2, color='black', vertical=True)\n",
    "ax2.set_xlim(0, 0.5)\n",
    "ax2.set_xticks(np.arange(0., 0.51, 0.25))\n",
    "ax2.set_yticklabels([])\n",
    "ax2.set_ylim(-100, 100)\n",
    "ax2.set_xlabel(r'pdf',fontsize=20)\n",
    "\n",
    "plt.show()"
   ]
  }
 ],
 "metadata": {
  "kernelspec": {
   "display_name": "Python 3",
   "language": "python",
   "name": "python3"
  },
  "language_info": {
   "codemirror_mode": {
    "name": "ipython",
    "version": 3
   },
   "file_extension": ".py",
   "mimetype": "text/x-python",
   "name": "python",
   "nbconvert_exporter": "python",
   "pygments_lexer": "ipython3",
   "version": "3.7.7"
  }
 },
 "nbformat": 4,
 "nbformat_minor": 4
}
